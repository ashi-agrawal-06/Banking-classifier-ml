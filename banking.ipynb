{
  "nbformat": 4,
  "nbformat_minor": 0,
  "metadata": {
    "colab": {
      "name": "banking.ipynb",
      "provenance": [],
      "collapsed_sections": [],
      "include_colab_link": true
    },
    "kernelspec": {
      "name": "python3",
      "display_name": "Python 3"
    }
  },
  "cells": [
    {
      "cell_type": "markdown",
      "metadata": {
        "id": "view-in-github",
        "colab_type": "text"
      },
      "source": [
        "<a href=\"https://colab.research.google.com/github/ashi-agrawal-06/Banking-classifier-ml/blob/main/banking.ipynb\" target=\"_parent\"><img src=\"https://colab.research.google.com/assets/colab-badge.svg\" alt=\"Open In Colab\"/></a>"
      ]
    },
    {
      "cell_type": "code",
      "metadata": {
        "id": "mWvLB_hFUQLw",
        "colab": {
          "base_uri": "https://localhost:8080/",
          "height": 71
        },
        "outputId": "f46e3de1-f60a-4c13-e409-c02bc26dcfed"
      },
      "source": [
        "import pandas as pd\n",
        "import numpy as np\n",
        "import seaborn as sns\n",
        "import os\n",
        "import matplotlib.pyplot as plt"
      ],
      "execution_count": null,
      "outputs": [
        {
          "output_type": "stream",
          "text": [
            "/usr/local/lib/python3.6/dist-packages/statsmodels/tools/_testing.py:19: FutureWarning: pandas.util.testing is deprecated. Use the functions in the public API at pandas.testing instead.\n",
            "  import pandas.util.testing as tm\n"
          ],
          "name": "stderr"
        }
      ]
    },
    {
      "cell_type": "markdown",
      "metadata": {
        "id": "kubg756sp2L9"
      },
      "source": [
        "*First we begin with importing the libraries*\n",
        "**The libraries in the cell below will help us to select the best features required for a good result and ouput from the dataset**"
      ]
    },
    {
      "cell_type": "code",
      "metadata": {
        "id": "j9RxNaFPUUrR"
      },
      "source": [
        "from sklearn.feature_selection import SelectKBest\n",
        "from sklearn.feature_selection import RFE\n",
        "from sklearn.feature_selection import chi2\n",
        "from sklearn.decomposition import PCA\n",
        "from sklearn.ensemble import ExtraTreesClassifier\n"
      ],
      "execution_count": null,
      "outputs": []
    },
    {
      "cell_type": "markdown",
      "metadata": {
        "id": "yLYbsCztrp6w"
      },
      "source": [
        "The dataset below has been taken from **Kaggle.com**\n",
        "\n",
        "Our data is contaied in the file 'banking.csv' which is a comma seperated file\n",
        "\n",
        "We will use the *read_csv* function of the pandas library to read the file\n",
        "\n"
      ]
    },
    {
      "cell_type": "code",
      "metadata": {
        "id": "N4-FEcD5VBji"
      },
      "source": [
        "df=pd.read_csv('banking.csv')"
      ],
      "execution_count": null,
      "outputs": []
    },
    {
      "cell_type": "code",
      "metadata": {
        "id": "bd8bH6lqVWwu",
        "colab": {
          "base_uri": "https://localhost:8080/",
          "height": 224
        },
        "outputId": "5eb155ed-88b4-47c6-8f9f-c97300354826"
      },
      "source": [
        "df.head()"
      ],
      "execution_count": null,
      "outputs": [
        {
          "output_type": "execute_result",
          "data": {
            "text/html": [
              "<div>\n",
              "<style scoped>\n",
              "    .dataframe tbody tr th:only-of-type {\n",
              "        vertical-align: middle;\n",
              "    }\n",
              "\n",
              "    .dataframe tbody tr th {\n",
              "        vertical-align: top;\n",
              "    }\n",
              "\n",
              "    .dataframe thead th {\n",
              "        text-align: right;\n",
              "    }\n",
              "</style>\n",
              "<table border=\"1\" class=\"dataframe\">\n",
              "  <thead>\n",
              "    <tr style=\"text-align: right;\">\n",
              "      <th></th>\n",
              "      <th>age</th>\n",
              "      <th>job</th>\n",
              "      <th>marital</th>\n",
              "      <th>education</th>\n",
              "      <th>default</th>\n",
              "      <th>housing</th>\n",
              "      <th>loan</th>\n",
              "      <th>contact</th>\n",
              "      <th>month</th>\n",
              "      <th>day_of_week</th>\n",
              "      <th>duration</th>\n",
              "      <th>campaign</th>\n",
              "      <th>pdays</th>\n",
              "      <th>previous</th>\n",
              "      <th>poutcome</th>\n",
              "      <th>emp_var_rate</th>\n",
              "      <th>cons_price_idx</th>\n",
              "      <th>cons_conf_idx</th>\n",
              "      <th>euribor3m</th>\n",
              "      <th>nr_employed</th>\n",
              "      <th>y</th>\n",
              "    </tr>\n",
              "  </thead>\n",
              "  <tbody>\n",
              "    <tr>\n",
              "      <th>0</th>\n",
              "      <td>44</td>\n",
              "      <td>blue-collar</td>\n",
              "      <td>married</td>\n",
              "      <td>basic.4y</td>\n",
              "      <td>unknown</td>\n",
              "      <td>yes</td>\n",
              "      <td>no</td>\n",
              "      <td>cellular</td>\n",
              "      <td>aug</td>\n",
              "      <td>thu</td>\n",
              "      <td>210</td>\n",
              "      <td>1</td>\n",
              "      <td>999</td>\n",
              "      <td>0</td>\n",
              "      <td>nonexistent</td>\n",
              "      <td>1.4</td>\n",
              "      <td>93.444</td>\n",
              "      <td>-36.1</td>\n",
              "      <td>4.963</td>\n",
              "      <td>5228.1</td>\n",
              "      <td>0</td>\n",
              "    </tr>\n",
              "    <tr>\n",
              "      <th>1</th>\n",
              "      <td>53</td>\n",
              "      <td>technician</td>\n",
              "      <td>married</td>\n",
              "      <td>unknown</td>\n",
              "      <td>no</td>\n",
              "      <td>no</td>\n",
              "      <td>no</td>\n",
              "      <td>cellular</td>\n",
              "      <td>nov</td>\n",
              "      <td>fri</td>\n",
              "      <td>138</td>\n",
              "      <td>1</td>\n",
              "      <td>999</td>\n",
              "      <td>0</td>\n",
              "      <td>nonexistent</td>\n",
              "      <td>-0.1</td>\n",
              "      <td>93.200</td>\n",
              "      <td>-42.0</td>\n",
              "      <td>4.021</td>\n",
              "      <td>5195.8</td>\n",
              "      <td>0</td>\n",
              "    </tr>\n",
              "    <tr>\n",
              "      <th>2</th>\n",
              "      <td>28</td>\n",
              "      <td>management</td>\n",
              "      <td>single</td>\n",
              "      <td>university.degree</td>\n",
              "      <td>no</td>\n",
              "      <td>yes</td>\n",
              "      <td>no</td>\n",
              "      <td>cellular</td>\n",
              "      <td>jun</td>\n",
              "      <td>thu</td>\n",
              "      <td>339</td>\n",
              "      <td>3</td>\n",
              "      <td>6</td>\n",
              "      <td>2</td>\n",
              "      <td>success</td>\n",
              "      <td>-1.7</td>\n",
              "      <td>94.055</td>\n",
              "      <td>-39.8</td>\n",
              "      <td>0.729</td>\n",
              "      <td>4991.6</td>\n",
              "      <td>1</td>\n",
              "    </tr>\n",
              "    <tr>\n",
              "      <th>3</th>\n",
              "      <td>39</td>\n",
              "      <td>services</td>\n",
              "      <td>married</td>\n",
              "      <td>high.school</td>\n",
              "      <td>no</td>\n",
              "      <td>no</td>\n",
              "      <td>no</td>\n",
              "      <td>cellular</td>\n",
              "      <td>apr</td>\n",
              "      <td>fri</td>\n",
              "      <td>185</td>\n",
              "      <td>2</td>\n",
              "      <td>999</td>\n",
              "      <td>0</td>\n",
              "      <td>nonexistent</td>\n",
              "      <td>-1.8</td>\n",
              "      <td>93.075</td>\n",
              "      <td>-47.1</td>\n",
              "      <td>1.405</td>\n",
              "      <td>5099.1</td>\n",
              "      <td>0</td>\n",
              "    </tr>\n",
              "    <tr>\n",
              "      <th>4</th>\n",
              "      <td>55</td>\n",
              "      <td>retired</td>\n",
              "      <td>married</td>\n",
              "      <td>basic.4y</td>\n",
              "      <td>no</td>\n",
              "      <td>yes</td>\n",
              "      <td>no</td>\n",
              "      <td>cellular</td>\n",
              "      <td>aug</td>\n",
              "      <td>fri</td>\n",
              "      <td>137</td>\n",
              "      <td>1</td>\n",
              "      <td>3</td>\n",
              "      <td>1</td>\n",
              "      <td>success</td>\n",
              "      <td>-2.9</td>\n",
              "      <td>92.201</td>\n",
              "      <td>-31.4</td>\n",
              "      <td>0.869</td>\n",
              "      <td>5076.2</td>\n",
              "      <td>1</td>\n",
              "    </tr>\n",
              "  </tbody>\n",
              "</table>\n",
              "</div>"
            ],
            "text/plain": [
              "   age          job  marital  ... euribor3m nr_employed  y\n",
              "0   44  blue-collar  married  ...     4.963      5228.1  0\n",
              "1   53   technician  married  ...     4.021      5195.8  0\n",
              "2   28   management   single  ...     0.729      4991.6  1\n",
              "3   39     services  married  ...     1.405      5099.1  0\n",
              "4   55      retired  married  ...     0.869      5076.2  1\n",
              "\n",
              "[5 rows x 21 columns]"
            ]
          },
          "metadata": {
            "tags": []
          },
          "execution_count": 4
        }
      ]
    },
    {
      "cell_type": "code",
      "metadata": {
        "id": "CoWNNRm_VX1K",
        "colab": {
          "base_uri": "https://localhost:8080/",
          "height": 493
        },
        "outputId": "767b6316-7346-41e0-b427-d66dded94644"
      },
      "source": [
        "df.info()"
      ],
      "execution_count": null,
      "outputs": [
        {
          "output_type": "stream",
          "text": [
            "<class 'pandas.core.frame.DataFrame'>\n",
            "RangeIndex: 41188 entries, 0 to 41187\n",
            "Data columns (total 21 columns):\n",
            " #   Column          Non-Null Count  Dtype  \n",
            "---  ------          --------------  -----  \n",
            " 0   age             41188 non-null  int64  \n",
            " 1   job             41188 non-null  object \n",
            " 2   marital         41188 non-null  object \n",
            " 3   education       41188 non-null  object \n",
            " 4   default         41188 non-null  object \n",
            " 5   housing         41188 non-null  object \n",
            " 6   loan            41188 non-null  object \n",
            " 7   contact         41188 non-null  object \n",
            " 8   month           41188 non-null  object \n",
            " 9   day_of_week     41188 non-null  object \n",
            " 10  duration        41188 non-null  int64  \n",
            " 11  campaign        41188 non-null  int64  \n",
            " 12  pdays           41188 non-null  int64  \n",
            " 13  previous        41188 non-null  int64  \n",
            " 14  poutcome        41188 non-null  object \n",
            " 15  emp_var_rate    41188 non-null  float64\n",
            " 16  cons_price_idx  41188 non-null  float64\n",
            " 17  cons_conf_idx   41188 non-null  float64\n",
            " 18  euribor3m       41188 non-null  float64\n",
            " 19  nr_employed     41188 non-null  float64\n",
            " 20  y               41188 non-null  int64  \n",
            "dtypes: float64(5), int64(6), object(10)\n",
            "memory usage: 6.6+ MB\n"
          ],
          "name": "stdout"
        }
      ]
    },
    {
      "cell_type": "markdown",
      "metadata": {
        "id": "kuar6iIQIe7K"
      },
      "source": [
        "# Analysis of the variables"
      ]
    },
    {
      "cell_type": "markdown",
      "metadata": {
        "id": "9LzlJXcC7K2o"
      },
      "source": [
        "**STUDY OF NUMERICAL FEATURES**"
      ]
    },
    {
      "cell_type": "code",
      "metadata": {
        "id": "aKcsZI0rvmw3",
        "colab": {
          "base_uri": "https://localhost:8080/",
          "height": 312
        },
        "outputId": "8383ae64-c675-4436-d55b-d8222e61e01e"
      },
      "source": [
        "plt.hist(df['age'])\n",
        "# set x/y labels and plot title\n",
        "plt.xlabel(\"age\")\n",
        "plt.ylabel(\"count\")\n",
        "plt.title(\"Age bins\")"
      ],
      "execution_count": null,
      "outputs": [
        {
          "output_type": "execute_result",
          "data": {
            "text/plain": [
              "Text(0.5, 1.0, 'Age bins')"
            ]
          },
          "metadata": {
            "tags": []
          },
          "execution_count": 6
        },
        {
          "output_type": "display_data",
          "data": {
            "image/png": "[encoded data removed]",
            "text/plain": [
              "<Figure size 432x288 with 1 Axes>"
            ]
          },
          "metadata": {
            "tags": []
          }
        }
      ]
    },
    {
      "cell_type": "code",
      "metadata": {
        "id": "eh7uUd7Ex55I",
        "colab": {
          "base_uri": "https://localhost:8080/",
          "height": 34
        },
        "outputId": "4c5fbca2-e930-4b75-aa75-2237a73a450e"
      },
      "source": [
        "bins=np.linspace(min(df[\"age\"]), max(df[\"age\"]), 6)\n",
        "bins"
      ],
      "execution_count": null,
      "outputs": [
        {
          "output_type": "execute_result",
          "data": {
            "text/plain": [
              "array([17. , 33.2, 49.4, 65.6, 81.8, 98. ])"
            ]
          },
          "metadata": {
            "tags": []
          },
          "execution_count": 7
        }
      ]
    },
    {
      "cell_type": "code",
      "metadata": {
        "id": "HnCbUOgoyMqQ",
        "colab": {
          "base_uri": "https://localhost:8080/",
          "height": 300
        },
        "outputId": "37d4670c-b0c1-4d8c-8ff8-9840a5fbed0b"
      },
      "source": [
        "age_groups=['17-33','33-49','49-66','66-81','81-98']\n",
        "df['age_binned']=pd.cut(df['age'],bins,labels=age_groups, include_lowest=True)\n",
        "df[\"age_binned\"].value_counts().plot.bar()\n",
        "plt.title('AGE GROUPS BINS')\n",
        "df.drop(\"age_binned\",axis=1,inplace=True)"
      ],
      "execution_count": null,
      "outputs": [
        {
          "output_type": "display_data",
          "data": {
            "image/png": "[encoded data removed]",
            "text/plain": [
              "<Figure size 432x288 with 1 Axes>"
            ]
          },
          "metadata": {
            "tags": []
          }
        }
      ]
    },
    {
      "cell_type": "code",
      "metadata": {
        "id": "wcaAe3pj0qNB",
        "colab": {
          "base_uri": "https://localhost:8080/",
          "height": 312
        },
        "outputId": "a2c9e358-98c5-4859-e83f-d2661c9187ee"
      },
      "source": [
        "plt.hist(df['duration'])\n",
        "# set x/y labels and plot title\n",
        "plt.xlabel(\"duration\")\n",
        "plt.ylabel(\"count\")\n",
        "plt.title(\"Duration\")"
      ],
      "execution_count": null,
      "outputs": [
        {
          "output_type": "execute_result",
          "data": {
            "text/plain": [
              "Text(0.5, 1.0, 'Duration')"
            ]
          },
          "metadata": {
            "tags": []
          },
          "execution_count": 9
        },
        {
          "output_type": "display_data",
          "data": {
            "image/png": "[encoded data removed]",
            "text/plain": [
              "<Figure size 432x288 with 1 Axes>"
            ]
          },
          "metadata": {
            "tags": []
          }
        }
      ]
    },
    {
      "cell_type": "code",
      "metadata": {
        "id": "KubR8Cib1LnA",
        "colab": {
          "base_uri": "https://localhost:8080/",
          "height": 312
        },
        "outputId": "b3400fb2-5fea-442c-db3f-d7a0854efbe8"
      },
      "source": [
        "plt.hist(df['campaign'])\n",
        "plt.xlabel(\"campaign\")\n",
        "plt.ylabel(\"count\")\n",
        "plt.title(\"CAMPAIGN\")"
      ],
      "execution_count": null,
      "outputs": [
        {
          "output_type": "execute_result",
          "data": {
            "text/plain": [
              "Text(0.5, 1.0, 'CAMPAIGN')"
            ]
          },
          "metadata": {
            "tags": []
          },
          "execution_count": 10
        },
        {
          "output_type": "display_data",
          "data": {
            "image/png": "[encoded data removed]",
            "text/plain": [
              "<Figure size 432x288 with 1 Axes>"
            ]
          },
          "metadata": {
            "tags": []
          }
        }
      ]
    },
    {
      "cell_type": "code",
      "metadata": {
        "id": "RwVQupM61eZs",
        "colab": {
          "base_uri": "https://localhost:8080/",
          "height": 312
        },
        "outputId": "68415470-5007-4694-c7b9-0d713b97701c"
      },
      "source": [
        "plt.hist(df['pdays'])\n",
        "plt.xlabel(\"pdays\")\n",
        "plt.ylabel(\"count\")\n",
        "plt.title(\"Pdays\")"
      ],
      "execution_count": null,
      "outputs": [
        {
          "output_type": "execute_result",
          "data": {
            "text/plain": [
              "Text(0.5, 1.0, 'Pdays')"
            ]
          },
          "metadata": {
            "tags": []
          },
          "execution_count": 11
        },
        {
          "output_type": "display_data",
          "data": {
            "image/png": "[encoded data removed]",
            "text/plain": [
              "<Figure size 432x288 with 1 Axes>"
            ]
          },
          "metadata": {
            "tags": []
          }
        }
      ]
    },
    {
      "cell_type": "code",
      "metadata": {
        "id": "WJ_mHJlo1qll",
        "colab": {
          "base_uri": "https://localhost:8080/",
          "height": 312
        },
        "outputId": "41661219-7d34-4559-df85-5e0d6b9299cc"
      },
      "source": [
        "plt.hist(df['previous'])\n",
        "# set x/y labels and plot title\n",
        "plt.xlabel(\"previous\")\n",
        "plt.ylabel(\"count\")\n",
        "plt.title(\"PREVIOUS\")"
      ],
      "execution_count": null,
      "outputs": [
        {
          "output_type": "execute_result",
          "data": {
            "text/plain": [
              "Text(0.5, 1.0, 'PREVIOUS')"
            ]
          },
          "metadata": {
            "tags": []
          },
          "execution_count": 12
        },
        {
          "output_type": "display_data",
          "data": {
            "image/png": "[encoded data removed]",
            "text/plain": [
              "<Figure size 432x288 with 1 Axes>"
            ]
          },
          "metadata": {
            "tags": []
          }
        }
      ]
    },
    {
      "cell_type": "markdown",
      "metadata": {
        "id": "fsfYktJ561oh"
      },
      "source": [
        "Other similar plots"
      ]
    },
    {
      "cell_type": "code",
      "metadata": {
        "id": "q4DbUoQm5b3F",
        "colab": {
          "base_uri": "https://localhost:8080/",
          "height": 624
        },
        "outputId": "19e10439-4ca2-4eb6-96fe-c50d8ea2d276"
      },
      "source": [
        "plt.figure(figsize=(10,10))\n",
        "plt.subplot(221) #0,0\n",
        "plt.hist(df['previous'])\n",
        "plt.title('PREVIOUS COUNTS')\n",
        "plt.subplot(222) #0,1\n",
        "plt.hist(df['cons_price_idx'])\n",
        "plt.title('CONS_PRICE_IDX')\n",
        "plt.subplot(223) #1,0\n",
        "plt.hist(df['nr_employed'])\n",
        "plt.title('NR_EMPLOYED')\n",
        "plt.subplot(224) #1,1\n",
        "plt.hist(df['euribor3m'])\n",
        "plt.title('euribor3m')\n",
        "plt.show()\n",
        "plt.savefig('example.jpg',bbox='tight')"
      ],
      "execution_count": null,
      "outputs": [
        {
          "output_type": "display_data",
          "data": {
            "image/png": "[encoded data removed]",
            "text/plain": [
              "<Figure size 720x720 with 4 Axes>"
            ]
          },
          "metadata": {
            "tags": []
          }
        },
        {
          "output_type": "display_data",
          "data": {
            "text/plain": [
              "<Figure size 432x288 with 0 Axes>"
            ]
          },
          "metadata": {
            "tags": []
          }
        }
      ]
    },
    {
      "cell_type": "markdown",
      "metadata": {
        "id": "KGmPl39C68FN"
      },
      "source": [
        "**OBJECTIVE TYPE VARIABLE PLOTS**"
      ]
    },
    {
      "cell_type": "code",
      "metadata": {
        "id": "qsgg6FZJssBK",
        "colab": {
          "base_uri": "https://localhost:8080/",
          "height": 310
        },
        "outputId": "56e958e4-0023-4ca6-f33c-f7eb0f877fb3"
      },
      "source": [
        "df['month'].value_counts().plot.bar()\n",
        "plt.title('Month Counts')"
      ],
      "execution_count": null,
      "outputs": [
        {
          "output_type": "execute_result",
          "data": {
            "text/plain": [
              "Text(0.5, 1.0, 'Month Counts')"
            ]
          },
          "metadata": {
            "tags": []
          },
          "execution_count": 14
        },
        {
          "output_type": "display_data",
          "data": {
            "image/png": "[encoded data removed]",
            "text/plain": [
              "<Figure size 432x288 with 1 Axes>"
            ]
          },
          "metadata": {
            "tags": []
          }
        }
      ]
    },
    {
      "cell_type": "code",
      "metadata": {
        "id": "eGi8jAropz0m",
        "colab": {
          "base_uri": "https://localhost:8080/",
          "height": 359
        },
        "outputId": "16c3d06e-2ea2-4bcb-f2f5-060cdf7cd94c"
      },
      "source": [
        "df['job'].value_counts().plot.bar()\n",
        "plt.title('Job Counts')"
      ],
      "execution_count": null,
      "outputs": [
        {
          "output_type": "execute_result",
          "data": {
            "text/plain": [
              "Text(0.5, 1.0, 'Job Counts')"
            ]
          },
          "metadata": {
            "tags": []
          },
          "execution_count": 15
        },
        {
          "output_type": "display_data",
          "data": {
            "image/png": "[encoded data removed]",
            "text/plain": [
              "<Figure size 432x288 with 1 Axes>"
            ]
          },
          "metadata": {
            "tags": []
          }
        }
      ]
    },
    {
      "cell_type": "code",
      "metadata": {
        "id": "RjgtRyLUrHwS",
        "colab": {
          "base_uri": "https://localhost:8080/",
          "height": 386
        },
        "outputId": "968907be-145f-4a68-a79a-45458e0af92a"
      },
      "source": [
        "df['education'].value_counts().plot.bar()\n",
        "plt.title('Education Status')"
      ],
      "execution_count": null,
      "outputs": [
        {
          "output_type": "execute_result",
          "data": {
            "text/plain": [
              "Text(0.5, 1.0, 'Education Status')"
            ]
          },
          "metadata": {
            "tags": []
          },
          "execution_count": 16
        },
        {
          "output_type": "display_data",
          "data": {
            "image/png": "[encoded data removed]",
            "text/plain": [
              "<Figure size 432x288 with 1 Axes>"
            ]
          },
          "metadata": {
            "tags": []
          }
        }
      ]
    },
    {
      "cell_type": "code",
      "metadata": {
        "id": "Ddq3kHZmrWdT",
        "colab": {
          "base_uri": "https://localhost:8080/",
          "height": 334
        },
        "outputId": "79ac359a-a2fe-4890-c2ff-d12509966269"
      },
      "source": [
        "df['default'].value_counts().plot.bar()\n",
        "plt.title('Default Counts')"
      ],
      "execution_count": null,
      "outputs": [
        {
          "output_type": "execute_result",
          "data": {
            "text/plain": [
              "Text(0.5, 1.0, 'Default Counts')"
            ]
          },
          "metadata": {
            "tags": []
          },
          "execution_count": 17
        },
        {
          "output_type": "display_data",
          "data": {
            "image/png": "[encoded data removed]",
            "text/plain": [
              "<Figure size 432x288 with 1 Axes>"
            ]
          },
          "metadata": {
            "tags": []
          }
        }
      ]
    },
    {
      "cell_type": "code",
      "metadata": {
        "id": "LIC3LxWjreY5",
        "colab": {
          "base_uri": "https://localhost:8080/",
          "height": 334
        },
        "outputId": "d96cc4b7-6915-4ffc-a139-36905e75759c"
      },
      "source": [
        "df['housing'].value_counts().plot.bar()\n",
        "plt.title('Housing Status')"
      ],
      "execution_count": null,
      "outputs": [
        {
          "output_type": "execute_result",
          "data": {
            "text/plain": [
              "Text(0.5, 1.0, 'Housing Status')"
            ]
          },
          "metadata": {
            "tags": []
          },
          "execution_count": 18
        },
        {
          "output_type": "display_data",
          "data": {
            "image/png": "[encoded data removed]",
            "text/plain": [
              "<Figure size 432x288 with 1 Axes>"
            ]
          },
          "metadata": {
            "tags": []
          }
        }
      ]
    },
    {
      "cell_type": "code",
      "metadata": {
        "id": "IsOtQA3OrqJX",
        "colab": {
          "base_uri": "https://localhost:8080/",
          "height": 334
        },
        "outputId": "dc684a33-cf7f-4e5a-985e-68993de4d68e"
      },
      "source": [
        "df['loan'].value_counts().plot.bar()\n",
        "plt.title('Loan Status')"
      ],
      "execution_count": null,
      "outputs": [
        {
          "output_type": "execute_result",
          "data": {
            "text/plain": [
              "Text(0.5, 1.0, 'Loan Status')"
            ]
          },
          "metadata": {
            "tags": []
          },
          "execution_count": 19
        },
        {
          "output_type": "display_data",
          "data": {
            "image/png": "[encoded data removed]",
            "text/plain": [
              "<Figure size 432x288 with 1 Axes>"
            ]
          },
          "metadata": {
            "tags": []
          }
        }
      ]
    },
    {
      "cell_type": "code",
      "metadata": {
        "id": "xQbs57rmr00V",
        "colab": {
          "base_uri": "https://localhost:8080/",
          "height": 338
        },
        "outputId": "8d72b123-07fc-4229-e86f-2ed533e4e0a2"
      },
      "source": [
        "df['contact'].value_counts().plot.bar()\n",
        "plt.title('Contact Details')"
      ],
      "execution_count": null,
      "outputs": [
        {
          "output_type": "execute_result",
          "data": {
            "text/plain": [
              "Text(0.5, 1.0, 'Contact Details')"
            ]
          },
          "metadata": {
            "tags": []
          },
          "execution_count": 20
        },
        {
          "output_type": "display_data",
          "data": {
            "image/png": "[encoded data removed]",
            "text/plain": [
              "<Figure size 432x288 with 1 Axes>"
            ]
          },
          "metadata": {
            "tags": []
          }
        }
      ]
    },
    {
      "cell_type": "code",
      "metadata": {
        "id": "9jjpPD9dsBSc",
        "colab": {
          "base_uri": "https://localhost:8080/",
          "height": 310
        },
        "outputId": "fee08495-19f7-4856-b6ae-2a833ecc4f3e"
      },
      "source": [
        "df['month'].value_counts().plot.bar()\n",
        "plt.title('Month Counts')"
      ],
      "execution_count": null,
      "outputs": [
        {
          "output_type": "execute_result",
          "data": {
            "text/plain": [
              "Text(0.5, 1.0, 'Month Counts')"
            ]
          },
          "metadata": {
            "tags": []
          },
          "execution_count": 21
        },
        {
          "output_type": "display_data",
          "data": {
            "image/png": "[encoded data removed]",
            "text/plain": [
              "<Figure size 432x288 with 1 Axes>"
            ]
          },
          "metadata": {
            "tags": []
          }
        }
      ]
    },
    {
      "cell_type": "code",
      "metadata": {
        "id": "lUAtXIo5sKQ5",
        "colab": {
          "base_uri": "https://localhost:8080/",
          "height": 310
        },
        "outputId": "f4f249b3-87d2-487e-fe72-8d178d485661"
      },
      "source": [
        "df['day_of_week'].value_counts().plot.bar()\n",
        "plt.title('DAYS COUNTS')"
      ],
      "execution_count": null,
      "outputs": [
        {
          "output_type": "execute_result",
          "data": {
            "text/plain": [
              "Text(0.5, 1.0, 'DAYS COUNTS')"
            ]
          },
          "metadata": {
            "tags": []
          },
          "execution_count": 22
        },
        {
          "output_type": "display_data",
          "data": {
            "image/png": "[encoded data removed]",
            "text/plain": [
              "<Figure size 432x288 with 1 Axes>"
            ]
          },
          "metadata": {
            "tags": []
          }
        }
      ]
    },
    {
      "cell_type": "code",
      "metadata": {
        "id": "6kigXrbzscI3",
        "colab": {
          "base_uri": "https://localhost:8080/",
          "height": 347
        },
        "outputId": "72bec99d-569f-40a9-e33e-4b15716ef551"
      },
      "source": [
        "df['poutcome'].value_counts().plot.bar()\n",
        "plt.title('OUTCOME')"
      ],
      "execution_count": null,
      "outputs": [
        {
          "output_type": "execute_result",
          "data": {
            "text/plain": [
              "Text(0.5, 1.0, 'OUTCOME')"
            ]
          },
          "metadata": {
            "tags": []
          },
          "execution_count": 23
        },
        {
          "output_type": "display_data",
          "data": {
            "image/png": "[encoded data removed]",
            "text/plain": [
              "<Figure size 432x288 with 1 Axes>"
            ]
          },
          "metadata": {
            "tags": []
          }
        }
      ]
    },
    {
      "cell_type": "markdown",
      "metadata": {
        "id": "4rv2IhcaIS52"
      },
      "source": [
        "Analysis of the dependent variable 'Y'"
      ]
    },
    {
      "cell_type": "code",
      "metadata": {
        "id": "XyidnSSYH4T3",
        "colab": {
          "base_uri": "https://localhost:8080/",
          "height": 278
        },
        "outputId": "6447bb42-57fc-40e8-f330-9086df276826"
      },
      "source": [
        "df['y'].value_counts().plot.bar()\n",
        "plt.title('Here 0 means No and 1 means Yes')\n",
        "plt.show()"
      ],
      "execution_count": null,
      "outputs": [
        {
          "output_type": "display_data",
          "data": {
            "image/png": "[encoded data removed]",
            "text/plain": [
              "<Figure size 432x288 with 1 Axes>"
            ]
          },
          "metadata": {
            "tags": []
          }
        }
      ]
    },
    {
      "cell_type": "markdown",
      "metadata": {
        "id": "UN_YalD9tMwk"
      },
      "source": [
        "So the dataset contains 21 columns 41188 rows\n",
        "\n",
        "Since no column has any missing values(as we can see all the columns have 41188 non-null values), hence the dataset is cLeaned so we can proceed with further preprocessing"
      ]
    },
    {
      "cell_type": "markdown",
      "metadata": {
        "id": "lLATjDjfywdB"
      },
      "source": [
        "# **DATA SCALING/ DATA NORMALIZATION**"
      ]
    },
    {
      "cell_type": "markdown",
      "metadata": {
        "id": "pExtS1jrw_V9"
      },
      "source": [
        "In the cell below we have stored all the maximum values for any particular integer/floar type column so as to easily scale the values to be predicted or if any new entry is made to the dataset.\n",
        "\n",
        "Simulatenously we are also performing scaling by dividing each value with the maximum value of the column(for integer type columns). We could have also used StandardScaler() of the preprocessing class instead of this technique. But since we are considered with the analysis part and feature selection and not just building prediction model directly, this technique is often at time preferred. The scaling is done only on the independent columns. Here column 'y' is our dependent column. "
      ]
    },
    {
      "cell_type": "code",
      "metadata": {
        "id": "eS7TJvCTVi-U"
      },
      "source": [
        "d={}\n",
        "for i in df.columns:\n",
        "  if df[i].dtype=='float64' or df[i].dtype=='int64':\n",
        "    if i=='y':\n",
        "      continue\n",
        "    d.update({i:df[i].max()})\n",
        "    df[i]=df[i]/df[i].max()\n",
        "           "
      ],
      "execution_count": null,
      "outputs": []
    },
    {
      "cell_type": "code",
      "metadata": {
        "id": "i0UE1Nn2XDDO",
        "colab": {
          "base_uri": "https://localhost:8080/",
          "height": 187
        },
        "outputId": "156b6eba-8e60-423e-e79a-a0ce345c22e4"
      },
      "source": [
        "d"
      ],
      "execution_count": null,
      "outputs": [
        {
          "output_type": "execute_result",
          "data": {
            "text/plain": [
              "{'age': 98,\n",
              " 'campaign': 56,\n",
              " 'cons_conf_idx': -26.9,\n",
              " 'cons_price_idx': 94.76700000000001,\n",
              " 'duration': 4918,\n",
              " 'emp_var_rate': 1.4,\n",
              " 'euribor3m': 5.045,\n",
              " 'nr_employed': 5228.1,\n",
              " 'pdays': 999,\n",
              " 'previous': 7}"
            ]
          },
          "metadata": {
            "tags": []
          },
          "execution_count": 26
        }
      ]
    },
    {
      "cell_type": "markdown",
      "metadata": {
        "id": "2to-ZgCvynop"
      },
      "source": [
        "Below is now our scaled dataset."
      ]
    },
    {
      "cell_type": "code",
      "metadata": {
        "id": "KMAeb76jX8J-",
        "colab": {
          "base_uri": "https://localhost:8080/",
          "height": 224
        },
        "outputId": "6b4deac5-cd23-4041-a524-36fcbe9414aa"
      },
      "source": [
        "df.head()"
      ],
      "execution_count": null,
      "outputs": [
        {
          "output_type": "execute_result",
          "data": {
            "text/html": [
              "<div>\n",
              "<style scoped>\n",
              "    .dataframe tbody tr th:only-of-type {\n",
              "        vertical-align: middle;\n",
              "    }\n",
              "\n",
              "    .dataframe tbody tr th {\n",
              "        vertical-align: top;\n",
              "    }\n",
              "\n",
              "    .dataframe thead th {\n",
              "        text-align: right;\n",
              "    }\n",
              "</style>\n",
              "<table border=\"1\" class=\"dataframe\">\n",
              "  <thead>\n",
              "    <tr style=\"text-align: right;\">\n",
              "      <th></th>\n",
              "      <th>age</th>\n",
              "      <th>job</th>\n",
              "      <th>marital</th>\n",
              "      <th>education</th>\n",
              "      <th>default</th>\n",
              "      <th>housing</th>\n",
              "      <th>loan</th>\n",
              "      <th>contact</th>\n",
              "      <th>month</th>\n",
              "      <th>day_of_week</th>\n",
              "      <th>duration</th>\n",
              "      <th>campaign</th>\n",
              "      <th>pdays</th>\n",
              "      <th>previous</th>\n",
              "      <th>poutcome</th>\n",
              "      <th>emp_var_rate</th>\n",
              "      <th>cons_price_idx</th>\n",
              "      <th>cons_conf_idx</th>\n",
              "      <th>euribor3m</th>\n",
              "      <th>nr_employed</th>\n",
              "      <th>y</th>\n",
              "    </tr>\n",
              "  </thead>\n",
              "  <tbody>\n",
              "    <tr>\n",
              "      <th>0</th>\n",
              "      <td>0.448980</td>\n",
              "      <td>blue-collar</td>\n",
              "      <td>married</td>\n",
              "      <td>basic.4y</td>\n",
              "      <td>unknown</td>\n",
              "      <td>yes</td>\n",
              "      <td>no</td>\n",
              "      <td>cellular</td>\n",
              "      <td>aug</td>\n",
              "      <td>thu</td>\n",
              "      <td>0.042700</td>\n",
              "      <td>0.017857</td>\n",
              "      <td>1.000000</td>\n",
              "      <td>0.000000</td>\n",
              "      <td>nonexistent</td>\n",
              "      <td>1.000000</td>\n",
              "      <td>0.986039</td>\n",
              "      <td>1.342007</td>\n",
              "      <td>0.983746</td>\n",
              "      <td>1.000000</td>\n",
              "      <td>0</td>\n",
              "    </tr>\n",
              "    <tr>\n",
              "      <th>1</th>\n",
              "      <td>0.540816</td>\n",
              "      <td>technician</td>\n",
              "      <td>married</td>\n",
              "      <td>unknown</td>\n",
              "      <td>no</td>\n",
              "      <td>no</td>\n",
              "      <td>no</td>\n",
              "      <td>cellular</td>\n",
              "      <td>nov</td>\n",
              "      <td>fri</td>\n",
              "      <td>0.028060</td>\n",
              "      <td>0.017857</td>\n",
              "      <td>1.000000</td>\n",
              "      <td>0.000000</td>\n",
              "      <td>nonexistent</td>\n",
              "      <td>-0.071429</td>\n",
              "      <td>0.983465</td>\n",
              "      <td>1.561338</td>\n",
              "      <td>0.797027</td>\n",
              "      <td>0.993822</td>\n",
              "      <td>0</td>\n",
              "    </tr>\n",
              "    <tr>\n",
              "      <th>2</th>\n",
              "      <td>0.285714</td>\n",
              "      <td>management</td>\n",
              "      <td>single</td>\n",
              "      <td>university.degree</td>\n",
              "      <td>no</td>\n",
              "      <td>yes</td>\n",
              "      <td>no</td>\n",
              "      <td>cellular</td>\n",
              "      <td>jun</td>\n",
              "      <td>thu</td>\n",
              "      <td>0.068930</td>\n",
              "      <td>0.053571</td>\n",
              "      <td>0.006006</td>\n",
              "      <td>0.285714</td>\n",
              "      <td>success</td>\n",
              "      <td>-1.214286</td>\n",
              "      <td>0.992487</td>\n",
              "      <td>1.479554</td>\n",
              "      <td>0.144500</td>\n",
              "      <td>0.954764</td>\n",
              "      <td>1</td>\n",
              "    </tr>\n",
              "    <tr>\n",
              "      <th>3</th>\n",
              "      <td>0.397959</td>\n",
              "      <td>services</td>\n",
              "      <td>married</td>\n",
              "      <td>high.school</td>\n",
              "      <td>no</td>\n",
              "      <td>no</td>\n",
              "      <td>no</td>\n",
              "      <td>cellular</td>\n",
              "      <td>apr</td>\n",
              "      <td>fri</td>\n",
              "      <td>0.037617</td>\n",
              "      <td>0.035714</td>\n",
              "      <td>1.000000</td>\n",
              "      <td>0.000000</td>\n",
              "      <td>nonexistent</td>\n",
              "      <td>-1.285714</td>\n",
              "      <td>0.982146</td>\n",
              "      <td>1.750929</td>\n",
              "      <td>0.278494</td>\n",
              "      <td>0.975326</td>\n",
              "      <td>0</td>\n",
              "    </tr>\n",
              "    <tr>\n",
              "      <th>4</th>\n",
              "      <td>0.561224</td>\n",
              "      <td>retired</td>\n",
              "      <td>married</td>\n",
              "      <td>basic.4y</td>\n",
              "      <td>no</td>\n",
              "      <td>yes</td>\n",
              "      <td>no</td>\n",
              "      <td>cellular</td>\n",
              "      <td>aug</td>\n",
              "      <td>fri</td>\n",
              "      <td>0.027857</td>\n",
              "      <td>0.017857</td>\n",
              "      <td>0.003003</td>\n",
              "      <td>0.142857</td>\n",
              "      <td>success</td>\n",
              "      <td>-2.071429</td>\n",
              "      <td>0.972923</td>\n",
              "      <td>1.167286</td>\n",
              "      <td>0.172250</td>\n",
              "      <td>0.970945</td>\n",
              "      <td>1</td>\n",
              "    </tr>\n",
              "  </tbody>\n",
              "</table>\n",
              "</div>"
            ],
            "text/plain": [
              "        age          job  marital  ... euribor3m nr_employed  y\n",
              "0  0.448980  blue-collar  married  ...  0.983746    1.000000  0\n",
              "1  0.540816   technician  married  ...  0.797027    0.993822  0\n",
              "2  0.285714   management   single  ...  0.144500    0.954764  1\n",
              "3  0.397959     services  married  ...  0.278494    0.975326  0\n",
              "4  0.561224      retired  married  ...  0.172250    0.970945  1\n",
              "\n",
              "[5 rows x 21 columns]"
            ]
          },
          "metadata": {
            "tags": []
          },
          "execution_count": 27
        }
      ]
    },
    {
      "cell_type": "markdown",
      "metadata": {
        "id": "03Q1BFomz3m_"
      },
      "source": [
        "# **LABEL ENCODING**"
      ]
    },
    {
      "cell_type": "markdown",
      "metadata": {
        "id": "HHoa4Hqnz_dL"
      },
      "source": [
        "Now, after scaling we will perform label encoding on the *object* type columns"
      ]
    },
    {
      "cell_type": "markdown",
      "metadata": {
        "id": "jqVuQV5e05BQ"
      },
      "source": [
        "class sklearn.preprocessing.LabelEncoder can:\n",
        "  \n",
        "1.  Encode target labels with value between 0 and n_classes-1 \n",
        "2.  LabelEncoder can be used to normalize labels.\n",
        "3.  It can also be used to transform non-numerical labels (as long as they are hashable and comparable) to numerical labels.\n",
        "\n"
      ]
    },
    {
      "cell_type": "code",
      "metadata": {
        "id": "fkC1R8XrfHQa"
      },
      "source": [
        "from sklearn.preprocessing import LabelEncoder"
      ],
      "execution_count": null,
      "outputs": []
    },
    {
      "cell_type": "markdown",
      "metadata": {
        "id": "GLXOifAb10z_"
      },
      "source": [
        "Since we have 10 object type columns in our dataset so we will label encode the 10 columns. In the cell above we have imported the LabelEncoder feature of the preprocessing from sklearn. \n",
        "\n",
        "Now, we will create 10 objects of the LabelEnocder() "
      ]
    },
    {
      "cell_type": "code",
      "metadata": {
        "id": "UCY72z7YX9jl"
      },
      "source": [
        "n1=LabelEncoder()\n",
        "n2=LabelEncoder()\n",
        "n3=LabelEncoder()\n",
        "n4=LabelEncoder()\n",
        "n5=LabelEncoder()\n",
        "n6=LabelEncoder()\n",
        "n7=LabelEncoder()\n",
        "n8=LabelEncoder()\n",
        "n9=LabelEncoder()\n",
        "n10=LabelEncoder()\n",
        "\n",
        "    "
      ],
      "execution_count": null,
      "outputs": []
    },
    {
      "cell_type": "markdown",
      "metadata": {
        "id": "7mygI1qU23z8"
      },
      "source": [
        "We have done labelecoding on these many columns:"
      ]
    },
    {
      "cell_type": "code",
      "metadata": {
        "id": "0V0qJhUpgaKa",
        "colab": {
          "base_uri": "https://localhost:8080/",
          "height": 187
        },
        "outputId": "4bfe301a-49dc-4678-bec5-0d8af731ca34"
      },
      "source": [
        "for i in df.columns:\n",
        "  if df[i].dtype=='O':\n",
        "    print(i)"
      ],
      "execution_count": null,
      "outputs": [
        {
          "output_type": "stream",
          "text": [
            "job\n",
            "marital\n",
            "education\n",
            "default\n",
            "housing\n",
            "loan\n",
            "contact\n",
            "month\n",
            "day_of_week\n",
            "poutcome\n"
          ],
          "name": "stdout"
        }
      ]
    },
    {
      "cell_type": "markdown",
      "metadata": {
        "id": "yYmR8K1F3FFS"
      },
      "source": [
        "Now we will perform the encoding using fit_transform()"
      ]
    },
    {
      "cell_type": "code",
      "metadata": {
        "id": "8IZxlNMrhuxC"
      },
      "source": [
        "df[\"job\"]=n1.fit_transform(df[\"job\"])"
      ],
      "execution_count": null,
      "outputs": []
    },
    {
      "cell_type": "code",
      "metadata": {
        "id": "m2uPp9o3iG5o"
      },
      "source": [
        "df[\"marital\"]=n2.fit_transform(df[\"marital\"])\n",
        "df[\"education\"]=n3.fit_transform(df[\"education\"])\n",
        "df[\"default\"]=n4.fit_transform(df[\"default\"])\n",
        "df[\"housing\"]=n5.fit_transform(df[\"housing\"])\n",
        "df[\"loan\"]=n6.fit_transform(df[\"loan\"])\n",
        "df[\"contact\"]=n7.fit_transform(df[\"contact\"])\n",
        "df[\"month\"]=n8.fit_transform(df[\"month\"])\n",
        "df[\"day_of_week\"]=n9.fit_transform(df[\"day_of_week\"])\n",
        "df[\"poutcome\"]=n10.fit_transform(df[\"poutcome\"])\n"
      ],
      "execution_count": null,
      "outputs": []
    },
    {
      "cell_type": "markdown",
      "metadata": {
        "id": "-Dp1roPA3q15"
      },
      "source": [
        "Since columns 'emp_var_rate' has very fluctuating negative values so we will drop it "
      ]
    },
    {
      "cell_type": "code",
      "metadata": {
        "id": "NNp6qySokhJH"
      },
      "source": [
        "df.drop(\"emp_var_rate\",axis=1,inplace=True)"
      ],
      "execution_count": null,
      "outputs": []
    },
    {
      "cell_type": "code",
      "metadata": {
        "id": "b9hQ8gVmjBPf",
        "colab": {
          "base_uri": "https://localhost:8080/",
          "height": 224
        },
        "outputId": "ea9a0459-2f19-474e-99cb-50d0ec5060a7"
      },
      "source": [
        "df.head()"
      ],
      "execution_count": null,
      "outputs": [
        {
          "output_type": "execute_result",
          "data": {
            "text/html": [
              "<div>\n",
              "<style scoped>\n",
              "    .dataframe tbody tr th:only-of-type {\n",
              "        vertical-align: middle;\n",
              "    }\n",
              "\n",
              "    .dataframe tbody tr th {\n",
              "        vertical-align: top;\n",
              "    }\n",
              "\n",
              "    .dataframe thead th {\n",
              "        text-align: right;\n",
              "    }\n",
              "</style>\n",
              "<table border=\"1\" class=\"dataframe\">\n",
              "  <thead>\n",
              "    <tr style=\"text-align: right;\">\n",
              "      <th></th>\n",
              "      <th>age</th>\n",
              "      <th>job</th>\n",
              "      <th>marital</th>\n",
              "      <th>education</th>\n",
              "      <th>default</th>\n",
              "      <th>housing</th>\n",
              "      <th>loan</th>\n",
              "      <th>contact</th>\n",
              "      <th>month</th>\n",
              "      <th>day_of_week</th>\n",
              "      <th>duration</th>\n",
              "      <th>campaign</th>\n",
              "      <th>pdays</th>\n",
              "      <th>previous</th>\n",
              "      <th>poutcome</th>\n",
              "      <th>cons_price_idx</th>\n",
              "      <th>cons_conf_idx</th>\n",
              "      <th>euribor3m</th>\n",
              "      <th>nr_employed</th>\n",
              "      <th>y</th>\n",
              "    </tr>\n",
              "  </thead>\n",
              "  <tbody>\n",
              "    <tr>\n",
              "      <th>0</th>\n",
              "      <td>0.448980</td>\n",
              "      <td>1</td>\n",
              "      <td>1</td>\n",
              "      <td>0</td>\n",
              "      <td>1</td>\n",
              "      <td>2</td>\n",
              "      <td>0</td>\n",
              "      <td>0</td>\n",
              "      <td>1</td>\n",
              "      <td>2</td>\n",
              "      <td>0.042700</td>\n",
              "      <td>0.017857</td>\n",
              "      <td>1.000000</td>\n",
              "      <td>0.000000</td>\n",
              "      <td>1</td>\n",
              "      <td>0.986039</td>\n",
              "      <td>1.342007</td>\n",
              "      <td>0.983746</td>\n",
              "      <td>1.000000</td>\n",
              "      <td>0</td>\n",
              "    </tr>\n",
              "    <tr>\n",
              "      <th>1</th>\n",
              "      <td>0.540816</td>\n",
              "      <td>9</td>\n",
              "      <td>1</td>\n",
              "      <td>7</td>\n",
              "      <td>0</td>\n",
              "      <td>0</td>\n",
              "      <td>0</td>\n",
              "      <td>0</td>\n",
              "      <td>7</td>\n",
              "      <td>0</td>\n",
              "      <td>0.028060</td>\n",
              "      <td>0.017857</td>\n",
              "      <td>1.000000</td>\n",
              "      <td>0.000000</td>\n",
              "      <td>1</td>\n",
              "      <td>0.983465</td>\n",
              "      <td>1.561338</td>\n",
              "      <td>0.797027</td>\n",
              "      <td>0.993822</td>\n",
              "      <td>0</td>\n",
              "    </tr>\n",
              "    <tr>\n",
              "      <th>2</th>\n",
              "      <td>0.285714</td>\n",
              "      <td>4</td>\n",
              "      <td>2</td>\n",
              "      <td>6</td>\n",
              "      <td>0</td>\n",
              "      <td>2</td>\n",
              "      <td>0</td>\n",
              "      <td>0</td>\n",
              "      <td>4</td>\n",
              "      <td>2</td>\n",
              "      <td>0.068930</td>\n",
              "      <td>0.053571</td>\n",
              "      <td>0.006006</td>\n",
              "      <td>0.285714</td>\n",
              "      <td>2</td>\n",
              "      <td>0.992487</td>\n",
              "      <td>1.479554</td>\n",
              "      <td>0.144500</td>\n",
              "      <td>0.954764</td>\n",
              "      <td>1</td>\n",
              "    </tr>\n",
              "    <tr>\n",
              "      <th>3</th>\n",
              "      <td>0.397959</td>\n",
              "      <td>7</td>\n",
              "      <td>1</td>\n",
              "      <td>3</td>\n",
              "      <td>0</td>\n",
              "      <td>0</td>\n",
              "      <td>0</td>\n",
              "      <td>0</td>\n",
              "      <td>0</td>\n",
              "      <td>0</td>\n",
              "      <td>0.037617</td>\n",
              "      <td>0.035714</td>\n",
              "      <td>1.000000</td>\n",
              "      <td>0.000000</td>\n",
              "      <td>1</td>\n",
              "      <td>0.982146</td>\n",
              "      <td>1.750929</td>\n",
              "      <td>0.278494</td>\n",
              "      <td>0.975326</td>\n",
              "      <td>0</td>\n",
              "    </tr>\n",
              "    <tr>\n",
              "      <th>4</th>\n",
              "      <td>0.561224</td>\n",
              "      <td>5</td>\n",
              "      <td>1</td>\n",
              "      <td>0</td>\n",
              "      <td>0</td>\n",
              "      <td>2</td>\n",
              "      <td>0</td>\n",
              "      <td>0</td>\n",
              "      <td>1</td>\n",
              "      <td>0</td>\n",
              "      <td>0.027857</td>\n",
              "      <td>0.017857</td>\n",
              "      <td>0.003003</td>\n",
              "      <td>0.142857</td>\n",
              "      <td>2</td>\n",
              "      <td>0.972923</td>\n",
              "      <td>1.167286</td>\n",
              "      <td>0.172250</td>\n",
              "      <td>0.970945</td>\n",
              "      <td>1</td>\n",
              "    </tr>\n",
              "  </tbody>\n",
              "</table>\n",
              "</div>"
            ],
            "text/plain": [
              "        age  job  marital  education  ...  cons_conf_idx  euribor3m  nr_employed  y\n",
              "0  0.448980    1        1          0  ...       1.342007   0.983746     1.000000  0\n",
              "1  0.540816    9        1          7  ...       1.561338   0.797027     0.993822  0\n",
              "2  0.285714    4        2          6  ...       1.479554   0.144500     0.954764  1\n",
              "3  0.397959    7        1          3  ...       1.750929   0.278494     0.975326  0\n",
              "4  0.561224    5        1          0  ...       1.167286   0.172250     0.970945  1\n",
              "\n",
              "[5 rows x 20 columns]"
            ]
          },
          "metadata": {
            "tags": []
          },
          "execution_count": 34
        }
      ]
    },
    {
      "cell_type": "code",
      "metadata": {
        "id": "L_-Rsd565zr8"
      },
      "source": [
        "dfcorr=df.corr()"
      ],
      "execution_count": null,
      "outputs": []
    },
    {
      "cell_type": "code",
      "metadata": {
        "id": "ixeJz0Yo535r",
        "colab": {
          "base_uri": "https://localhost:8080/",
          "height": 374
        },
        "outputId": "9591254f-6fe6-4bcf-d914-5601a2da1125"
      },
      "source": [
        "dfcorr['y']"
      ],
      "execution_count": null,
      "outputs": [
        {
          "output_type": "execute_result",
          "data": {
            "text/plain": [
              "age               0.030399\n",
              "job               0.025122\n",
              "marital           0.046203\n",
              "education         0.057799\n",
              "default          -0.099352\n",
              "housing           0.011552\n",
              "loan             -0.004909\n",
              "contact          -0.144773\n",
              "month            -0.006065\n",
              "day_of_week       0.015967\n",
              "duration          0.405274\n",
              "campaign         -0.066357\n",
              "pdays            -0.324914\n",
              "previous          0.230181\n",
              "poutcome          0.129789\n",
              "cons_price_idx   -0.136211\n",
              "cons_conf_idx    -0.054878\n",
              "euribor3m        -0.307771\n",
              "nr_employed      -0.354678\n",
              "y                 1.000000\n",
              "Name: y, dtype: float64"
            ]
          },
          "metadata": {
            "tags": []
          },
          "execution_count": 36
        }
      ]
    },
    {
      "cell_type": "code",
      "metadata": {
        "id": "OhcFu2xT6PTC",
        "colab": {
          "base_uri": "https://localhost:8080/",
          "height": 480
        },
        "outputId": "1b36d118-a70e-4455-9e85-66cfd62b58b5"
      },
      "source": [
        "dfcorr.style.background_gradient()"
      ],
      "execution_count": null,
      "outputs": [
        {
          "output_type": "execute_result",
          "data": {
            "text/html": [
              "<style  type=\"text/css\" >\n",
              "    #T_95585148_7788_11ea_a8dd_0242ac1c0002row0_col0 {\n",
              "            background-color:  #023858;\n",
              "            color:  #f1f1f1;\n",
              "        }    #T_95585148_7788_11ea_a8dd_0242ac1c0002row0_col1 {\n",
              "            background-color:  #f7f0f7;\n",
              "            color:  #000000;\n",
              "        }    #T_95585148_7788_11ea_a8dd_0242ac1c0002row0_col2 {\n",
              "            background-color:  #fff7fb;\n",
              "            color:  #000000;\n",
              "        }    #T_95585148_7788_11ea_a8dd_0242ac1c0002row0_col3 {\n",
              "            background-color:  #f7f0f7;\n",
              "            color:  #000000;\n",
              "        }    #T_95585148_7788_11ea_a8dd_0242ac1c0002row0_col4 {\n",
              "            background-color:  #c1cae2;\n",
              "            color:  #000000;\n",
              "        }    #T_95585148_7788_11ea_a8dd_0242ac1c0002row0_col5 {\n",
              "            background-color:  #f4edf6;\n",
              "            color:  #000000;\n",
              "        }    #T_95585148_7788_11ea_a8dd_0242ac1c0002row0_col6 {\n",
              "            background-color:  #fff7fb;\n",
              "            color:  #000000;\n",
              "        }    #T_95585148_7788_11ea_a8dd_0242ac1c0002row0_col7 {\n",
              "            background-color:  #dad9ea;\n",
              "            color:  #000000;\n",
              "        }    #T_95585148_7788_11ea_a8dd_0242ac1c0002row0_col8 {\n",
              "            background-color:  #e4e1ef;\n",
              "            color:  #000000;\n",
              "        }    #T_95585148_7788_11ea_a8dd_0242ac1c0002row0_col9 {\n",
              "            background-color:  #fcf4fa;\n",
              "            color:  #000000;\n",
              "        }    #T_95585148_7788_11ea_a8dd_0242ac1c0002row0_col10 {\n",
              "            background-color:  #f5eff6;\n",
              "            color:  #000000;\n",
              "        }    #T_95585148_7788_11ea_a8dd_0242ac1c0002row0_col11 {\n",
              "            background-color:  #f4edf6;\n",
              "            color:  #000000;\n",
              "        }    #T_95585148_7788_11ea_a8dd_0242ac1c0002row0_col12 {\n",
              "            background-color:  #afc1dd;\n",
              "            color:  #000000;\n",
              "        }    #T_95585148_7788_11ea_a8dd_0242ac1c0002row0_col13 {\n",
              "            background-color:  #a2bcda;\n",
              "            color:  #000000;\n",
              "        }    #T_95585148_7788_11ea_a8dd_0242ac1c0002row0_col14 {\n",
              "            background-color:  #b4c4df;\n",
              "            color:  #000000;\n",
              "        }    #T_95585148_7788_11ea_a8dd_0242ac1c0002row0_col15 {\n",
              "            background-color:  #e2dfee;\n",
              "            color:  #000000;\n",
              "        }    #T_95585148_7788_11ea_a8dd_0242ac1c0002row0_col16 {\n",
              "            background-color:  #eee8f3;\n",
              "            color:  #000000;\n",
              "        }    #T_95585148_7788_11ea_a8dd_0242ac1c0002row0_col17 {\n",
              "            background-color:  #b9c6e0;\n",
              "            color:  #000000;\n",
              "        }    #T_95585148_7788_11ea_a8dd_0242ac1c0002row0_col18 {\n",
              "            background-color:  #b8c6e0;\n",
              "            color:  #000000;\n",
              "        }    #T_95585148_7788_11ea_a8dd_0242ac1c0002row0_col19 {\n",
              "            background-color:  #c5cce3;\n",
              "            color:  #000000;\n",
              "        }    #T_95585148_7788_11ea_a8dd_0242ac1c0002row1_col0 {\n",
              "            background-color:  #c5cce3;\n",
              "            color:  #000000;\n",
              "        }    #T_95585148_7788_11ea_a8dd_0242ac1c0002row1_col1 {\n",
              "            background-color:  #023858;\n",
              "            color:  #f1f1f1;\n",
              "        }    #T_95585148_7788_11ea_a8dd_0242ac1c0002row1_col2 {\n",
              "            background-color:  #c0c9e2;\n",
              "            color:  #000000;\n",
              "        }    #T_95585148_7788_11ea_a8dd_0242ac1c0002row1_col3 {\n",
              "            background-color:  #c9cee4;\n",
              "            color:  #000000;\n",
              "        }    #T_95585148_7788_11ea_a8dd_0242ac1c0002row1_col4 {\n",
              "            background-color:  #eae6f1;\n",
              "            color:  #000000;\n",
              "        }    #T_95585148_7788_11ea_a8dd_0242ac1c0002row1_col5 {\n",
              "            background-color:  #f2ecf5;\n",
              "            color:  #000000;\n",
              "        }    #T_95585148_7788_11ea_a8dd_0242ac1c0002row1_col6 {\n",
              "            background-color:  #fff7fb;\n",
              "            color:  #000000;\n",
              "        }    #T_95585148_7788_11ea_a8dd_0242ac1c0002row1_col7 {\n",
              "            background-color:  #e0dded;\n",
              "            color:  #000000;\n",
              "        }    #T_95585148_7788_11ea_a8dd_0242ac1c0002row1_col8 {\n",
              "            background-color:  #e6e2ef;\n",
              "            color:  #000000;\n",
              "        }    #T_95585148_7788_11ea_a8dd_0242ac1c0002row1_col9 {\n",
              "            background-color:  #faf2f8;\n",
              "            color:  #000000;\n",
              "        }    #T_95585148_7788_11ea_a8dd_0242ac1c0002row1_col10 {\n",
              "            background-color:  #f6eff7;\n",
              "            color:  #000000;\n",
              "        }    #T_95585148_7788_11ea_a8dd_0242ac1c0002row1_col11 {\n",
              "            background-color:  #f5eef6;\n",
              "            color:  #000000;\n",
              "        }    #T_95585148_7788_11ea_a8dd_0242ac1c0002row1_col12 {\n",
              "            background-color:  #adc1dd;\n",
              "            color:  #000000;\n",
              "        }    #T_95585148_7788_11ea_a8dd_0242ac1c0002row1_col13 {\n",
              "            background-color:  #a2bcda;\n",
              "            color:  #000000;\n",
              "        }    #T_95585148_7788_11ea_a8dd_0242ac1c0002row1_col14 {\n",
              "            background-color:  #b5c4df;\n",
              "            color:  #000000;\n",
              "        }    #T_95585148_7788_11ea_a8dd_0242ac1c0002row1_col15 {\n",
              "            background-color:  #e6e2ef;\n",
              "            color:  #000000;\n",
              "        }    #T_95585148_7788_11ea_a8dd_0242ac1c0002row1_col16 {\n",
              "            background-color:  #e0deed;\n",
              "            color:  #000000;\n",
              "        }    #T_95585148_7788_11ea_a8dd_0242ac1c0002row1_col17 {\n",
              "            background-color:  #bdc8e1;\n",
              "            color:  #000000;\n",
              "        }    #T_95585148_7788_11ea_a8dd_0242ac1c0002row1_col18 {\n",
              "            background-color:  #b8c6e0;\n",
              "            color:  #000000;\n",
              "        }    #T_95585148_7788_11ea_a8dd_0242ac1c0002row1_col19 {\n",
              "            background-color:  #c6cce3;\n",
              "            color:  #000000;\n",
              "        }    #T_95585148_7788_11ea_a8dd_0242ac1c0002row2_col0 {\n",
              "            background-color:  #fff7fb;\n",
              "            color:  #000000;\n",
              "        }    #T_95585148_7788_11ea_a8dd_0242ac1c0002row2_col1 {\n",
              "            background-color:  #f4edf6;\n",
              "            color:  #000000;\n",
              "        }    #T_95585148_7788_11ea_a8dd_0242ac1c0002row2_col2 {\n",
              "            background-color:  #023858;\n",
              "            color:  #f1f1f1;\n",
              "        }    #T_95585148_7788_11ea_a8dd_0242ac1c0002row2_col3 {\n",
              "            background-color:  #d1d2e6;\n",
              "            color:  #000000;\n",
              "        }    #T_95585148_7788_11ea_a8dd_0242ac1c0002row2_col4 {\n",
              "            background-color:  #f1ebf5;\n",
              "            color:  #000000;\n",
              "        }    #T_95585148_7788_11ea_a8dd_0242ac1c0002row2_col5 {\n",
              "            background-color:  #f2ecf5;\n",
              "            color:  #000000;\n",
              "        }    #T_95585148_7788_11ea_a8dd_0242ac1c0002row2_col6 {\n",
              "            background-color:  #fdf5fa;\n",
              "            color:  #000000;\n",
              "        }    #T_95585148_7788_11ea_a8dd_0242ac1c0002row2_col7 {\n",
              "            background-color:  #e5e1ef;\n",
              "            color:  #000000;\n",
              "        }    #T_95585148_7788_11ea_a8dd_0242ac1c0002row2_col8 {\n",
              "            background-color:  #e1dfed;\n",
              "            color:  #000000;\n",
              "        }    #T_95585148_7788_11ea_a8dd_0242ac1c0002row2_col9 {\n",
              "            background-color:  #f9f2f8;\n",
              "            color:  #000000;\n",
              "        }    #T_95585148_7788_11ea_a8dd_0242ac1c0002row2_col10 {\n",
              "            background-color:  #f4edf6;\n",
              "            color:  #000000;\n",
              "        }    #T_95585148_7788_11ea_a8dd_0242ac1c0002row2_col11 {\n",
              "            background-color:  #f5eef6;\n",
              "            color:  #000000;\n",
              "        }    #T_95585148_7788_11ea_a8dd_0242ac1c0002row2_col12 {\n",
              "            background-color:  #b0c2de;\n",
              "            color:  #000000;\n",
              "        }    #T_95585148_7788_11ea_a8dd_0242ac1c0002row2_col13 {\n",
              "            background-color:  #9fbad9;\n",
              "            color:  #000000;\n",
              "        }    #T_95585148_7788_11ea_a8dd_0242ac1c0002row2_col14 {\n",
              "            background-color:  #b8c6e0;\n",
              "            color:  #000000;\n",
              "        }    #T_95585148_7788_11ea_a8dd_0242ac1c0002row2_col15 {\n",
              "            background-color:  #ede8f3;\n",
              "            color:  #000000;\n",
              "        }    #T_95585148_7788_11ea_a8dd_0242ac1c0002row2_col16 {\n",
              "            background-color:  #d2d2e7;\n",
              "            color:  #000000;\n",
              "        }    #T_95585148_7788_11ea_a8dd_0242ac1c0002row2_col17 {\n",
              "            background-color:  #d1d2e6;\n",
              "            color:  #000000;\n",
              "        }    #T_95585148_7788_11ea_a8dd_0242ac1c0002row2_col18 {\n",
              "            background-color:  #c8cde4;\n",
              "            color:  #000000;\n",
              "        }    #T_95585148_7788_11ea_a8dd_0242ac1c0002row2_col19 {\n",
              "            background-color:  #c1cae2;\n",
              "            color:  #000000;\n",
              "        }    #T_95585148_7788_11ea_a8dd_0242ac1c0002row3_col0 {\n",
              "            background-color:  #dcdaeb;\n",
              "            color:  #000000;\n",
              "        }    #T_95585148_7788_11ea_a8dd_0242ac1c0002row3_col1 {\n",
              "            background-color:  #e0deed;\n",
              "            color:  #000000;\n",
              "        }    #T_95585148_7788_11ea_a8dd_0242ac1c0002row3_col2 {\n",
              "            background-color:  #acc0dd;\n",
              "            color:  #000000;\n",
              "        }    #T_95585148_7788_11ea_a8dd_0242ac1c0002row3_col3 {\n",
              "            background-color:  #023858;\n",
              "            color:  #f1f1f1;\n",
              "        }    #T_95585148_7788_11ea_a8dd_0242ac1c0002row3_col4 {\n",
              "            background-color:  #fff7fb;\n",
              "            color:  #000000;\n",
              "        }    #T_95585148_7788_11ea_a8dd_0242ac1c0002row3_col5 {\n",
              "            background-color:  #f1ebf5;\n",
              "            color:  #000000;\n",
              "        }    #T_95585148_7788_11ea_a8dd_0242ac1c0002row3_col6 {\n",
              "            background-color:  #fdf5fa;\n",
              "            color:  #000000;\n",
              "        }    #T_95585148_7788_11ea_a8dd_0242ac1c0002row3_col7 {\n",
              "            background-color:  #eee8f3;\n",
              "            color:  #000000;\n",
              "        }    #T_95585148_7788_11ea_a8dd_0242ac1c0002row3_col8 {\n",
              "            background-color:  #eee8f3;\n",
              "            color:  #000000;\n",
              "        }    #T_95585148_7788_11ea_a8dd_0242ac1c0002row3_col9 {\n",
              "            background-color:  #fcf4fa;\n",
              "            color:  #000000;\n",
              "        }    #T_95585148_7788_11ea_a8dd_0242ac1c0002row3_col10 {\n",
              "            background-color:  #f7f0f7;\n",
              "            color:  #000000;\n",
              "        }    #T_95585148_7788_11ea_a8dd_0242ac1c0002row3_col11 {\n",
              "            background-color:  #f4eef6;\n",
              "            color:  #000000;\n",
              "        }    #T_95585148_7788_11ea_a8dd_0242ac1c0002row3_col12 {\n",
              "            background-color:  #b1c2de;\n",
              "            color:  #000000;\n",
              "        }    #T_95585148_7788_11ea_a8dd_0242ac1c0002row3_col13 {\n",
              "            background-color:  #9ebad9;\n",
              "            color:  #000000;\n",
              "        }    #T_95585148_7788_11ea_a8dd_0242ac1c0002row3_col14 {\n",
              "            background-color:  #b4c4df;\n",
              "            color:  #000000;\n",
              "        }    #T_95585148_7788_11ea_a8dd_0242ac1c0002row3_col15 {\n",
              "            background-color:  #f0eaf4;\n",
              "            color:  #000000;\n",
              "        }    #T_95585148_7788_11ea_a8dd_0242ac1c0002row3_col16 {\n",
              "            background-color:  #e6e2ef;\n",
              "            color:  #000000;\n",
              "        }    #T_95585148_7788_11ea_a8dd_0242ac1c0002row3_col17 {\n",
              "            background-color:  #c4cbe3;\n",
              "            color:  #000000;\n",
              "        }    #T_95585148_7788_11ea_a8dd_0242ac1c0002row3_col18 {\n",
              "            background-color:  #bdc8e1;\n",
              "            color:  #000000;\n",
              "        }    #T_95585148_7788_11ea_a8dd_0242ac1c0002row3_col19 {\n",
              "            background-color:  #bfc9e1;\n",
              "            color:  #000000;\n",
              "        }    #T_95585148_7788_11ea_a8dd_0242ac1c0002row4_col0 {\n",
              "            background-color:  #9cb9d9;\n",
              "            color:  #000000;\n",
              "        }    #T_95585148_7788_11ea_a8dd_0242ac1c0002row4_col1 {\n",
              "            background-color:  #fcf4fa;\n",
              "            color:  #000000;\n",
              "        }    #T_95585148_7788_11ea_a8dd_0242ac1c0002row4_col2 {\n",
              "            background-color:  #d6d6e9;\n",
              "            color:  #000000;\n",
              "        }    #T_95585148_7788_11ea_a8dd_0242ac1c0002row4_col3 {\n",
              "            background-color:  #fff7fb;\n",
              "            color:  #000000;\n",
              "        }    #T_95585148_7788_11ea_a8dd_0242ac1c0002row4_col4 {\n",
              "            background-color:  #023858;\n",
              "            color:  #f1f1f1;\n",
              "        }    #T_95585148_7788_11ea_a8dd_0242ac1c0002row4_col5 {\n",
              "            background-color:  #f6eff7;\n",
              "            color:  #000000;\n",
              "        }    #T_95585148_7788_11ea_a8dd_0242ac1c0002row4_col6 {\n",
              "            background-color:  #fef6fb;\n",
              "            color:  #000000;\n",
              "        }    #T_95585148_7788_11ea_a8dd_0242ac1c0002row4_col7 {\n",
              "            background-color:  #bcc7e1;\n",
              "            color:  #000000;\n",
              "        }    #T_95585148_7788_11ea_a8dd_0242ac1c0002row4_col8 {\n",
              "            background-color:  #e2dfee;\n",
              "            color:  #000000;\n",
              "        }    #T_95585148_7788_11ea_a8dd_0242ac1c0002row4_col9 {\n",
              "            background-color:  #faf3f9;\n",
              "            color:  #000000;\n",
              "        }    #T_95585148_7788_11ea_a8dd_0242ac1c0002row4_col10 {\n",
              "            background-color:  #f7f0f7;\n",
              "            color:  #000000;\n",
              "        }    #T_95585148_7788_11ea_a8dd_0242ac1c0002row4_col11 {\n",
              "            background-color:  #f0eaf4;\n",
              "            color:  #000000;\n",
              "        }    #T_95585148_7788_11ea_a8dd_0242ac1c0002row4_col12 {\n",
              "            background-color:  #94b6d7;\n",
              "            color:  #000000;\n",
              "        }    #T_95585148_7788_11ea_a8dd_0242ac1c0002row4_col13 {\n",
              "            background-color:  #bdc8e1;\n",
              "            color:  #000000;\n",
              "        }    #T_95585148_7788_11ea_a8dd_0242ac1c0002row4_col14 {\n",
              "            background-color:  #b3c3de;\n",
              "            color:  #000000;\n",
              "        }    #T_95585148_7788_11ea_a8dd_0242ac1c0002row4_col15 {\n",
              "            background-color:  #bdc8e1;\n",
              "            color:  #000000;\n",
              "        }    #T_95585148_7788_11ea_a8dd_0242ac1c0002row4_col16 {\n",
              "            background-color:  #dcdaeb;\n",
              "            color:  #000000;\n",
              "        }    #T_95585148_7788_11ea_a8dd_0242ac1c0002row4_col17 {\n",
              "            background-color:  #89b1d4;\n",
              "            color:  #000000;\n",
              "        }    #T_95585148_7788_11ea_a8dd_0242ac1c0002row4_col18 {\n",
              "            background-color:  #84b0d3;\n",
              "            color:  #000000;\n",
              "        }    #T_95585148_7788_11ea_a8dd_0242ac1c0002row4_col19 {\n",
              "            background-color:  #dedcec;\n",
              "            color:  #000000;\n",
              "        }    #T_95585148_7788_11ea_a8dd_0242ac1c0002row5_col0 {\n",
              "            background-color:  #c6cce3;\n",
              "            color:  #000000;\n",
              "        }    #T_95585148_7788_11ea_a8dd_0242ac1c0002row5_col1 {\n",
              "            background-color:  #f7f0f7;\n",
              "            color:  #000000;\n",
              "        }    #T_95585148_7788_11ea_a8dd_0242ac1c0002row5_col2 {\n",
              "            background-color:  #c4cbe3;\n",
              "            color:  #000000;\n",
              "        }    #T_95585148_7788_11ea_a8dd_0242ac1c0002row5_col3 {\n",
              "            background-color:  #e2dfee;\n",
              "            color:  #000000;\n",
              "        }    #T_95585148_7788_11ea_a8dd_0242ac1c0002row5_col4 {\n",
              "            background-color:  #e8e4f0;\n",
              "            color:  #000000;\n",
              "        }    #T_95585148_7788_11ea_a8dd_0242ac1c0002row5_col5 {\n",
              "            background-color:  #023858;\n",
              "            color:  #f1f1f1;\n",
              "        }    #T_95585148_7788_11ea_a8dd_0242ac1c0002row5_col6 {\n",
              "            background-color:  #f7f0f7;\n",
              "            color:  #000000;\n",
              "        }    #T_95585148_7788_11ea_a8dd_0242ac1c0002row5_col7 {\n",
              "            background-color:  #eae6f1;\n",
              "            color:  #000000;\n",
              "        }    #T_95585148_7788_11ea_a8dd_0242ac1c0002row5_col8 {\n",
              "            background-color:  #e3e0ee;\n",
              "            color:  #000000;\n",
              "        }    #T_95585148_7788_11ea_a8dd_0242ac1c0002row5_col9 {\n",
              "            background-color:  #f8f1f8;\n",
              "            color:  #000000;\n",
              "        }    #T_95585148_7788_11ea_a8dd_0242ac1c0002row5_col10 {\n",
              "            background-color:  #f6eff7;\n",
              "            color:  #000000;\n",
              "        }    #T_95585148_7788_11ea_a8dd_0242ac1c0002row5_col11 {\n",
              "            background-color:  #f5eff6;\n",
              "            color:  #000000;\n",
              "        }    #T_95585148_7788_11ea_a8dd_0242ac1c0002row5_col12 {\n",
              "            background-color:  #a9bfdc;\n",
              "            color:  #000000;\n",
              "        }    #T_95585148_7788_11ea_a8dd_0242ac1c0002row5_col13 {\n",
              "            background-color:  #a2bcda;\n",
              "            color:  #000000;\n",
              "        }    #T_95585148_7788_11ea_a8dd_0242ac1c0002row5_col14 {\n",
              "            background-color:  #bbc7e0;\n",
              "            color:  #000000;\n",
              "        }    #T_95585148_7788_11ea_a8dd_0242ac1c0002row5_col15 {\n",
              "            background-color:  #f0eaf4;\n",
              "            color:  #000000;\n",
              "        }    #T_95585148_7788_11ea_a8dd_0242ac1c0002row5_col16 {\n",
              "            background-color:  #d2d2e7;\n",
              "            color:  #000000;\n",
              "        }    #T_95585148_7788_11ea_a8dd_0242ac1c0002row5_col17 {\n",
              "            background-color:  #c9cee4;\n",
              "            color:  #000000;\n",
              "        }    #T_95585148_7788_11ea_a8dd_0242ac1c0002row5_col18 {\n",
              "            background-color:  #bfc9e1;\n",
              "            color:  #000000;\n",
              "        }    #T_95585148_7788_11ea_a8dd_0242ac1c0002row5_col19 {\n",
              "            background-color:  #c9cee4;\n",
              "            color:  #000000;\n",
              "        }    #T_95585148_7788_11ea_a8dd_0242ac1c0002row6_col0 {\n",
              "            background-color:  #c8cde4;\n",
              "            color:  #000000;\n",
              "        }    #T_95585148_7788_11ea_a8dd_0242ac1c0002row6_col1 {\n",
              "            background-color:  #f9f2f8;\n",
              "            color:  #000000;\n",
              "        }    #T_95585148_7788_11ea_a8dd_0242ac1c0002row6_col2 {\n",
              "            background-color:  #c5cce3;\n",
              "            color:  #000000;\n",
              "        }    #T_95585148_7788_11ea_a8dd_0242ac1c0002row6_col3 {\n",
              "            background-color:  #e4e1ef;\n",
              "            color:  #000000;\n",
              "        }    #T_95585148_7788_11ea_a8dd_0242ac1c0002row6_col4 {\n",
              "            background-color:  #e6e2ef;\n",
              "            color:  #000000;\n",
              "        }    #T_95585148_7788_11ea_a8dd_0242ac1c0002row6_col5 {\n",
              "            background-color:  #eee8f3;\n",
              "            color:  #000000;\n",
              "        }    #T_95585148_7788_11ea_a8dd_0242ac1c0002row6_col6 {\n",
              "            background-color:  #023858;\n",
              "            color:  #f1f1f1;\n",
              "        }    #T_95585148_7788_11ea_a8dd_0242ac1c0002row6_col7 {\n",
              "            background-color:  #dddbec;\n",
              "            color:  #000000;\n",
              "        }    #T_95585148_7788_11ea_a8dd_0242ac1c0002row6_col8 {\n",
              "            background-color:  #e0deed;\n",
              "            color:  #000000;\n",
              "        }    #T_95585148_7788_11ea_a8dd_0242ac1c0002row6_col9 {\n",
              "            background-color:  #fbf3f9;\n",
              "            color:  #000000;\n",
              "        }    #T_95585148_7788_11ea_a8dd_0242ac1c0002row6_col10 {\n",
              "            background-color:  #f5eff6;\n",
              "            color:  #000000;\n",
              "        }    #T_95585148_7788_11ea_a8dd_0242ac1c0002row6_col11 {\n",
              "            background-color:  #f4edf6;\n",
              "            color:  #000000;\n",
              "        }    #T_95585148_7788_11ea_a8dd_0242ac1c0002row6_col12 {\n",
              "            background-color:  #a8bedc;\n",
              "            color:  #000000;\n",
              "        }    #T_95585148_7788_11ea_a8dd_0242ac1c0002row6_col13 {\n",
              "            background-color:  #a8bedc;\n",
              "            color:  #000000;\n",
              "        }    #T_95585148_7788_11ea_a8dd_0242ac1c0002row6_col14 {\n",
              "            background-color:  #b8c6e0;\n",
              "            color:  #000000;\n",
              "        }    #T_95585148_7788_11ea_a8dd_0242ac1c0002row6_col15 {\n",
              "            background-color:  #e3e0ee;\n",
              "            color:  #000000;\n",
              "        }    #T_95585148_7788_11ea_a8dd_0242ac1c0002row6_col16 {\n",
              "            background-color:  #d5d5e8;\n",
              "            color:  #000000;\n",
              "        }    #T_95585148_7788_11ea_a8dd_0242ac1c0002row6_col17 {\n",
              "            background-color:  #bbc7e0;\n",
              "            color:  #000000;\n",
              "        }    #T_95585148_7788_11ea_a8dd_0242ac1c0002row6_col18 {\n",
              "            background-color:  #b3c3de;\n",
              "            color:  #000000;\n",
              "        }    #T_95585148_7788_11ea_a8dd_0242ac1c0002row6_col19 {\n",
              "            background-color:  #cdd0e5;\n",
              "            color:  #000000;\n",
              "        }    #T_95585148_7788_11ea_a8dd_0242ac1c0002row7_col0 {\n",
              "            background-color:  #c4cbe3;\n",
              "            color:  #000000;\n",
              "        }    #T_95585148_7788_11ea_a8dd_0242ac1c0002row7_col1 {\n",
              "            background-color:  #fbf4f9;\n",
              "            color:  #000000;\n",
              "        }    #T_95585148_7788_11ea_a8dd_0242ac1c0002row7_col2 {\n",
              "            background-color:  #d2d3e7;\n",
              "            color:  #000000;\n",
              "        }    #T_95585148_7788_11ea_a8dd_0242ac1c0002row7_col3 {\n",
              "            background-color:  #f5eef6;\n",
              "            color:  #000000;\n",
              "        }    #T_95585148_7788_11ea_a8dd_0242ac1c0002row7_col4 {\n",
              "            background-color:  #c9cee4;\n",
              "            color:  #000000;\n",
              "        }    #T_95585148_7788_11ea_a8dd_0242ac1c0002row7_col5 {\n",
              "            background-color:  #fff7fb;\n",
              "            color:  #000000;\n",
              "        }    #T_95585148_7788_11ea_a8dd_0242ac1c0002row7_col6 {\n",
              "            background-color:  #fff7fb;\n",
              "            color:  #000000;\n",
              "        }    #T_95585148_7788_11ea_a8dd_0242ac1c0002row7_col7 {\n",
              "            background-color:  #023858;\n",
              "            color:  #f1f1f1;\n",
              "        }    #T_95585148_7788_11ea_a8dd_0242ac1c0002row7_col8 {\n",
              "            background-color:  #99b8d8;\n",
              "            color:  #000000;\n",
              "        }    #T_95585148_7788_11ea_a8dd_0242ac1c0002row7_col9 {\n",
              "            background-color:  #fbf3f9;\n",
              "            color:  #000000;\n",
              "        }    #T_95585148_7788_11ea_a8dd_0242ac1c0002row7_col10 {\n",
              "            background-color:  #f9f2f8;\n",
              "            color:  #000000;\n",
              "        }    #T_95585148_7788_11ea_a8dd_0242ac1c0002row7_col11 {\n",
              "            background-color:  #e7e3f0;\n",
              "            color:  #000000;\n",
              "        }    #T_95585148_7788_11ea_a8dd_0242ac1c0002row7_col12 {\n",
              "            background-color:  #8bb2d4;\n",
              "            color:  #000000;\n",
              "        }    #T_95585148_7788_11ea_a8dd_0242ac1c0002row7_col13 {\n",
              "            background-color:  #d3d4e7;\n",
              "            color:  #000000;\n",
              "        }    #T_95585148_7788_11ea_a8dd_0242ac1c0002row7_col14 {\n",
              "            background-color:  #9ab8d8;\n",
              "            color:  #000000;\n",
              "        }    #T_95585148_7788_11ea_a8dd_0242ac1c0002row7_col15 {\n",
              "            background-color:  #2786bb;\n",
              "            color:  #000000;\n",
              "        }    #T_95585148_7788_11ea_a8dd_0242ac1c0002row7_col16 {\n",
              "            background-color:  #fcf4fa;\n",
              "            color:  #000000;\n",
              "        }    #T_95585148_7788_11ea_a8dd_0242ac1c0002row7_col17 {\n",
              "            background-color:  #4897c4;\n",
              "            color:  #000000;\n",
              "        }    #T_95585148_7788_11ea_a8dd_0242ac1c0002row7_col18 {\n",
              "            background-color:  #6da6cd;\n",
              "            color:  #000000;\n",
              "        }    #T_95585148_7788_11ea_a8dd_0242ac1c0002row7_col19 {\n",
              "            background-color:  #e6e2ef;\n",
              "            color:  #000000;\n",
              "        }    #T_95585148_7788_11ea_a8dd_0242ac1c0002row8_col0 {\n",
              "            background-color:  #cccfe5;\n",
              "            color:  #000000;\n",
              "        }    #T_95585148_7788_11ea_a8dd_0242ac1c0002row8_col1 {\n",
              "            background-color:  #fdf5fa;\n",
              "            color:  #000000;\n",
              "        }    #T_95585148_7788_11ea_a8dd_0242ac1c0002row8_col2 {\n",
              "            background-color:  #c8cde4;\n",
              "            color:  #000000;\n",
              "        }    #T_95585148_7788_11ea_a8dd_0242ac1c0002row8_col3 {\n",
              "            background-color:  #f2ecf5;\n",
              "            color:  #000000;\n",
              "        }    #T_95585148_7788_11ea_a8dd_0242ac1c0002row8_col4 {\n",
              "            background-color:  #e8e4f0;\n",
              "            color:  #000000;\n",
              "        }    #T_95585148_7788_11ea_a8dd_0242ac1c0002row8_col5 {\n",
              "            background-color:  #f6eff7;\n",
              "            color:  #000000;\n",
              "        }    #T_95585148_7788_11ea_a8dd_0242ac1c0002row8_col6 {\n",
              "            background-color:  #fef6fb;\n",
              "            color:  #000000;\n",
              "        }    #T_95585148_7788_11ea_a8dd_0242ac1c0002row8_col7 {\n",
              "            background-color:  #93b5d6;\n",
              "            color:  #000000;\n",
              "        }    #T_95585148_7788_11ea_a8dd_0242ac1c0002row8_col8 {\n",
              "            background-color:  #023858;\n",
              "            color:  #f1f1f1;\n",
              "        }    #T_95585148_7788_11ea_a8dd_0242ac1c0002row8_col9 {\n",
              "            background-color:  #f5eff6;\n",
              "            color:  #000000;\n",
              "        }    #T_95585148_7788_11ea_a8dd_0242ac1c0002row8_col10 {\n",
              "            background-color:  #f4eef6;\n",
              "            color:  #000000;\n",
              "        }    #T_95585148_7788_11ea_a8dd_0242ac1c0002row8_col11 {\n",
              "            background-color:  #fdf5fa;\n",
              "            color:  #000000;\n",
              "        }    #T_95585148_7788_11ea_a8dd_0242ac1c0002row8_col12 {\n",
              "            background-color:  #b1c2de;\n",
              "            color:  #000000;\n",
              "        }    #T_95585148_7788_11ea_a8dd_0242ac1c0002row8_col13 {\n",
              "            background-color:  #8eb3d5;\n",
              "            color:  #000000;\n",
              "        }    #T_95585148_7788_11ea_a8dd_0242ac1c0002row8_col14 {\n",
              "            background-color:  #c6cce3;\n",
              "            color:  #000000;\n",
              "        }    #T_95585148_7788_11ea_a8dd_0242ac1c0002row8_col15 {\n",
              "            background-color:  #e3e0ee;\n",
              "            color:  #000000;\n",
              "        }    #T_95585148_7788_11ea_a8dd_0242ac1c0002row8_col16 {\n",
              "            background-color:  #d9d8ea;\n",
              "            color:  #000000;\n",
              "        }    #T_95585148_7788_11ea_a8dd_0242ac1c0002row8_col17 {\n",
              "            background-color:  #d4d4e8;\n",
              "            color:  #000000;\n",
              "        }    #T_95585148_7788_11ea_a8dd_0242ac1c0002row8_col18 {\n",
              "            background-color:  #dfddec;\n",
              "            color:  #000000;\n",
              "        }    #T_95585148_7788_11ea_a8dd_0242ac1c0002row8_col19 {\n",
              "            background-color:  #ced0e6;\n",
              "            color:  #000000;\n",
              "        }    #T_95585148_7788_11ea_a8dd_0242ac1c0002row9_col0 {\n",
              "            background-color:  #cacee5;\n",
              "            color:  #000000;\n",
              "        }    #T_95585148_7788_11ea_a8dd_0242ac1c0002row9_col1 {\n",
              "            background-color:  #f8f1f8;\n",
              "            color:  #000000;\n",
              "        }    #T_95585148_7788_11ea_a8dd_0242ac1c0002row9_col2 {\n",
              "            background-color:  #c5cce3;\n",
              "            color:  #000000;\n",
              "        }    #T_95585148_7788_11ea_a8dd_0242ac1c0002row9_col3 {\n",
              "            background-color:  #e8e4f0;\n",
              "            color:  #000000;\n",
              "        }    #T_95585148_7788_11ea_a8dd_0242ac1c0002row9_col4 {\n",
              "            background-color:  #e7e3f0;\n",
              "            color:  #000000;\n",
              "        }    #T_95585148_7788_11ea_a8dd_0242ac1c0002row9_col5 {\n",
              "            background-color:  #f3edf5;\n",
              "            color:  #000000;\n",
              "        }    #T_95585148_7788_11ea_a8dd_0242ac1c0002row9_col6 {\n",
              "            background-color:  #fff7fb;\n",
              "            color:  #000000;\n",
              "        }    #T_95585148_7788_11ea_a8dd_0242ac1c0002row9_col7 {\n",
              "            background-color:  #dddbec;\n",
              "            color:  #000000;\n",
              "        }    #T_95585148_7788_11ea_a8dd_0242ac1c0002row9_col8 {\n",
              "            background-color:  #dad9ea;\n",
              "            color:  #000000;\n",
              "        }    #T_95585148_7788_11ea_a8dd_0242ac1c0002row9_col9 {\n",
              "            background-color:  #023858;\n",
              "            color:  #f1f1f1;\n",
              "        }    #T_95585148_7788_11ea_a8dd_0242ac1c0002row9_col10 {\n",
              "            background-color:  #f2ecf5;\n",
              "            color:  #000000;\n",
              "        }    #T_95585148_7788_11ea_a8dd_0242ac1c0002row9_col11 {\n",
              "            background-color:  #faf2f8;\n",
              "            color:  #000000;\n",
              "        }    #T_95585148_7788_11ea_a8dd_0242ac1c0002row9_col12 {\n",
              "            background-color:  #a9bfdc;\n",
              "            color:  #000000;\n",
              "        }    #T_95585148_7788_11ea_a8dd_0242ac1c0002row9_col13 {\n",
              "            background-color:  #a8bedc;\n",
              "            color:  #000000;\n",
              "        }    #T_95585148_7788_11ea_a8dd_0242ac1c0002row9_col14 {\n",
              "            background-color:  #b4c4df;\n",
              "            color:  #000000;\n",
              "        }    #T_95585148_7788_11ea_a8dd_0242ac1c0002row9_col15 {\n",
              "            background-color:  #e1dfed;\n",
              "            color:  #000000;\n",
              "        }    #T_95585148_7788_11ea_a8dd_0242ac1c0002row9_col16 {\n",
              "            background-color:  #dfddec;\n",
              "            color:  #000000;\n",
              "        }    #T_95585148_7788_11ea_a8dd_0242ac1c0002row9_col17 {\n",
              "            background-color:  #b3c3de;\n",
              "            color:  #000000;\n",
              "        }    #T_95585148_7788_11ea_a8dd_0242ac1c0002row9_col18 {\n",
              "            background-color:  #adc1dd;\n",
              "            color:  #000000;\n",
              "        }    #T_95585148_7788_11ea_a8dd_0242ac1c0002row9_col19 {\n",
              "            background-color:  #c8cde4;\n",
              "            color:  #000000;\n",
              "        }    #T_95585148_7788_11ea_a8dd_0242ac1c0002row10_col0 {\n",
              "            background-color:  #c6cce3;\n",
              "            color:  #000000;\n",
              "        }    #T_95585148_7788_11ea_a8dd_0242ac1c0002row10_col1 {\n",
              "            background-color:  #f8f1f8;\n",
              "            color:  #000000;\n",
              "        }    #T_95585148_7788_11ea_a8dd_0242ac1c0002row10_col2 {\n",
              "            background-color:  #c4cbe3;\n",
              "            color:  #000000;\n",
              "        }    #T_95585148_7788_11ea_a8dd_0242ac1c0002row10_col3 {\n",
              "            background-color:  #e7e3f0;\n",
              "            color:  #000000;\n",
              "        }    #T_95585148_7788_11ea_a8dd_0242ac1c0002row10_col4 {\n",
              "            background-color:  #e7e3f0;\n",
              "            color:  #000000;\n",
              "        }    #T_95585148_7788_11ea_a8dd_0242ac1c0002row10_col5 {\n",
              "            background-color:  #f5eef6;\n",
              "            color:  #000000;\n",
              "        }    #T_95585148_7788_11ea_a8dd_0242ac1c0002row10_col6 {\n",
              "            background-color:  #fef6fa;\n",
              "            color:  #000000;\n",
              "        }    #T_95585148_7788_11ea_a8dd_0242ac1c0002row10_col7 {\n",
              "            background-color:  #e0dded;\n",
              "            color:  #000000;\n",
              "        }    #T_95585148_7788_11ea_a8dd_0242ac1c0002row10_col8 {\n",
              "            background-color:  #dfddec;\n",
              "            color:  #000000;\n",
              "        }    #T_95585148_7788_11ea_a8dd_0242ac1c0002row10_col9 {\n",
              "            background-color:  #f6eff7;\n",
              "            color:  #000000;\n",
              "        }    #T_95585148_7788_11ea_a8dd_0242ac1c0002row10_col10 {\n",
              "            background-color:  #023858;\n",
              "            color:  #f1f1f1;\n",
              "        }    #T_95585148_7788_11ea_a8dd_0242ac1c0002row10_col11 {\n",
              "            background-color:  #fef6fb;\n",
              "            color:  #000000;\n",
              "        }    #T_95585148_7788_11ea_a8dd_0242ac1c0002row10_col12 {\n",
              "            background-color:  #b1c2de;\n",
              "            color:  #000000;\n",
              "        }    #T_95585148_7788_11ea_a8dd_0242ac1c0002row10_col13 {\n",
              "            background-color:  #a2bcda;\n",
              "            color:  #000000;\n",
              "        }    #T_95585148_7788_11ea_a8dd_0242ac1c0002row10_col14 {\n",
              "            background-color:  #b0c2de;\n",
              "            color:  #000000;\n",
              "        }    #T_95585148_7788_11ea_a8dd_0242ac1c0002row10_col15 {\n",
              "            background-color:  #e1dfed;\n",
              "            color:  #000000;\n",
              "        }    #T_95585148_7788_11ea_a8dd_0242ac1c0002row10_col16 {\n",
              "            background-color:  #d6d6e9;\n",
              "            color:  #000000;\n",
              "        }    #T_95585148_7788_11ea_a8dd_0242ac1c0002row10_col17 {\n",
              "            background-color:  #c2cbe2;\n",
              "            color:  #000000;\n",
              "        }    #T_95585148_7788_11ea_a8dd_0242ac1c0002row10_col18 {\n",
              "            background-color:  #bfc9e1;\n",
              "            color:  #000000;\n",
              "        }    #T_95585148_7788_11ea_a8dd_0242ac1c0002row10_col19 {\n",
              "            background-color:  #569dc8;\n",
              "            color:  #000000;\n",
              "        }    #T_95585148_7788_11ea_a8dd_0242ac1c0002row11_col0 {\n",
              "            background-color:  #c5cce3;\n",
              "            color:  #000000;\n",
              "        }    #T_95585148_7788_11ea_a8dd_0242ac1c0002row11_col1 {\n",
              "            background-color:  #f8f1f8;\n",
              "            color:  #000000;\n",
              "        }    #T_95585148_7788_11ea_a8dd_0242ac1c0002row11_col2 {\n",
              "            background-color:  #c8cde4;\n",
              "            color:  #000000;\n",
              "        }    #T_95585148_7788_11ea_a8dd_0242ac1c0002row11_col3 {\n",
              "            background-color:  #e5e1ef;\n",
              "            color:  #000000;\n",
              "        }    #T_95585148_7788_11ea_a8dd_0242ac1c0002row11_col4 {\n",
              "            background-color:  #dfddec;\n",
              "            color:  #000000;\n",
              "        }    #T_95585148_7788_11ea_a8dd_0242ac1c0002row11_col5 {\n",
              "            background-color:  #f5eff6;\n",
              "            color:  #000000;\n",
              "        }    #T_95585148_7788_11ea_a8dd_0242ac1c0002row11_col6 {\n",
              "            background-color:  #fdf5fa;\n",
              "            color:  #000000;\n",
              "        }    #T_95585148_7788_11ea_a8dd_0242ac1c0002row11_col7 {\n",
              "            background-color:  #cccfe5;\n",
              "            color:  #000000;\n",
              "        }    #T_95585148_7788_11ea_a8dd_0242ac1c0002row11_col8 {\n",
              "            background-color:  #ebe6f2;\n",
              "            color:  #000000;\n",
              "        }    #T_95585148_7788_11ea_a8dd_0242ac1c0002row11_col9 {\n",
              "            background-color:  #fff7fb;\n",
              "            color:  #000000;\n",
              "        }    #T_95585148_7788_11ea_a8dd_0242ac1c0002row11_col10 {\n",
              "            background-color:  #fff7fb;\n",
              "            color:  #000000;\n",
              "        }    #T_95585148_7788_11ea_a8dd_0242ac1c0002row11_col11 {\n",
              "            background-color:  #023858;\n",
              "            color:  #f1f1f1;\n",
              "        }    #T_95585148_7788_11ea_a8dd_0242ac1c0002row11_col12 {\n",
              "            background-color:  #9ab8d8;\n",
              "            color:  #000000;\n",
              "        }    #T_95585148_7788_11ea_a8dd_0242ac1c0002row11_col13 {\n",
              "            background-color:  #b9c6e0;\n",
              "            color:  #000000;\n",
              "        }    #T_95585148_7788_11ea_a8dd_0242ac1c0002row11_col14 {\n",
              "            background-color:  #b0c2de;\n",
              "            color:  #000000;\n",
              "        }    #T_95585148_7788_11ea_a8dd_0242ac1c0002row11_col15 {\n",
              "            background-color:  #c8cde4;\n",
              "            color:  #000000;\n",
              "        }    #T_95585148_7788_11ea_a8dd_0242ac1c0002row11_col16 {\n",
              "            background-color:  #d5d5e8;\n",
              "            color:  #000000;\n",
              "        }    #T_95585148_7788_11ea_a8dd_0242ac1c0002row11_col17 {\n",
              "            background-color:  #9ab8d8;\n",
              "            color:  #000000;\n",
              "        }    #T_95585148_7788_11ea_a8dd_0242ac1c0002row11_col18 {\n",
              "            background-color:  #8fb4d6;\n",
              "            color:  #000000;\n",
              "        }    #T_95585148_7788_11ea_a8dd_0242ac1c0002row11_col19 {\n",
              "            background-color:  #d9d8ea;\n",
              "            color:  #000000;\n",
              "        }    #T_95585148_7788_11ea_a8dd_0242ac1c0002row12_col0 {\n",
              "            background-color:  #ced0e6;\n",
              "            color:  #000000;\n",
              "        }    #T_95585148_7788_11ea_a8dd_0242ac1c0002row12_col1 {\n",
              "            background-color:  #fcf4fa;\n",
              "            color:  #000000;\n",
              "        }    #T_95585148_7788_11ea_a8dd_0242ac1c0002row12_col2 {\n",
              "            background-color:  #d0d1e6;\n",
              "            color:  #000000;\n",
              "        }    #T_95585148_7788_11ea_a8dd_0242ac1c0002row12_col3 {\n",
              "            background-color:  #ede8f3;\n",
              "            color:  #000000;\n",
              "        }    #T_95585148_7788_11ea_a8dd_0242ac1c0002row12_col4 {\n",
              "            background-color:  #d6d6e9;\n",
              "            color:  #000000;\n",
              "        }    #T_95585148_7788_11ea_a8dd_0242ac1c0002row12_col5 {\n",
              "            background-color:  #f5eff6;\n",
              "            color:  #000000;\n",
              "        }    #T_95585148_7788_11ea_a8dd_0242ac1c0002row12_col6 {\n",
              "            background-color:  #fef6fa;\n",
              "            color:  #000000;\n",
              "        }    #T_95585148_7788_11ea_a8dd_0242ac1c0002row12_col7 {\n",
              "            background-color:  #c1cae2;\n",
              "            color:  #000000;\n",
              "        }    #T_95585148_7788_11ea_a8dd_0242ac1c0002row12_col8 {\n",
              "            background-color:  #e8e4f0;\n",
              "            color:  #000000;\n",
              "        }    #T_95585148_7788_11ea_a8dd_0242ac1c0002row12_col9 {\n",
              "            background-color:  #fbf3f9;\n",
              "            color:  #000000;\n",
              "        }    #T_95585148_7788_11ea_a8dd_0242ac1c0002row12_col10 {\n",
              "            background-color:  #fcf4fa;\n",
              "            color:  #000000;\n",
              "        }    #T_95585148_7788_11ea_a8dd_0242ac1c0002row12_col11 {\n",
              "            background-color:  #ede7f2;\n",
              "            color:  #000000;\n",
              "        }    #T_95585148_7788_11ea_a8dd_0242ac1c0002row12_col12 {\n",
              "            background-color:  #023858;\n",
              "            color:  #f1f1f1;\n",
              "        }    #T_95585148_7788_11ea_a8dd_0242ac1c0002row12_col13 {\n",
              "            background-color:  #fff7fb;\n",
              "            color:  #000000;\n",
              "        }    #T_95585148_7788_11ea_a8dd_0242ac1c0002row12_col14 {\n",
              "            background-color:  #fff7fb;\n",
              "            color:  #000000;\n",
              "        }    #T_95585148_7788_11ea_a8dd_0242ac1c0002row12_col15 {\n",
              "            background-color:  #d3d4e7;\n",
              "            color:  #000000;\n",
              "        }    #T_95585148_7788_11ea_a8dd_0242ac1c0002row12_col16 {\n",
              "            background-color:  #c4cbe3;\n",
              "            color:  #000000;\n",
              "        }    #T_95585148_7788_11ea_a8dd_0242ac1c0002row12_col17 {\n",
              "            background-color:  #6ba5cd;\n",
              "            color:  #000000;\n",
              "        }    #T_95585148_7788_11ea_a8dd_0242ac1c0002row12_col18 {\n",
              "            background-color:  #4a98c5;\n",
              "            color:  #000000;\n",
              "        }    #T_95585148_7788_11ea_a8dd_0242ac1c0002row12_col19 {\n",
              "            background-color:  #fcf4fa;\n",
              "            color:  #000000;\n",
              "        }    #T_95585148_7788_11ea_a8dd_0242ac1c0002row13_col0 {\n",
              "            background-color:  #c0c9e2;\n",
              "            color:  #000000;\n",
              "        }    #T_95585148_7788_11ea_a8dd_0242ac1c0002row13_col1 {\n",
              "            background-color:  #f5eef6;\n",
              "            color:  #000000;\n",
              "        }    #T_95585148_7788_11ea_a8dd_0242ac1c0002row13_col2 {\n",
              "            background-color:  #bdc8e1;\n",
              "            color:  #000000;\n",
              "        }    #T_95585148_7788_11ea_a8dd_0242ac1c0002row13_col3 {\n",
              "            background-color:  #dedcec;\n",
              "            color:  #000000;\n",
              "        }    #T_95585148_7788_11ea_a8dd_0242ac1c0002row13_col4 {\n",
              "            background-color:  #f4eef6;\n",
              "            color:  #000000;\n",
              "        }    #T_95585148_7788_11ea_a8dd_0242ac1c0002row13_col5 {\n",
              "            background-color:  #f1ebf4;\n",
              "            color:  #000000;\n",
              "        }    #T_95585148_7788_11ea_a8dd_0242ac1c0002row13_col6 {\n",
              "            background-color:  #fef6fa;\n",
              "            color:  #000000;\n",
              "        }    #T_95585148_7788_11ea_a8dd_0242ac1c0002row13_col7 {\n",
              "            background-color:  #fbf3f9;\n",
              "            color:  #000000;\n",
              "        }    #T_95585148_7788_11ea_a8dd_0242ac1c0002row13_col8 {\n",
              "            background-color:  #cacee5;\n",
              "            color:  #000000;\n",
              "        }    #T_95585148_7788_11ea_a8dd_0242ac1c0002row13_col9 {\n",
              "            background-color:  #faf2f8;\n",
              "            color:  #000000;\n",
              "        }    #T_95585148_7788_11ea_a8dd_0242ac1c0002row13_col10 {\n",
              "            background-color:  #f2ecf5;\n",
              "            color:  #000000;\n",
              "        }    #T_95585148_7788_11ea_a8dd_0242ac1c0002row13_col11 {\n",
              "            background-color:  #fff7fb;\n",
              "            color:  #000000;\n",
              "        }    #T_95585148_7788_11ea_a8dd_0242ac1c0002row13_col12 {\n",
              "            background-color:  #fff7fb;\n",
              "            color:  #000000;\n",
              "        }    #T_95585148_7788_11ea_a8dd_0242ac1c0002row13_col13 {\n",
              "            background-color:  #023858;\n",
              "            color:  #f1f1f1;\n",
              "        }    #T_95585148_7788_11ea_a8dd_0242ac1c0002row13_col14 {\n",
              "            background-color:  #eee9f3;\n",
              "            color:  #000000;\n",
              "        }    #T_95585148_7788_11ea_a8dd_0242ac1c0002row13_col15 {\n",
              "            background-color:  #fff7fb;\n",
              "            color:  #000000;\n",
              "        }    #T_95585148_7788_11ea_a8dd_0242ac1c0002row13_col16 {\n",
              "            background-color:  #ced0e6;\n",
              "            color:  #000000;\n",
              "        }    #T_95585148_7788_11ea_a8dd_0242ac1c0002row13_col17 {\n",
              "            background-color:  #fff7fb;\n",
              "            color:  #000000;\n",
              "        }    #T_95585148_7788_11ea_a8dd_0242ac1c0002row13_col18 {\n",
              "            background-color:  #fff7fb;\n",
              "            color:  #000000;\n",
              "        }    #T_95585148_7788_11ea_a8dd_0242ac1c0002row13_col19 {\n",
              "            background-color:  #8fb4d6;\n",
              "            color:  #000000;\n",
              "        }    #T_95585148_7788_11ea_a8dd_0242ac1c0002row14_col0 {\n",
              "            background-color:  #c1cae2;\n",
              "            color:  #000000;\n",
              "        }    #T_95585148_7788_11ea_a8dd_0242ac1c0002row14_col1 {\n",
              "            background-color:  #f6eff7;\n",
              "            color:  #000000;\n",
              "        }    #T_95585148_7788_11ea_a8dd_0242ac1c0002row14_col2 {\n",
              "            background-color:  #c5cce3;\n",
              "            color:  #000000;\n",
              "        }    #T_95585148_7788_11ea_a8dd_0242ac1c0002row14_col3 {\n",
              "            background-color:  #e2dfee;\n",
              "            color:  #000000;\n",
              "        }    #T_95585148_7788_11ea_a8dd_0242ac1c0002row14_col4 {\n",
              "            background-color:  #e0deed;\n",
              "            color:  #000000;\n",
              "        }    #T_95585148_7788_11ea_a8dd_0242ac1c0002row14_col5 {\n",
              "            background-color:  #f5eff6;\n",
              "            color:  #000000;\n",
              "        }    #T_95585148_7788_11ea_a8dd_0242ac1c0002row14_col6 {\n",
              "            background-color:  #fef6fa;\n",
              "            color:  #000000;\n",
              "        }    #T_95585148_7788_11ea_a8dd_0242ac1c0002row14_col7 {\n",
              "            background-color:  #c1cae2;\n",
              "            color:  #000000;\n",
              "        }    #T_95585148_7788_11ea_a8dd_0242ac1c0002row14_col8 {\n",
              "            background-color:  #ece7f2;\n",
              "            color:  #000000;\n",
              "        }    #T_95585148_7788_11ea_a8dd_0242ac1c0002row14_col9 {\n",
              "            background-color:  #f7f0f7;\n",
              "            color:  #000000;\n",
              "        }    #T_95585148_7788_11ea_a8dd_0242ac1c0002row14_col10 {\n",
              "            background-color:  #f0eaf4;\n",
              "            color:  #000000;\n",
              "        }    #T_95585148_7788_11ea_a8dd_0242ac1c0002row14_col11 {\n",
              "            background-color:  #f0eaf4;\n",
              "            color:  #000000;\n",
              "        }    #T_95585148_7788_11ea_a8dd_0242ac1c0002row14_col12 {\n",
              "            background-color:  #f4eef6;\n",
              "            color:  #000000;\n",
              "        }    #T_95585148_7788_11ea_a8dd_0242ac1c0002row14_col13 {\n",
              "            background-color:  #e1dfed;\n",
              "            color:  #000000;\n",
              "        }    #T_95585148_7788_11ea_a8dd_0242ac1c0002row14_col14 {\n",
              "            background-color:  #023858;\n",
              "            color:  #f1f1f1;\n",
              "        }    #T_95585148_7788_11ea_a8dd_0242ac1c0002row14_col15 {\n",
              "            background-color:  #b0c2de;\n",
              "            color:  #000000;\n",
              "        }    #T_95585148_7788_11ea_a8dd_0242ac1c0002row14_col16 {\n",
              "            background-color:  #f4edf6;\n",
              "            color:  #000000;\n",
              "        }    #T_95585148_7788_11ea_a8dd_0242ac1c0002row14_col17 {\n",
              "            background-color:  #8cb3d5;\n",
              "            color:  #000000;\n",
              "        }    #T_95585148_7788_11ea_a8dd_0242ac1c0002row14_col18 {\n",
              "            background-color:  #97b7d7;\n",
              "            color:  #000000;\n",
              "        }    #T_95585148_7788_11ea_a8dd_0242ac1c0002row14_col19 {\n",
              "            background-color:  #acc0dd;\n",
              "            color:  #000000;\n",
              "        }    #T_95585148_7788_11ea_a8dd_0242ac1c0002row15_col0 {\n",
              "            background-color:  #c6cce3;\n",
              "            color:  #000000;\n",
              "        }    #T_95585148_7788_11ea_a8dd_0242ac1c0002row15_col1 {\n",
              "            background-color:  #faf3f9;\n",
              "            color:  #000000;\n",
              "        }    #T_95585148_7788_11ea_a8dd_0242ac1c0002row15_col2 {\n",
              "            background-color:  #d2d3e7;\n",
              "            color:  #000000;\n",
              "        }    #T_95585148_7788_11ea_a8dd_0242ac1c0002row15_col3 {\n",
              "            background-color:  #f2ecf5;\n",
              "            color:  #000000;\n",
              "        }    #T_95585148_7788_11ea_a8dd_0242ac1c0002row15_col4 {\n",
              "            background-color:  #c0c9e2;\n",
              "            color:  #000000;\n",
              "        }    #T_95585148_7788_11ea_a8dd_0242ac1c0002row15_col5 {\n",
              "            background-color:  #fff7fb;\n",
              "            color:  #000000;\n",
              "        }    #T_95585148_7788_11ea_a8dd_0242ac1c0002row15_col6 {\n",
              "            background-color:  #fef6fb;\n",
              "            color:  #000000;\n",
              "        }    #T_95585148_7788_11ea_a8dd_0242ac1c0002row15_col7 {\n",
              "            background-color:  #2383ba;\n",
              "            color:  #000000;\n",
              "        }    #T_95585148_7788_11ea_a8dd_0242ac1c0002row15_col8 {\n",
              "            background-color:  #e0deed;\n",
              "            color:  #000000;\n",
              "        }    #T_95585148_7788_11ea_a8dd_0242ac1c0002row15_col9 {\n",
              "            background-color:  #f8f1f8;\n",
              "            color:  #000000;\n",
              "        }    #T_95585148_7788_11ea_a8dd_0242ac1c0002row15_col10 {\n",
              "            background-color:  #f4eef6;\n",
              "            color:  #000000;\n",
              "        }    #T_95585148_7788_11ea_a8dd_0242ac1c0002row15_col11 {\n",
              "            background-color:  #dddbec;\n",
              "            color:  #000000;\n",
              "        }    #T_95585148_7788_11ea_a8dd_0242ac1c0002row15_col12 {\n",
              "            background-color:  #94b6d7;\n",
              "            color:  #000000;\n",
              "        }    #T_95585148_7788_11ea_a8dd_0242ac1c0002row15_col13 {\n",
              "            background-color:  #d2d3e7;\n",
              "            color:  #000000;\n",
              "        }    #T_95585148_7788_11ea_a8dd_0242ac1c0002row15_col14 {\n",
              "            background-color:  #81aed2;\n",
              "            color:  #000000;\n",
              "        }    #T_95585148_7788_11ea_a8dd_0242ac1c0002row15_col15 {\n",
              "            background-color:  #023858;\n",
              "            color:  #f1f1f1;\n",
              "        }    #T_95585148_7788_11ea_a8dd_0242ac1c0002row15_col16 {\n",
              "            background-color:  #e2dfee;\n",
              "            color:  #000000;\n",
              "        }    #T_95585148_7788_11ea_a8dd_0242ac1c0002row15_col17 {\n",
              "            background-color:  #0569a5;\n",
              "            color:  #f1f1f1;\n",
              "        }    #T_95585148_7788_11ea_a8dd_0242ac1c0002row15_col18 {\n",
              "            background-color:  #2081b9;\n",
              "            color:  #000000;\n",
              "        }    #T_95585148_7788_11ea_a8dd_0242ac1c0002row15_col19 {\n",
              "            background-color:  #e4e1ef;\n",
              "            color:  #000000;\n",
              "        }    #T_95585148_7788_11ea_a8dd_0242ac1c0002row16_col0 {\n",
              "            background-color:  #dfddec;\n",
              "            color:  #000000;\n",
              "        }    #T_95585148_7788_11ea_a8dd_0242ac1c0002row16_col1 {\n",
              "            background-color:  #fff7fb;\n",
              "            color:  #000000;\n",
              "        }    #T_95585148_7788_11ea_a8dd_0242ac1c0002row16_col2 {\n",
              "            background-color:  #bdc8e1;\n",
              "            color:  #000000;\n",
              "        }    #T_95585148_7788_11ea_a8dd_0242ac1c0002row16_col3 {\n",
              "            background-color:  #f1ebf5;\n",
              "            color:  #000000;\n",
              "        }    #T_95585148_7788_11ea_a8dd_0242ac1c0002row16_col4 {\n",
              "            background-color:  #eae6f1;\n",
              "            color:  #000000;\n",
              "        }    #T_95585148_7788_11ea_a8dd_0242ac1c0002row16_col5 {\n",
              "            background-color:  #efe9f3;\n",
              "            color:  #000000;\n",
              "        }    #T_95585148_7788_11ea_a8dd_0242ac1c0002row16_col6 {\n",
              "            background-color:  #fcf4fa;\n",
              "            color:  #000000;\n",
              "        }    #T_95585148_7788_11ea_a8dd_0242ac1c0002row16_col7 {\n",
              "            background-color:  #fff7fb;\n",
              "            color:  #000000;\n",
              "        }    #T_95585148_7788_11ea_a8dd_0242ac1c0002row16_col8 {\n",
              "            background-color:  #e1dfed;\n",
              "            color:  #000000;\n",
              "        }    #T_95585148_7788_11ea_a8dd_0242ac1c0002row16_col9 {\n",
              "            background-color:  #fff7fb;\n",
              "            color:  #000000;\n",
              "        }    #T_95585148_7788_11ea_a8dd_0242ac1c0002row16_col10 {\n",
              "            background-color:  #f4edf6;\n",
              "            color:  #000000;\n",
              "        }    #T_95585148_7788_11ea_a8dd_0242ac1c0002row16_col11 {\n",
              "            background-color:  #f2ecf5;\n",
              "            color:  #000000;\n",
              "        }    #T_95585148_7788_11ea_a8dd_0242ac1c0002row16_col12 {\n",
              "            background-color:  #91b5d6;\n",
              "            color:  #000000;\n",
              "        }    #T_95585148_7788_11ea_a8dd_0242ac1c0002row16_col13 {\n",
              "            background-color:  #9cb9d9;\n",
              "            color:  #000000;\n",
              "        }    #T_95585148_7788_11ea_a8dd_0242ac1c0002row16_col14 {\n",
              "            background-color:  #dbdaeb;\n",
              "            color:  #000000;\n",
              "        }    #T_95585148_7788_11ea_a8dd_0242ac1c0002row16_col15 {\n",
              "            background-color:  #ede8f3;\n",
              "            color:  #000000;\n",
              "        }    #T_95585148_7788_11ea_a8dd_0242ac1c0002row16_col16 {\n",
              "            background-color:  #023858;\n",
              "            color:  #f1f1f1;\n",
              "        }    #T_95585148_7788_11ea_a8dd_0242ac1c0002row16_col17 {\n",
              "            background-color:  #ede7f2;\n",
              "            color:  #000000;\n",
              "        }    #T_95585148_7788_11ea_a8dd_0242ac1c0002row16_col18 {\n",
              "            background-color:  #cacee5;\n",
              "            color:  #000000;\n",
              "        }    #T_95585148_7788_11ea_a8dd_0242ac1c0002row16_col19 {\n",
              "            background-color:  #d7d6e9;\n",
              "            color:  #000000;\n",
              "        }    #T_95585148_7788_11ea_a8dd_0242ac1c0002row17_col0 {\n",
              "            background-color:  #c4cbe3;\n",
              "            color:  #000000;\n",
              "        }    #T_95585148_7788_11ea_a8dd_0242ac1c0002row17_col1 {\n",
              "            background-color:  #f9f2f8;\n",
              "            color:  #000000;\n",
              "        }    #T_95585148_7788_11ea_a8dd_0242ac1c0002row17_col2 {\n",
              "            background-color:  #d9d8ea;\n",
              "            color:  #000000;\n",
              "        }    #T_95585148_7788_11ea_a8dd_0242ac1c0002row17_col3 {\n",
              "            background-color:  #ece7f2;\n",
              "            color:  #000000;\n",
              "        }    #T_95585148_7788_11ea_a8dd_0242ac1c0002row17_col4 {\n",
              "            background-color:  #b8c6e0;\n",
              "            color:  #000000;\n",
              "        }    #T_95585148_7788_11ea_a8dd_0242ac1c0002row17_col5 {\n",
              "            background-color:  #fcf4fa;\n",
              "            color:  #000000;\n",
              "        }    #T_95585148_7788_11ea_a8dd_0242ac1c0002row17_col6 {\n",
              "            background-color:  #fef6fa;\n",
              "            color:  #000000;\n",
              "        }    #T_95585148_7788_11ea_a8dd_0242ac1c0002row17_col7 {\n",
              "            background-color:  #69a5cc;\n",
              "            color:  #000000;\n",
              "        }    #T_95585148_7788_11ea_a8dd_0242ac1c0002row17_col8 {\n",
              "            background-color:  #f2ecf5;\n",
              "            color:  #000000;\n",
              "        }    #T_95585148_7788_11ea_a8dd_0242ac1c0002row17_col9 {\n",
              "            background-color:  #f4edf6;\n",
              "            color:  #000000;\n",
              "        }    #T_95585148_7788_11ea_a8dd_0242ac1c0002row17_col10 {\n",
              "            background-color:  #faf2f8;\n",
              "            color:  #000000;\n",
              "        }    #T_95585148_7788_11ea_a8dd_0242ac1c0002row17_col11 {\n",
              "            background-color:  #dcdaeb;\n",
              "            color:  #000000;\n",
              "        }    #T_95585148_7788_11ea_a8dd_0242ac1c0002row17_col12 {\n",
              "            background-color:  #589ec8;\n",
              "            color:  #000000;\n",
              "        }    #T_95585148_7788_11ea_a8dd_0242ac1c0002row17_col13 {\n",
              "            background-color:  #f2ecf5;\n",
              "            color:  #000000;\n",
              "        }    #T_95585148_7788_11ea_a8dd_0242ac1c0002row17_col14 {\n",
              "            background-color:  #89b1d4;\n",
              "            color:  #000000;\n",
              "        }    #T_95585148_7788_11ea_a8dd_0242ac1c0002row17_col15 {\n",
              "            background-color:  #0872b1;\n",
              "            color:  #f1f1f1;\n",
              "        }    #T_95585148_7788_11ea_a8dd_0242ac1c0002row17_col16 {\n",
              "            background-color:  #fff7fb;\n",
              "            color:  #000000;\n",
              "        }    #T_95585148_7788_11ea_a8dd_0242ac1c0002row17_col17 {\n",
              "            background-color:  #023858;\n",
              "            color:  #f1f1f1;\n",
              "        }    #T_95585148_7788_11ea_a8dd_0242ac1c0002row17_col18 {\n",
              "            background-color:  #034267;\n",
              "            color:  #f1f1f1;\n",
              "        }    #T_95585148_7788_11ea_a8dd_0242ac1c0002row17_col19 {\n",
              "            background-color:  #faf3f9;\n",
              "            color:  #000000;\n",
              "        }    #T_95585148_7788_11ea_a8dd_0242ac1c0002row18_col0 {\n",
              "            background-color:  #cacee5;\n",
              "            color:  #000000;\n",
              "        }    #T_95585148_7788_11ea_a8dd_0242ac1c0002row18_col1 {\n",
              "            background-color:  #faf3f9;\n",
              "            color:  #000000;\n",
              "        }    #T_95585148_7788_11ea_a8dd_0242ac1c0002row18_col2 {\n",
              "            background-color:  #d8d7e9;\n",
              "            color:  #000000;\n",
              "        }    #T_95585148_7788_11ea_a8dd_0242ac1c0002row18_col3 {\n",
              "            background-color:  #ede7f2;\n",
              "            color:  #000000;\n",
              "        }    #T_95585148_7788_11ea_a8dd_0242ac1c0002row18_col4 {\n",
              "            background-color:  #b9c6e0;\n",
              "            color:  #000000;\n",
              "        }    #T_95585148_7788_11ea_a8dd_0242ac1c0002row18_col5 {\n",
              "            background-color:  #faf3f9;\n",
              "            color:  #000000;\n",
              "        }    #T_95585148_7788_11ea_a8dd_0242ac1c0002row18_col6 {\n",
              "            background-color:  #fdf5fa;\n",
              "            color:  #000000;\n",
              "        }    #T_95585148_7788_11ea_a8dd_0242ac1c0002row18_col7 {\n",
              "            background-color:  #96b6d7;\n",
              "            color:  #000000;\n",
              "        }    #T_95585148_7788_11ea_a8dd_0242ac1c0002row18_col8 {\n",
              "            background-color:  #fff7fb;\n",
              "            color:  #000000;\n",
              "        }    #T_95585148_7788_11ea_a8dd_0242ac1c0002row18_col9 {\n",
              "            background-color:  #f5eef6;\n",
              "            color:  #000000;\n",
              "        }    #T_95585148_7788_11ea_a8dd_0242ac1c0002row18_col10 {\n",
              "            background-color:  #fbf4f9;\n",
              "            color:  #000000;\n",
              "        }    #T_95585148_7788_11ea_a8dd_0242ac1c0002row18_col11 {\n",
              "            background-color:  #dad9ea;\n",
              "            color:  #000000;\n",
              "        }    #T_95585148_7788_11ea_a8dd_0242ac1c0002row18_col12 {\n",
              "            background-color:  #4094c3;\n",
              "            color:  #000000;\n",
              "        }    #T_95585148_7788_11ea_a8dd_0242ac1c0002row18_col13 {\n",
              "            background-color:  #f7f0f7;\n",
              "            color:  #000000;\n",
              "        }    #T_95585148_7788_11ea_a8dd_0242ac1c0002row18_col14 {\n",
              "            background-color:  #9ab8d8;\n",
              "            color:  #000000;\n",
              "        }    #T_95585148_7788_11ea_a8dd_0242ac1c0002row18_col15 {\n",
              "            background-color:  #4094c3;\n",
              "            color:  #000000;\n",
              "        }    #T_95585148_7788_11ea_a8dd_0242ac1c0002row18_col16 {\n",
              "            background-color:  #e9e5f1;\n",
              "            color:  #000000;\n",
              "        }    #T_95585148_7788_11ea_a8dd_0242ac1c0002row18_col17 {\n",
              "            background-color:  #034267;\n",
              "            color:  #f1f1f1;\n",
              "        }    #T_95585148_7788_11ea_a8dd_0242ac1c0002row18_col18 {\n",
              "            background-color:  #023858;\n",
              "            color:  #f1f1f1;\n",
              "        }    #T_95585148_7788_11ea_a8dd_0242ac1c0002row18_col19 {\n",
              "            background-color:  #fff7fb;\n",
              "            color:  #000000;\n",
              "        }    #T_95585148_7788_11ea_a8dd_0242ac1c0002row19_col0 {\n",
              "            background-color:  #bfc9e1;\n",
              "            color:  #000000;\n",
              "        }    #T_95585148_7788_11ea_a8dd_0242ac1c0002row19_col1 {\n",
              "            background-color:  #f4eef6;\n",
              "            color:  #000000;\n",
              "        }    #T_95585148_7788_11ea_a8dd_0242ac1c0002row19_col2 {\n",
              "            background-color:  #bbc7e0;\n",
              "            color:  #000000;\n",
              "        }    #T_95585148_7788_11ea_a8dd_0242ac1c0002row19_col3 {\n",
              "            background-color:  #dad9ea;\n",
              "            color:  #000000;\n",
              "        }    #T_95585148_7788_11ea_a8dd_0242ac1c0002row19_col4 {\n",
              "            background-color:  #f4eef6;\n",
              "            color:  #000000;\n",
              "        }    #T_95585148_7788_11ea_a8dd_0242ac1c0002row19_col5 {\n",
              "            background-color:  #f2ecf5;\n",
              "            color:  #000000;\n",
              "        }    #T_95585148_7788_11ea_a8dd_0242ac1c0002row19_col6 {\n",
              "            background-color:  #fef6fb;\n",
              "            color:  #000000;\n",
              "        }    #T_95585148_7788_11ea_a8dd_0242ac1c0002row19_col7 {\n",
              "            background-color:  #f2ecf5;\n",
              "            color:  #000000;\n",
              "        }    #T_95585148_7788_11ea_a8dd_0242ac1c0002row19_col8 {\n",
              "            background-color:  #e0deed;\n",
              "            color:  #000000;\n",
              "        }    #T_95585148_7788_11ea_a8dd_0242ac1c0002row19_col9 {\n",
              "            background-color:  #f7f0f7;\n",
              "            color:  #000000;\n",
              "        }    #T_95585148_7788_11ea_a8dd_0242ac1c0002row19_col10 {\n",
              "            background-color:  #8bb2d4;\n",
              "            color:  #000000;\n",
              "        }    #T_95585148_7788_11ea_a8dd_0242ac1c0002row19_col11 {\n",
              "            background-color:  #fdf5fa;\n",
              "            color:  #000000;\n",
              "        }    #T_95585148_7788_11ea_a8dd_0242ac1c0002row19_col12 {\n",
              "            background-color:  #e3e0ee;\n",
              "            color:  #000000;\n",
              "        }    #T_95585148_7788_11ea_a8dd_0242ac1c0002row19_col13 {\n",
              "            background-color:  #6da6cd;\n",
              "            color:  #000000;\n",
              "        }    #T_95585148_7788_11ea_a8dd_0242ac1c0002row19_col14 {\n",
              "            background-color:  #97b7d7;\n",
              "            color:  #000000;\n",
              "        }    #T_95585148_7788_11ea_a8dd_0242ac1c0002row19_col15 {\n",
              "            background-color:  #f7f0f7;\n",
              "            color:  #000000;\n",
              "        }    #T_95585148_7788_11ea_a8dd_0242ac1c0002row19_col16 {\n",
              "            background-color:  #e1dfed;\n",
              "            color:  #000000;\n",
              "        }    #T_95585148_7788_11ea_a8dd_0242ac1c0002row19_col17 {\n",
              "            background-color:  #f0eaf4;\n",
              "            color:  #000000;\n",
              "        }    #T_95585148_7788_11ea_a8dd_0242ac1c0002row19_col18 {\n",
              "            background-color:  #f0eaf4;\n",
              "            color:  #000000;\n",
              "        }    #T_95585148_7788_11ea_a8dd_0242ac1c0002row19_col19 {\n",
              "            background-color:  #023858;\n",
              "            color:  #f1f1f1;\n",
              "        }</style><table id=\"T_95585148_7788_11ea_a8dd_0242ac1c0002\" ><thead>    <tr>        <th class=\"blank level0\" ></th>        <th class=\"col_heading level0 col0\" >age</th>        <th class=\"col_heading level0 col1\" >job</th>        <th class=\"col_heading level0 col2\" >marital</th>        <th class=\"col_heading level0 col3\" >education</th>        <th class=\"col_heading level0 col4\" >default</th>        <th class=\"col_heading level0 col5\" >housing</th>        <th class=\"col_heading level0 col6\" >loan</th>        <th class=\"col_heading level0 col7\" >contact</th>        <th class=\"col_heading level0 col8\" >month</th>        <th class=\"col_heading level0 col9\" >day_of_week</th>        <th class=\"col_heading level0 col10\" >duration</th>        <th class=\"col_heading level0 col11\" >campaign</th>        <th class=\"col_heading level0 col12\" >pdays</th>        <th class=\"col_heading level0 col13\" >previous</th>        <th class=\"col_heading level0 col14\" >poutcome</th>        <th class=\"col_heading level0 col15\" >cons_price_idx</th>        <th class=\"col_heading level0 col16\" >cons_conf_idx</th>        <th class=\"col_heading level0 col17\" >euribor3m</th>        <th class=\"col_heading level0 col18\" >nr_employed</th>        <th class=\"col_heading level0 col19\" >y</th>    </tr></thead><tbody>\n",
              "                <tr>\n",
              "                        <th id=\"T_95585148_7788_11ea_a8dd_0242ac1c0002level0_row0\" class=\"row_heading level0 row0\" >age</th>\n",
              "                        <td id=\"T_95585148_7788_11ea_a8dd_0242ac1c0002row0_col0\" class=\"data row0 col0\" >1.000000</td>\n",
              "                        <td id=\"T_95585148_7788_11ea_a8dd_0242ac1c0002row0_col1\" class=\"data row0 col1\" >0.001250</td>\n",
              "                        <td id=\"T_95585148_7788_11ea_a8dd_0242ac1c0002row0_col2\" class=\"data row0 col2\" >-0.389753</td>\n",
              "                        <td id=\"T_95585148_7788_11ea_a8dd_0242ac1c0002row0_col3\" class=\"data row0 col3\" >-0.117892</td>\n",
              "                        <td id=\"T_95585148_7788_11ea_a8dd_0242ac1c0002row0_col4\" class=\"data row0 col4\" >0.164965</td>\n",
              "                        <td id=\"T_95585148_7788_11ea_a8dd_0242ac1c0002row0_col5\" class=\"data row0 col5\" >-0.001603</td>\n",
              "                        <td id=\"T_95585148_7788_11ea_a8dd_0242ac1c0002row0_col6\" class=\"data row0 col6\" >-0.007368</td>\n",
              "                        <td id=\"T_95585148_7788_11ea_a8dd_0242ac1c0002row0_col7\" class=\"data row0 col7\" >0.007021</td>\n",
              "                        <td id=\"T_95585148_7788_11ea_a8dd_0242ac1c0002row0_col8\" class=\"data row0 col8\" >-0.024877</td>\n",
              "                        <td id=\"T_95585148_7788_11ea_a8dd_0242ac1c0002row0_col9\" class=\"data row0 col9\" >-0.017572</td>\n",
              "                        <td id=\"T_95585148_7788_11ea_a8dd_0242ac1c0002row0_col10\" class=\"data row0 col10\" >-0.000866</td>\n",
              "                        <td id=\"T_95585148_7788_11ea_a8dd_0242ac1c0002row0_col11\" class=\"data row0 col11\" >0.004594</td>\n",
              "                        <td id=\"T_95585148_7788_11ea_a8dd_0242ac1c0002row0_col12\" class=\"data row0 col12\" >-0.034369</td>\n",
              "                        <td id=\"T_95585148_7788_11ea_a8dd_0242ac1c0002row0_col13\" class=\"data row0 col13\" >0.024365</td>\n",
              "                        <td id=\"T_95585148_7788_11ea_a8dd_0242ac1c0002row0_col14\" class=\"data row0 col14\" >0.019750</td>\n",
              "                        <td id=\"T_95585148_7788_11ea_a8dd_0242ac1c0002row0_col15\" class=\"data row0 col15\" >0.000857</td>\n",
              "                        <td id=\"T_95585148_7788_11ea_a8dd_0242ac1c0002row0_col16\" class=\"data row0 col16\" >-0.129372</td>\n",
              "                        <td id=\"T_95585148_7788_11ea_a8dd_0242ac1c0002row0_col17\" class=\"data row0 col17\" >0.010767</td>\n",
              "                        <td id=\"T_95585148_7788_11ea_a8dd_0242ac1c0002row0_col18\" class=\"data row0 col18\" >-0.017725</td>\n",
              "                        <td id=\"T_95585148_7788_11ea_a8dd_0242ac1c0002row0_col19\" class=\"data row0 col19\" >0.030399</td>\n",
              "            </tr>\n",
              "            <tr>\n",
              "                        <th id=\"T_95585148_7788_11ea_a8dd_0242ac1c0002level0_row1\" class=\"row_heading level0 row1\" >job</th>\n",
              "                        <td id=\"T_95585148_7788_11ea_a8dd_0242ac1c0002row1_col0\" class=\"data row1 col0\" >0.001250</td>\n",
              "                        <td id=\"T_95585148_7788_11ea_a8dd_0242ac1c0002row1_col1\" class=\"data row1 col1\" >1.000000</td>\n",
              "                        <td id=\"T_95585148_7788_11ea_a8dd_0242ac1c0002row1_col2\" class=\"data row1 col2\" >0.027897</td>\n",
              "                        <td id=\"T_95585148_7788_11ea_a8dd_0242ac1c0002row1_col3\" class=\"data row1 col3\" >0.134121</td>\n",
              "                        <td id=\"T_95585148_7788_11ea_a8dd_0242ac1c0002row1_col4\" class=\"data row1 col4\" >-0.028277</td>\n",
              "                        <td id=\"T_95585148_7788_11ea_a8dd_0242ac1c0002row1_col5\" class=\"data row1 col5\" >0.006962</td>\n",
              "                        <td id=\"T_95585148_7788_11ea_a8dd_0242ac1c0002row1_col6\" class=\"data row1 col6\" >-0.010209</td>\n",
              "                        <td id=\"T_95585148_7788_11ea_a8dd_0242ac1c0002row1_col7\" class=\"data row1 col7\" >-0.025132</td>\n",
              "                        <td id=\"T_95585148_7788_11ea_a8dd_0242ac1c0002row1_col8\" class=\"data row1 col8\" >-0.033213</td>\n",
              "                        <td id=\"T_95585148_7788_11ea_a8dd_0242ac1c0002row1_col9\" class=\"data row1 col9\" >-0.000844</td>\n",
              "                        <td id=\"T_95585148_7788_11ea_a8dd_0242ac1c0002row1_col10\" class=\"data row1 col10\" >-0.006490</td>\n",
              "                        <td id=\"T_95585148_7788_11ea_a8dd_0242ac1c0002row1_col11\" class=\"data row1 col11\" >-0.006923</td>\n",
              "                        <td id=\"T_95585148_7788_11ea_a8dd_0242ac1c0002row1_col12\" class=\"data row1 col12\" >-0.028468</td>\n",
              "                        <td id=\"T_95585148_7788_11ea_a8dd_0242ac1c0002row1_col13\" class=\"data row1 col13\" >0.020965</td>\n",
              "                        <td id=\"T_95585148_7788_11ea_a8dd_0242ac1c0002row1_col14\" class=\"data row1 col14\" >0.011504</td>\n",
              "                        <td id=\"T_95585148_7788_11ea_a8dd_0242ac1c0002row1_col15\" class=\"data row1 col15\" >-0.016017</td>\n",
              "                        <td id=\"T_95585148_7788_11ea_a8dd_0242ac1c0002row1_col16\" class=\"data row1 col16\" >-0.052760</td>\n",
              "                        <td id=\"T_95585148_7788_11ea_a8dd_0242ac1c0002row1_col17\" class=\"data row1 col17\" >-0.007880</td>\n",
              "                        <td id=\"T_95585148_7788_11ea_a8dd_0242ac1c0002row1_col18\" class=\"data row1 col18\" >-0.019574</td>\n",
              "                        <td id=\"T_95585148_7788_11ea_a8dd_0242ac1c0002row1_col19\" class=\"data row1 col19\" >0.025122</td>\n",
              "            </tr>\n",
              "            <tr>\n",
              "                        <th id=\"T_95585148_7788_11ea_a8dd_0242ac1c0002level0_row2\" class=\"row_heading level0 row2\" >marital</th>\n",
              "                        <td id=\"T_95585148_7788_11ea_a8dd_0242ac1c0002row2_col0\" class=\"data row2 col0\" >-0.389753</td>\n",
              "                        <td id=\"T_95585148_7788_11ea_a8dd_0242ac1c0002row2_col1\" class=\"data row2 col1\" >0.027897</td>\n",
              "                        <td id=\"T_95585148_7788_11ea_a8dd_0242ac1c0002row2_col2\" class=\"data row2 col2\" >1.000000</td>\n",
              "                        <td id=\"T_95585148_7788_11ea_a8dd_0242ac1c0002row2_col3\" class=\"data row2 col3\" >0.109220</td>\n",
              "                        <td id=\"T_95585148_7788_11ea_a8dd_0242ac1c0002row2_col4\" class=\"data row2 col4\" >-0.079450</td>\n",
              "                        <td id=\"T_95585148_7788_11ea_a8dd_0242ac1c0002row2_col5\" class=\"data row2 col5\" >0.010467</td>\n",
              "                        <td id=\"T_95585148_7788_11ea_a8dd_0242ac1c0002row2_col6\" class=\"data row2 col6\" >0.005788</td>\n",
              "                        <td id=\"T_95585148_7788_11ea_a8dd_0242ac1c0002row2_col7\" class=\"data row2 col7\" >-0.054501</td>\n",
              "                        <td id=\"T_95585148_7788_11ea_a8dd_0242ac1c0002row2_col8\" class=\"data row2 col8\" >-0.007629</td>\n",
              "                        <td id=\"T_95585148_7788_11ea_a8dd_0242ac1c0002row2_col9\" class=\"data row2 col9\" >0.002202</td>\n",
              "                        <td id=\"T_95585148_7788_11ea_a8dd_0242ac1c0002row2_col10\" class=\"data row2 col10\" >0.010290</td>\n",
              "                        <td id=\"T_95585148_7788_11ea_a8dd_0242ac1c0002row2_col11\" class=\"data row2 col11\" >-0.007240</td>\n",
              "                        <td id=\"T_95585148_7788_11ea_a8dd_0242ac1c0002row2_col12\" class=\"data row2 col12\" >-0.037942</td>\n",
              "                        <td id=\"T_95585148_7788_11ea_a8dd_0242ac1c0002row2_col13\" class=\"data row2 col13\" >0.038689</td>\n",
              "                        <td id=\"T_95585148_7788_11ea_a8dd_0242ac1c0002row2_col14\" class=\"data row2 col14\" >0.001912</td>\n",
              "                        <td id=\"T_95585148_7788_11ea_a8dd_0242ac1c0002row2_col15\" class=\"data row2 col15\" >-0.057477</td>\n",
              "                        <td id=\"T_95585148_7788_11ea_a8dd_0242ac1c0002row2_col16\" class=\"data row2 col16\" >0.033783</td>\n",
              "                        <td id=\"T_95585148_7788_11ea_a8dd_0242ac1c0002row2_col17\" class=\"data row2 col17\" >-0.091939</td>\n",
              "                        <td id=\"T_95585148_7788_11ea_a8dd_0242ac1c0002row2_col18\" class=\"data row2 col18\" >-0.086199</td>\n",
              "                        <td id=\"T_95585148_7788_11ea_a8dd_0242ac1c0002row2_col19\" class=\"data row2 col19\" >0.046203</td>\n",
              "            </tr>\n",
              "            <tr>\n",
              "                        <th id=\"T_95585148_7788_11ea_a8dd_0242ac1c0002level0_row3\" class=\"row_heading level0 row3\" >education</th>\n",
              "                        <td id=\"T_95585148_7788_11ea_a8dd_0242ac1c0002row3_col0\" class=\"data row3 col0\" >-0.117892</td>\n",
              "                        <td id=\"T_95585148_7788_11ea_a8dd_0242ac1c0002row3_col1\" class=\"data row3 col1\" >0.134121</td>\n",
              "                        <td id=\"T_95585148_7788_11ea_a8dd_0242ac1c0002row3_col2\" class=\"data row3 col2\" >0.109220</td>\n",
              "                        <td id=\"T_95585148_7788_11ea_a8dd_0242ac1c0002row3_col3\" class=\"data row3 col3\" >1.000000</td>\n",
              "                        <td id=\"T_95585148_7788_11ea_a8dd_0242ac1c0002row3_col4\" class=\"data row3 col4\" >-0.186859</td>\n",
              "                        <td id=\"T_95585148_7788_11ea_a8dd_0242ac1c0002row3_col5\" class=\"data row3 col5\" >0.016825</td>\n",
              "                        <td id=\"T_95585148_7788_11ea_a8dd_0242ac1c0002row3_col6\" class=\"data row3 col6\" >0.006384</td>\n",
              "                        <td id=\"T_95585148_7788_11ea_a8dd_0242ac1c0002row3_col7\" class=\"data row3 col7\" >-0.105726</td>\n",
              "                        <td id=\"T_95585148_7788_11ea_a8dd_0242ac1c0002row3_col8\" class=\"data row3 col8\" >-0.082684</td>\n",
              "                        <td id=\"T_95585148_7788_11ea_a8dd_0242ac1c0002row3_col9\" class=\"data row3 col9\" >-0.017986</td>\n",
              "                        <td id=\"T_95585148_7788_11ea_a8dd_0242ac1c0002row3_col10\" class=\"data row3 col10\" >-0.015102</td>\n",
              "                        <td id=\"T_95585148_7788_11ea_a8dd_0242ac1c0002row3_col11\" class=\"data row3 col11\" >0.000371</td>\n",
              "                        <td id=\"T_95585148_7788_11ea_a8dd_0242ac1c0002row3_col12\" class=\"data row3 col12\" >-0.046626</td>\n",
              "                        <td id=\"T_95585148_7788_11ea_a8dd_0242ac1c0002row3_col13\" class=\"data row3 col13\" >0.038831</td>\n",
              "                        <td id=\"T_95585148_7788_11ea_a8dd_0242ac1c0002row3_col14\" class=\"data row3 col14\" >0.017009</td>\n",
              "                        <td id=\"T_95585148_7788_11ea_a8dd_0242ac1c0002row3_col15\" class=\"data row3 col15\" >-0.081607</td>\n",
              "                        <td id=\"T_95585148_7788_11ea_a8dd_0242ac1c0002row3_col16\" class=\"data row3 col16\" >-0.078799</td>\n",
              "                        <td id=\"T_95585148_7788_11ea_a8dd_0242ac1c0002row3_col17\" class=\"data row3 col17\" >-0.036380</td>\n",
              "                        <td id=\"T_95585148_7788_11ea_a8dd_0242ac1c0002row3_col18\" class=\"data row3 col18\" >-0.041492</td>\n",
              "                        <td id=\"T_95585148_7788_11ea_a8dd_0242ac1c0002row3_col19\" class=\"data row3 col19\" >0.057799</td>\n",
              "            </tr>\n",
              "            <tr>\n",
              "                        <th id=\"T_95585148_7788_11ea_a8dd_0242ac1c0002level0_row4\" class=\"row_heading level0 row4\" >default</th>\n",
              "                        <td id=\"T_95585148_7788_11ea_a8dd_0242ac1c0002row4_col0\" class=\"data row4 col0\" >0.164965</td>\n",
              "                        <td id=\"T_95585148_7788_11ea_a8dd_0242ac1c0002row4_col1\" class=\"data row4 col1\" >-0.028277</td>\n",
              "                        <td id=\"T_95585148_7788_11ea_a8dd_0242ac1c0002row4_col2\" class=\"data row4 col2\" >-0.079450</td>\n",
              "                        <td id=\"T_95585148_7788_11ea_a8dd_0242ac1c0002row4_col3\" class=\"data row4 col3\" >-0.186859</td>\n",
              "                        <td id=\"T_95585148_7788_11ea_a8dd_0242ac1c0002row4_col4\" class=\"data row4 col4\" >1.000000</td>\n",
              "                        <td id=\"T_95585148_7788_11ea_a8dd_0242ac1c0002row4_col5\" class=\"data row4 col5\" >-0.015815</td>\n",
              "                        <td id=\"T_95585148_7788_11ea_a8dd_0242ac1c0002row4_col6\" class=\"data row4 col6\" >-0.003782</td>\n",
              "                        <td id=\"T_95585148_7788_11ea_a8dd_0242ac1c0002row4_col7\" class=\"data row4 col7\" >0.135238</td>\n",
              "                        <td id=\"T_95585148_7788_11ea_a8dd_0242ac1c0002row4_col8\" class=\"data row4 col8\" >-0.015830</td>\n",
              "                        <td id=\"T_95585148_7788_11ea_a8dd_0242ac1c0002row4_col9\" class=\"data row4 col9\" >-0.008701</td>\n",
              "                        <td id=\"T_95585148_7788_11ea_a8dd_0242ac1c0002row4_col10\" class=\"data row4 col10\" >-0.011794</td>\n",
              "                        <td id=\"T_95585148_7788_11ea_a8dd_0242ac1c0002row4_col11\" class=\"data row4 col11\" >0.032825</td>\n",
              "                        <td id=\"T_95585148_7788_11ea_a8dd_0242ac1c0002row4_col12\" class=\"data row4 col12\" >0.080062</td>\n",
              "                        <td id=\"T_95585148_7788_11ea_a8dd_0242ac1c0002row4_col13\" class=\"data row4 col13\" >-0.102416</td>\n",
              "                        <td id=\"T_95585148_7788_11ea_a8dd_0242ac1c0002row4_col14\" class=\"data row4 col14\" >0.023417</td>\n",
              "                        <td id=\"T_95585148_7788_11ea_a8dd_0242ac1c0002row4_col15\" class=\"data row4 col15\" >0.168073</td>\n",
              "                        <td id=\"T_95585148_7788_11ea_a8dd_0242ac1c0002row4_col16\" class=\"data row4 col16\" >-0.026522</td>\n",
              "                        <td id=\"T_95585148_7788_11ea_a8dd_0242ac1c0002row4_col17\" class=\"data row4 col17\" >0.195336</td>\n",
              "                        <td id=\"T_95585148_7788_11ea_a8dd_0242ac1c0002row4_col18\" class=\"data row4 col18\" >0.189845</td>\n",
              "                        <td id=\"T_95585148_7788_11ea_a8dd_0242ac1c0002row4_col19\" class=\"data row4 col19\" >-0.099352</td>\n",
              "            </tr>\n",
              "            <tr>\n",
              "                        <th id=\"T_95585148_7788_11ea_a8dd_0242ac1c0002level0_row5\" class=\"row_heading level0 row5\" >housing</th>\n",
              "                        <td id=\"T_95585148_7788_11ea_a8dd_0242ac1c0002row5_col0\" class=\"data row5 col0\" >-0.001603</td>\n",
              "                        <td id=\"T_95585148_7788_11ea_a8dd_0242ac1c0002row5_col1\" class=\"data row5 col1\" >0.006962</td>\n",
              "                        <td id=\"T_95585148_7788_11ea_a8dd_0242ac1c0002row5_col2\" class=\"data row5 col2\" >0.010467</td>\n",
              "                        <td id=\"T_95585148_7788_11ea_a8dd_0242ac1c0002row5_col3\" class=\"data row5 col3\" >0.016825</td>\n",
              "                        <td id=\"T_95585148_7788_11ea_a8dd_0242ac1c0002row5_col4\" class=\"data row5 col4\" >-0.015815</td>\n",
              "                        <td id=\"T_95585148_7788_11ea_a8dd_0242ac1c0002row5_col5\" class=\"data row5 col5\" >1.000000</td>\n",
              "                        <td id=\"T_95585148_7788_11ea_a8dd_0242ac1c0002row5_col6\" class=\"data row5 col6\" >0.044296</td>\n",
              "                        <td id=\"T_95585148_7788_11ea_a8dd_0242ac1c0002row5_col7\" class=\"data row5 col7\" >-0.082186</td>\n",
              "                        <td id=\"T_95585148_7788_11ea_a8dd_0242ac1c0002row5_col8\" class=\"data row5 col8\" >-0.018141</td>\n",
              "                        <td id=\"T_95585148_7788_11ea_a8dd_0242ac1c0002row5_col9\" class=\"data row5 col9\" >0.003339</td>\n",
              "                        <td id=\"T_95585148_7788_11ea_a8dd_0242ac1c0002row5_col10\" class=\"data row5 col10\" >-0.007658</td>\n",
              "                        <td id=\"T_95585148_7788_11ea_a8dd_0242ac1c0002row5_col11\" class=\"data row5 col11\" >-0.011010</td>\n",
              "                        <td id=\"T_95585148_7788_11ea_a8dd_0242ac1c0002row5_col12\" class=\"data row5 col12\" >-0.010551</td>\n",
              "                        <td id=\"T_95585148_7788_11ea_a8dd_0242ac1c0002row5_col13\" class=\"data row5 col13\" >0.021314</td>\n",
              "                        <td id=\"T_95585148_7788_11ea_a8dd_0242ac1c0002row5_col14\" class=\"data row5 col14\" >-0.011783</td>\n",
              "                        <td id=\"T_95585148_7788_11ea_a8dd_0242ac1c0002row5_col15\" class=\"data row5 col15\" >-0.080504</td>\n",
              "                        <td id=\"T_95585148_7788_11ea_a8dd_0242ac1c0002row5_col16\" class=\"data row5 col16\" >0.033845</td>\n",
              "                        <td id=\"T_95585148_7788_11ea_a8dd_0242ac1c0002row5_col17\" class=\"data row5 col17\" >-0.059277</td>\n",
              "                        <td id=\"T_95585148_7788_11ea_a8dd_0242ac1c0002row5_col18\" class=\"data row5 col18\" >-0.045862</td>\n",
              "                        <td id=\"T_95585148_7788_11ea_a8dd_0242ac1c0002row5_col19\" class=\"data row5 col19\" >0.011552</td>\n",
              "            </tr>\n",
              "            <tr>\n",
              "                        <th id=\"T_95585148_7788_11ea_a8dd_0242ac1c0002level0_row6\" class=\"row_heading level0 row6\" >loan</th>\n",
              "                        <td id=\"T_95585148_7788_11ea_a8dd_0242ac1c0002row6_col0\" class=\"data row6 col0\" >-0.007368</td>\n",
              "                        <td id=\"T_95585148_7788_11ea_a8dd_0242ac1c0002row6_col1\" class=\"data row6 col1\" >-0.010209</td>\n",
              "                        <td id=\"T_95585148_7788_11ea_a8dd_0242ac1c0002row6_col2\" class=\"data row6 col2\" >0.005788</td>\n",
              "                        <td id=\"T_95585148_7788_11ea_a8dd_0242ac1c0002row6_col3\" class=\"data row6 col3\" >0.006384</td>\n",
              "                        <td id=\"T_95585148_7788_11ea_a8dd_0242ac1c0002row6_col4\" class=\"data row6 col4\" >-0.003782</td>\n",
              "                        <td id=\"T_95585148_7788_11ea_a8dd_0242ac1c0002row6_col5\" class=\"data row6 col5\" >0.044296</td>\n",
              "                        <td id=\"T_95585148_7788_11ea_a8dd_0242ac1c0002row6_col6\" class=\"data row6 col6\" >1.000000</td>\n",
              "                        <td id=\"T_95585148_7788_11ea_a8dd_0242ac1c0002row6_col7\" class=\"data row6 col7\" >-0.008556</td>\n",
              "                        <td id=\"T_95585148_7788_11ea_a8dd_0242ac1c0002row6_col8\" class=\"data row6 col8\" >-0.005705</td>\n",
              "                        <td id=\"T_95585148_7788_11ea_a8dd_0242ac1c0002row6_col9\" class=\"data row6 col9\" >-0.009344</td>\n",
              "                        <td id=\"T_95585148_7788_11ea_a8dd_0242ac1c0002row6_col10\" class=\"data row6 col10\" >-0.000916</td>\n",
              "                        <td id=\"T_95585148_7788_11ea_a8dd_0242ac1c0002row6_col11\" class=\"data row6 col11\" >0.005166</td>\n",
              "                        <td id=\"T_95585148_7788_11ea_a8dd_0242ac1c0002row6_col12\" class=\"data row6 col12\" >0.000345</td>\n",
              "                        <td id=\"T_95585148_7788_11ea_a8dd_0242ac1c0002row6_col13\" class=\"data row6 col13\" >-0.001327</td>\n",
              "                        <td id=\"T_95585148_7788_11ea_a8dd_0242ac1c0002row6_col14\" class=\"data row6 col14\" >-0.001511</td>\n",
              "                        <td id=\"T_95585148_7788_11ea_a8dd_0242ac1c0002row6_col15\" class=\"data row6 col15\" >-0.002430</td>\n",
              "                        <td id=\"T_95585148_7788_11ea_a8dd_0242ac1c0002row6_col16\" class=\"data row6 col16\" >0.012025</td>\n",
              "                        <td id=\"T_95585148_7788_11ea_a8dd_0242ac1c0002row6_col17\" class=\"data row6 col17\" >0.000125</td>\n",
              "                        <td id=\"T_95585148_7788_11ea_a8dd_0242ac1c0002row6_col18\" class=\"data row6 col18\" >0.003903</td>\n",
              "                        <td id=\"T_95585148_7788_11ea_a8dd_0242ac1c0002row6_col19\" class=\"data row6 col19\" >-0.004909</td>\n",
              "            </tr>\n",
              "            <tr>\n",
              "                        <th id=\"T_95585148_7788_11ea_a8dd_0242ac1c0002level0_row7\" class=\"row_heading level0 row7\" >contact</th>\n",
              "                        <td id=\"T_95585148_7788_11ea_a8dd_0242ac1c0002row7_col0\" class=\"data row7 col0\" >0.007021</td>\n",
              "                        <td id=\"T_95585148_7788_11ea_a8dd_0242ac1c0002row7_col1\" class=\"data row7 col1\" >-0.025132</td>\n",
              "                        <td id=\"T_95585148_7788_11ea_a8dd_0242ac1c0002row7_col2\" class=\"data row7 col2\" >-0.054501</td>\n",
              "                        <td id=\"T_95585148_7788_11ea_a8dd_0242ac1c0002row7_col3\" class=\"data row7 col3\" >-0.105726</td>\n",
              "                        <td id=\"T_95585148_7788_11ea_a8dd_0242ac1c0002row7_col4\" class=\"data row7 col4\" >0.135238</td>\n",
              "                        <td id=\"T_95585148_7788_11ea_a8dd_0242ac1c0002row7_col5\" class=\"data row7 col5\" >-0.082186</td>\n",
              "                        <td id=\"T_95585148_7788_11ea_a8dd_0242ac1c0002row7_col6\" class=\"data row7 col6\" >-0.008556</td>\n",
              "                        <td id=\"T_95585148_7788_11ea_a8dd_0242ac1c0002row7_col7\" class=\"data row7 col7\" >1.000000</td>\n",
              "                        <td id=\"T_95585148_7788_11ea_a8dd_0242ac1c0002row7_col8\" class=\"data row7 col8\" >0.276565</td>\n",
              "                        <td id=\"T_95585148_7788_11ea_a8dd_0242ac1c0002row7_col9\" class=\"data row7 col9\" >-0.009575</td>\n",
              "                        <td id=\"T_95585148_7788_11ea_a8dd_0242ac1c0002row7_col10\" class=\"data row7 col10\" >-0.026657</td>\n",
              "                        <td id=\"T_95585148_7788_11ea_a8dd_0242ac1c0002row7_col11\" class=\"data row7 col11\" >0.077368</td>\n",
              "                        <td id=\"T_95585148_7788_11ea_a8dd_0242ac1c0002row7_col12\" class=\"data row7 col12\" >0.117970</td>\n",
              "                        <td id=\"T_95585148_7788_11ea_a8dd_0242ac1c0002row7_col13\" class=\"data row7 col13\" >-0.212848</td>\n",
              "                        <td id=\"T_95585148_7788_11ea_a8dd_0242ac1c0002row7_col14\" class=\"data row7 col14\" >0.118744</td>\n",
              "                        <td id=\"T_95585148_7788_11ea_a8dd_0242ac1c0002row7_col15\" class=\"data row7 col15\" >0.591474</td>\n",
              "                        <td id=\"T_95585148_7788_11ea_a8dd_0242ac1c0002row7_col16\" class=\"data row7 col16\" >-0.251614</td>\n",
              "                        <td id=\"T_95585148_7788_11ea_a8dd_0242ac1c0002row7_col17\" class=\"data row7 col17\" >0.399773</td>\n",
              "                        <td id=\"T_95585148_7788_11ea_a8dd_0242ac1c0002row7_col18\" class=\"data row7 col18\" >0.269155</td>\n",
              "                        <td id=\"T_95585148_7788_11ea_a8dd_0242ac1c0002row7_col19\" class=\"data row7 col19\" >-0.144773</td>\n",
              "            </tr>\n",
              "            <tr>\n",
              "                        <th id=\"T_95585148_7788_11ea_a8dd_0242ac1c0002level0_row8\" class=\"row_heading level0 row8\" >month</th>\n",
              "                        <td id=\"T_95585148_7788_11ea_a8dd_0242ac1c0002row8_col0\" class=\"data row8 col0\" >-0.024877</td>\n",
              "                        <td id=\"T_95585148_7788_11ea_a8dd_0242ac1c0002row8_col1\" class=\"data row8 col1\" >-0.033213</td>\n",
              "                        <td id=\"T_95585148_7788_11ea_a8dd_0242ac1c0002row8_col2\" class=\"data row8 col2\" >-0.007629</td>\n",
              "                        <td id=\"T_95585148_7788_11ea_a8dd_0242ac1c0002row8_col3\" class=\"data row8 col3\" >-0.082684</td>\n",
              "                        <td id=\"T_95585148_7788_11ea_a8dd_0242ac1c0002row8_col4\" class=\"data row8 col4\" >-0.015830</td>\n",
              "                        <td id=\"T_95585148_7788_11ea_a8dd_0242ac1c0002row8_col5\" class=\"data row8 col5\" >-0.018141</td>\n",
              "                        <td id=\"T_95585148_7788_11ea_a8dd_0242ac1c0002row8_col6\" class=\"data row8 col6\" >-0.005705</td>\n",
              "                        <td id=\"T_95585148_7788_11ea_a8dd_0242ac1c0002row8_col7\" class=\"data row8 col7\" >0.276565</td>\n",
              "                        <td id=\"T_95585148_7788_11ea_a8dd_0242ac1c0002row8_col8\" class=\"data row8 col8\" >1.000000</td>\n",
              "                        <td id=\"T_95585148_7788_11ea_a8dd_0242ac1c0002row8_col9\" class=\"data row8 col9\" >0.027677</td>\n",
              "                        <td id=\"T_95585148_7788_11ea_a8dd_0242ac1c0002row8_col10\" class=\"data row8 col10\" >0.003690</td>\n",
              "                        <td id=\"T_95585148_7788_11ea_a8dd_0242ac1c0002row8_col11\" class=\"data row8 col11\" >-0.062059</td>\n",
              "                        <td id=\"T_95585148_7788_11ea_a8dd_0242ac1c0002row8_col12\" class=\"data row8 col12\" >-0.047891</td>\n",
              "                        <td id=\"T_95585148_7788_11ea_a8dd_0242ac1c0002row8_col13\" class=\"data row8 col13\" >0.103157</td>\n",
              "                        <td id=\"T_95585148_7788_11ea_a8dd_0242ac1c0002row8_col14\" class=\"data row8 col14\" >-0.065012</td>\n",
              "                        <td id=\"T_95585148_7788_11ea_a8dd_0242ac1c0002row8_col15\" class=\"data row8 col15\" >-0.004239</td>\n",
              "                        <td id=\"T_95585148_7788_11ea_a8dd_0242ac1c0002row8_col16\" class=\"data row8 col16\" >-0.009652</td>\n",
              "                        <td id=\"T_95585148_7788_11ea_a8dd_0242ac1c0002row8_col17\" class=\"data row8 col17\" >-0.117264</td>\n",
              "                        <td id=\"T_95585148_7788_11ea_a8dd_0242ac1c0002row8_col18\" class=\"data row8 col18\" >-0.221425</td>\n",
              "                        <td id=\"T_95585148_7788_11ea_a8dd_0242ac1c0002row8_col19\" class=\"data row8 col19\" >-0.006065</td>\n",
              "            </tr>\n",
              "            <tr>\n",
              "                        <th id=\"T_95585148_7788_11ea_a8dd_0242ac1c0002level0_row9\" class=\"row_heading level0 row9\" >day_of_week</th>\n",
              "                        <td id=\"T_95585148_7788_11ea_a8dd_0242ac1c0002row9_col0\" class=\"data row9 col0\" >-0.017572</td>\n",
              "                        <td id=\"T_95585148_7788_11ea_a8dd_0242ac1c0002row9_col1\" class=\"data row9 col1\" >-0.000844</td>\n",
              "                        <td id=\"T_95585148_7788_11ea_a8dd_0242ac1c0002row9_col2\" class=\"data row9 col2\" >0.002202</td>\n",
              "                        <td id=\"T_95585148_7788_11ea_a8dd_0242ac1c0002row9_col3\" class=\"data row9 col3\" >-0.017986</td>\n",
              "                        <td id=\"T_95585148_7788_11ea_a8dd_0242ac1c0002row9_col4\" class=\"data row9 col4\" >-0.008701</td>\n",
              "                        <td id=\"T_95585148_7788_11ea_a8dd_0242ac1c0002row9_col5\" class=\"data row9 col5\" >0.003339</td>\n",
              "                        <td id=\"T_95585148_7788_11ea_a8dd_0242ac1c0002row9_col6\" class=\"data row9 col6\" >-0.009344</td>\n",
              "                        <td id=\"T_95585148_7788_11ea_a8dd_0242ac1c0002row9_col7\" class=\"data row9 col7\" >-0.009575</td>\n",
              "                        <td id=\"T_95585148_7788_11ea_a8dd_0242ac1c0002row9_col8\" class=\"data row9 col8\" >0.027677</td>\n",
              "                        <td id=\"T_95585148_7788_11ea_a8dd_0242ac1c0002row9_col9\" class=\"data row9 col9\" >1.000000</td>\n",
              "                        <td id=\"T_95585148_7788_11ea_a8dd_0242ac1c0002row9_col10\" class=\"data row9 col10\" >0.021950</td>\n",
              "                        <td id=\"T_95585148_7788_11ea_a8dd_0242ac1c0002row9_col11\" class=\"data row9 col11\" >-0.038288</td>\n",
              "                        <td id=\"T_95585148_7788_11ea_a8dd_0242ac1c0002row9_col12\" class=\"data row9 col12\" >-0.009531</td>\n",
              "                        <td id=\"T_95585148_7788_11ea_a8dd_0242ac1c0002row9_col13\" class=\"data row9 col13\" >-0.004102</td>\n",
              "                        <td id=\"T_95585148_7788_11ea_a8dd_0242ac1c0002row9_col14\" class=\"data row9 col14\" >0.018732</td>\n",
              "                        <td id=\"T_95585148_7788_11ea_a8dd_0242ac1c0002row9_col15\" class=\"data row9 col15\" >0.005644</td>\n",
              "                        <td id=\"T_95585148_7788_11ea_a8dd_0242ac1c0002row9_col16\" class=\"data row9 col16\" >-0.041465</td>\n",
              "                        <td id=\"T_95585148_7788_11ea_a8dd_0242ac1c0002row9_col17\" class=\"data row9 col17\" >0.039043</td>\n",
              "                        <td id=\"T_95585148_7788_11ea_a8dd_0242ac1c0002row9_col18\" class=\"data row9 col18\" >0.028380</td>\n",
              "                        <td id=\"T_95585148_7788_11ea_a8dd_0242ac1c0002row9_col19\" class=\"data row9 col19\" >0.015967</td>\n",
              "            </tr>\n",
              "            <tr>\n",
              "                        <th id=\"T_95585148_7788_11ea_a8dd_0242ac1c0002level0_row10\" class=\"row_heading level0 row10\" >duration</th>\n",
              "                        <td id=\"T_95585148_7788_11ea_a8dd_0242ac1c0002row10_col0\" class=\"data row10 col0\" >-0.000866</td>\n",
              "                        <td id=\"T_95585148_7788_11ea_a8dd_0242ac1c0002row10_col1\" class=\"data row10 col1\" >-0.006490</td>\n",
              "                        <td id=\"T_95585148_7788_11ea_a8dd_0242ac1c0002row10_col2\" class=\"data row10 col2\" >0.010290</td>\n",
              "                        <td id=\"T_95585148_7788_11ea_a8dd_0242ac1c0002row10_col3\" class=\"data row10 col3\" >-0.015102</td>\n",
              "                        <td id=\"T_95585148_7788_11ea_a8dd_0242ac1c0002row10_col4\" class=\"data row10 col4\" >-0.011794</td>\n",
              "                        <td id=\"T_95585148_7788_11ea_a8dd_0242ac1c0002row10_col5\" class=\"data row10 col5\" >-0.007658</td>\n",
              "                        <td id=\"T_95585148_7788_11ea_a8dd_0242ac1c0002row10_col6\" class=\"data row10 col6\" >-0.000916</td>\n",
              "                        <td id=\"T_95585148_7788_11ea_a8dd_0242ac1c0002row10_col7\" class=\"data row10 col7\" >-0.026657</td>\n",
              "                        <td id=\"T_95585148_7788_11ea_a8dd_0242ac1c0002row10_col8\" class=\"data row10 col8\" >0.003690</td>\n",
              "                        <td id=\"T_95585148_7788_11ea_a8dd_0242ac1c0002row10_col9\" class=\"data row10 col9\" >0.021950</td>\n",
              "                        <td id=\"T_95585148_7788_11ea_a8dd_0242ac1c0002row10_col10\" class=\"data row10 col10\" >1.000000</td>\n",
              "                        <td id=\"T_95585148_7788_11ea_a8dd_0242ac1c0002row10_col11\" class=\"data row10 col11\" >-0.071699</td>\n",
              "                        <td id=\"T_95585148_7788_11ea_a8dd_0242ac1c0002row10_col12\" class=\"data row10 col12\" >-0.047577</td>\n",
              "                        <td id=\"T_95585148_7788_11ea_a8dd_0242ac1c0002row10_col13\" class=\"data row10 col13\" >0.020640</td>\n",
              "                        <td id=\"T_95585148_7788_11ea_a8dd_0242ac1c0002row10_col14\" class=\"data row10 col14\" >0.033360</td>\n",
              "                        <td id=\"T_95585148_7788_11ea_a8dd_0242ac1c0002row10_col15\" class=\"data row10 col15\" >0.005312</td>\n",
              "                        <td id=\"T_95585148_7788_11ea_a8dd_0242ac1c0002row10_col16\" class=\"data row10 col16\" >0.008173</td>\n",
              "                        <td id=\"T_95585148_7788_11ea_a8dd_0242ac1c0002row10_col17\" class=\"data row10 col17\" >-0.032897</td>\n",
              "                        <td id=\"T_95585148_7788_11ea_a8dd_0242ac1c0002row10_col18\" class=\"data row10 col18\" >-0.044703</td>\n",
              "                        <td id=\"T_95585148_7788_11ea_a8dd_0242ac1c0002row10_col19\" class=\"data row10 col19\" >0.405274</td>\n",
              "            </tr>\n",
              "            <tr>\n",
              "                        <th id=\"T_95585148_7788_11ea_a8dd_0242ac1c0002level0_row11\" class=\"row_heading level0 row11\" >campaign</th>\n",
              "                        <td id=\"T_95585148_7788_11ea_a8dd_0242ac1c0002row11_col0\" class=\"data row11 col0\" >0.004594</td>\n",
              "                        <td id=\"T_95585148_7788_11ea_a8dd_0242ac1c0002row11_col1\" class=\"data row11 col1\" >-0.006923</td>\n",
              "                        <td id=\"T_95585148_7788_11ea_a8dd_0242ac1c0002row11_col2\" class=\"data row11 col2\" >-0.007240</td>\n",
              "                        <td id=\"T_95585148_7788_11ea_a8dd_0242ac1c0002row11_col3\" class=\"data row11 col3\" >0.000371</td>\n",
              "                        <td id=\"T_95585148_7788_11ea_a8dd_0242ac1c0002row11_col4\" class=\"data row11 col4\" >0.032825</td>\n",
              "                        <td id=\"T_95585148_7788_11ea_a8dd_0242ac1c0002row11_col5\" class=\"data row11 col5\" >-0.011010</td>\n",
              "                        <td id=\"T_95585148_7788_11ea_a8dd_0242ac1c0002row11_col6\" class=\"data row11 col6\" >0.005166</td>\n",
              "                        <td id=\"T_95585148_7788_11ea_a8dd_0242ac1c0002row11_col7\" class=\"data row11 col7\" >0.077368</td>\n",
              "                        <td id=\"T_95585148_7788_11ea_a8dd_0242ac1c0002row11_col8\" class=\"data row11 col8\" >-0.062059</td>\n",
              "                        <td id=\"T_95585148_7788_11ea_a8dd_0242ac1c0002row11_col9\" class=\"data row11 col9\" >-0.038288</td>\n",
              "                        <td id=\"T_95585148_7788_11ea_a8dd_0242ac1c0002row11_col10\" class=\"data row11 col10\" >-0.071699</td>\n",
              "                        <td id=\"T_95585148_7788_11ea_a8dd_0242ac1c0002row11_col11\" class=\"data row11 col11\" >1.000000</td>\n",
              "                        <td id=\"T_95585148_7788_11ea_a8dd_0242ac1c0002row11_col12\" class=\"data row11 col12\" >0.052584</td>\n",
              "                        <td id=\"T_95585148_7788_11ea_a8dd_0242ac1c0002row11_col13\" class=\"data row11 col13\" >-0.079141</td>\n",
              "                        <td id=\"T_95585148_7788_11ea_a8dd_0242ac1c0002row11_col14\" class=\"data row11 col14\" >0.032586</td>\n",
              "                        <td id=\"T_95585148_7788_11ea_a8dd_0242ac1c0002row11_col15\" class=\"data row11 col15\" >0.127836</td>\n",
              "                        <td id=\"T_95585148_7788_11ea_a8dd_0242ac1c0002row11_col16\" class=\"data row11 col16\" >0.013733</td>\n",
              "                        <td id=\"T_95585148_7788_11ea_a8dd_0242ac1c0002row11_col17\" class=\"data row11 col17\" >0.135133</td>\n",
              "                        <td id=\"T_95585148_7788_11ea_a8dd_0242ac1c0002row11_col18\" class=\"data row11 col18\" >0.144095</td>\n",
              "                        <td id=\"T_95585148_7788_11ea_a8dd_0242ac1c0002row11_col19\" class=\"data row11 col19\" >-0.066357</td>\n",
              "            </tr>\n",
              "            <tr>\n",
              "                        <th id=\"T_95585148_7788_11ea_a8dd_0242ac1c0002level0_row12\" class=\"row_heading level0 row12\" >pdays</th>\n",
              "                        <td id=\"T_95585148_7788_11ea_a8dd_0242ac1c0002row12_col0\" class=\"data row12 col0\" >-0.034369</td>\n",
              "                        <td id=\"T_95585148_7788_11ea_a8dd_0242ac1c0002row12_col1\" class=\"data row12 col1\" >-0.028468</td>\n",
              "                        <td id=\"T_95585148_7788_11ea_a8dd_0242ac1c0002row12_col2\" class=\"data row12 col2\" >-0.037942</td>\n",
              "                        <td id=\"T_95585148_7788_11ea_a8dd_0242ac1c0002row12_col3\" class=\"data row12 col3\" >-0.046626</td>\n",
              "                        <td id=\"T_95585148_7788_11ea_a8dd_0242ac1c0002row12_col4\" class=\"data row12 col4\" >0.080062</td>\n",
              "                        <td id=\"T_95585148_7788_11ea_a8dd_0242ac1c0002row12_col5\" class=\"data row12 col5\" >-0.010551</td>\n",
              "                        <td id=\"T_95585148_7788_11ea_a8dd_0242ac1c0002row12_col6\" class=\"data row12 col6\" >0.000345</td>\n",
              "                        <td id=\"T_95585148_7788_11ea_a8dd_0242ac1c0002row12_col7\" class=\"data row12 col7\" >0.117970</td>\n",
              "                        <td id=\"T_95585148_7788_11ea_a8dd_0242ac1c0002row12_col8\" class=\"data row12 col8\" >-0.047891</td>\n",
              "                        <td id=\"T_95585148_7788_11ea_a8dd_0242ac1c0002row12_col9\" class=\"data row12 col9\" >-0.009531</td>\n",
              "                        <td id=\"T_95585148_7788_11ea_a8dd_0242ac1c0002row12_col10\" class=\"data row12 col10\" >-0.047577</td>\n",
              "                        <td id=\"T_95585148_7788_11ea_a8dd_0242ac1c0002row12_col11\" class=\"data row12 col11\" >0.052584</td>\n",
              "                        <td id=\"T_95585148_7788_11ea_a8dd_0242ac1c0002row12_col12\" class=\"data row12 col12\" >1.000000</td>\n",
              "                        <td id=\"T_95585148_7788_11ea_a8dd_0242ac1c0002row12_col13\" class=\"data row12 col13\" >-0.587514</td>\n",
              "                        <td id=\"T_95585148_7788_11ea_a8dd_0242ac1c0002row12_col14\" class=\"data row12 col14\" >-0.475619</td>\n",
              "                        <td id=\"T_95585148_7788_11ea_a8dd_0242ac1c0002row12_col15\" class=\"data row12 col15\" >0.078889</td>\n",
              "                        <td id=\"T_95585148_7788_11ea_a8dd_0242ac1c0002row12_col16\" class=\"data row12 col16\" >0.091342</td>\n",
              "                        <td id=\"T_95585148_7788_11ea_a8dd_0242ac1c0002row12_col17\" class=\"data row12 col17\" >0.296899</td>\n",
              "                        <td id=\"T_95585148_7788_11ea_a8dd_0242ac1c0002row12_col18\" class=\"data row12 col18\" >0.372605</td>\n",
              "                        <td id=\"T_95585148_7788_11ea_a8dd_0242ac1c0002row12_col19\" class=\"data row12 col19\" >-0.324914</td>\n",
              "            </tr>\n",
              "            <tr>\n",
              "                        <th id=\"T_95585148_7788_11ea_a8dd_0242ac1c0002level0_row13\" class=\"row_heading level0 row13\" >previous</th>\n",
              "                        <td id=\"T_95585148_7788_11ea_a8dd_0242ac1c0002row13_col0\" class=\"data row13 col0\" >0.024365</td>\n",
              "                        <td id=\"T_95585148_7788_11ea_a8dd_0242ac1c0002row13_col1\" class=\"data row13 col1\" >0.020965</td>\n",
              "                        <td id=\"T_95585148_7788_11ea_a8dd_0242ac1c0002row13_col2\" class=\"data row13 col2\" >0.038689</td>\n",
              "                        <td id=\"T_95585148_7788_11ea_a8dd_0242ac1c0002row13_col3\" class=\"data row13 col3\" >0.038831</td>\n",
              "                        <td id=\"T_95585148_7788_11ea_a8dd_0242ac1c0002row13_col4\" class=\"data row13 col4\" >-0.102416</td>\n",
              "                        <td id=\"T_95585148_7788_11ea_a8dd_0242ac1c0002row13_col5\" class=\"data row13 col5\" >0.021314</td>\n",
              "                        <td id=\"T_95585148_7788_11ea_a8dd_0242ac1c0002row13_col6\" class=\"data row13 col6\" >-0.001327</td>\n",
              "                        <td id=\"T_95585148_7788_11ea_a8dd_0242ac1c0002row13_col7\" class=\"data row13 col7\" >-0.212848</td>\n",
              "                        <td id=\"T_95585148_7788_11ea_a8dd_0242ac1c0002row13_col8\" class=\"data row13 col8\" >0.103157</td>\n",
              "                        <td id=\"T_95585148_7788_11ea_a8dd_0242ac1c0002row13_col9\" class=\"data row13 col9\" >-0.004102</td>\n",
              "                        <td id=\"T_95585148_7788_11ea_a8dd_0242ac1c0002row13_col10\" class=\"data row13 col10\" >0.020640</td>\n",
              "                        <td id=\"T_95585148_7788_11ea_a8dd_0242ac1c0002row13_col11\" class=\"data row13 col11\" >-0.079141</td>\n",
              "                        <td id=\"T_95585148_7788_11ea_a8dd_0242ac1c0002row13_col12\" class=\"data row13 col12\" >-0.587514</td>\n",
              "                        <td id=\"T_95585148_7788_11ea_a8dd_0242ac1c0002row13_col13\" class=\"data row13 col13\" >1.000000</td>\n",
              "                        <td id=\"T_95585148_7788_11ea_a8dd_0242ac1c0002row13_col14\" class=\"data row13 col14\" >-0.313110</td>\n",
              "                        <td id=\"T_95585148_7788_11ea_a8dd_0242ac1c0002row13_col15\" class=\"data row13 col15\" >-0.203130</td>\n",
              "                        <td id=\"T_95585148_7788_11ea_a8dd_0242ac1c0002row13_col16\" class=\"data row13 col16\" >0.050936</td>\n",
              "                        <td id=\"T_95585148_7788_11ea_a8dd_0242ac1c0002row13_col17\" class=\"data row13 col17\" >-0.454494</td>\n",
              "                        <td id=\"T_95585148_7788_11ea_a8dd_0242ac1c0002row13_col18\" class=\"data row13 col18\" >-0.501333</td>\n",
              "                        <td id=\"T_95585148_7788_11ea_a8dd_0242ac1c0002row13_col19\" class=\"data row13 col19\" >0.230181</td>\n",
              "            </tr>\n",
              "            <tr>\n",
              "                        <th id=\"T_95585148_7788_11ea_a8dd_0242ac1c0002level0_row14\" class=\"row_heading level0 row14\" >poutcome</th>\n",
              "                        <td id=\"T_95585148_7788_11ea_a8dd_0242ac1c0002row14_col0\" class=\"data row14 col0\" >0.019750</td>\n",
              "                        <td id=\"T_95585148_7788_11ea_a8dd_0242ac1c0002row14_col1\" class=\"data row14 col1\" >0.011504</td>\n",
              "                        <td id=\"T_95585148_7788_11ea_a8dd_0242ac1c0002row14_col2\" class=\"data row14 col2\" >0.001912</td>\n",
              "                        <td id=\"T_95585148_7788_11ea_a8dd_0242ac1c0002row14_col3\" class=\"data row14 col3\" >0.017009</td>\n",
              "                        <td id=\"T_95585148_7788_11ea_a8dd_0242ac1c0002row14_col4\" class=\"data row14 col4\" >0.023417</td>\n",
              "                        <td id=\"T_95585148_7788_11ea_a8dd_0242ac1c0002row14_col5\" class=\"data row14 col5\" >-0.011783</td>\n",
              "                        <td id=\"T_95585148_7788_11ea_a8dd_0242ac1c0002row14_col6\" class=\"data row14 col6\" >-0.001511</td>\n",
              "                        <td id=\"T_95585148_7788_11ea_a8dd_0242ac1c0002row14_col7\" class=\"data row14 col7\" >0.118744</td>\n",
              "                        <td id=\"T_95585148_7788_11ea_a8dd_0242ac1c0002row14_col8\" class=\"data row14 col8\" >-0.065012</td>\n",
              "                        <td id=\"T_95585148_7788_11ea_a8dd_0242ac1c0002row14_col9\" class=\"data row14 col9\" >0.018732</td>\n",
              "                        <td id=\"T_95585148_7788_11ea_a8dd_0242ac1c0002row14_col10\" class=\"data row14 col10\" >0.033360</td>\n",
              "                        <td id=\"T_95585148_7788_11ea_a8dd_0242ac1c0002row14_col11\" class=\"data row14 col11\" >0.032586</td>\n",
              "                        <td id=\"T_95585148_7788_11ea_a8dd_0242ac1c0002row14_col12\" class=\"data row14 col12\" >-0.475619</td>\n",
              "                        <td id=\"T_95585148_7788_11ea_a8dd_0242ac1c0002row14_col13\" class=\"data row14 col13\" >-0.313110</td>\n",
              "                        <td id=\"T_95585148_7788_11ea_a8dd_0242ac1c0002row14_col14\" class=\"data row14 col14\" >1.000000</td>\n",
              "                        <td id=\"T_95585148_7788_11ea_a8dd_0242ac1c0002row14_col15\" class=\"data row14 col15\" >0.211330</td>\n",
              "                        <td id=\"T_95585148_7788_11ea_a8dd_0242ac1c0002row14_col16\" class=\"data row14 col16\" >-0.178289</td>\n",
              "                        <td id=\"T_95585148_7788_11ea_a8dd_0242ac1c0002row14_col17\" class=\"data row14 col17\" >0.184144</td>\n",
              "                        <td id=\"T_95585148_7788_11ea_a8dd_0242ac1c0002row14_col18\" class=\"data row14 col18\" >0.119689</td>\n",
              "                        <td id=\"T_95585148_7788_11ea_a8dd_0242ac1c0002row14_col19\" class=\"data row14 col19\" >0.129789</td>\n",
              "            </tr>\n",
              "            <tr>\n",
              "                        <th id=\"T_95585148_7788_11ea_a8dd_0242ac1c0002level0_row15\" class=\"row_heading level0 row15\" >cons_price_idx</th>\n",
              "                        <td id=\"T_95585148_7788_11ea_a8dd_0242ac1c0002row15_col0\" class=\"data row15 col0\" >0.000857</td>\n",
              "                        <td id=\"T_95585148_7788_11ea_a8dd_0242ac1c0002row15_col1\" class=\"data row15 col1\" >-0.016017</td>\n",
              "                        <td id=\"T_95585148_7788_11ea_a8dd_0242ac1c0002row15_col2\" class=\"data row15 col2\" >-0.057477</td>\n",
              "                        <td id=\"T_95585148_7788_11ea_a8dd_0242ac1c0002row15_col3\" class=\"data row15 col3\" >-0.081607</td>\n",
              "                        <td id=\"T_95585148_7788_11ea_a8dd_0242ac1c0002row15_col4\" class=\"data row15 col4\" >0.168073</td>\n",
              "                        <td id=\"T_95585148_7788_11ea_a8dd_0242ac1c0002row15_col5\" class=\"data row15 col5\" >-0.080504</td>\n",
              "                        <td id=\"T_95585148_7788_11ea_a8dd_0242ac1c0002row15_col6\" class=\"data row15 col6\" >-0.002430</td>\n",
              "                        <td id=\"T_95585148_7788_11ea_a8dd_0242ac1c0002row15_col7\" class=\"data row15 col7\" >0.591474</td>\n",
              "                        <td id=\"T_95585148_7788_11ea_a8dd_0242ac1c0002row15_col8\" class=\"data row15 col8\" >-0.004239</td>\n",
              "                        <td id=\"T_95585148_7788_11ea_a8dd_0242ac1c0002row15_col9\" class=\"data row15 col9\" >0.005644</td>\n",
              "                        <td id=\"T_95585148_7788_11ea_a8dd_0242ac1c0002row15_col10\" class=\"data row15 col10\" >0.005312</td>\n",
              "                        <td id=\"T_95585148_7788_11ea_a8dd_0242ac1c0002row15_col11\" class=\"data row15 col11\" >0.127836</td>\n",
              "                        <td id=\"T_95585148_7788_11ea_a8dd_0242ac1c0002row15_col12\" class=\"data row15 col12\" >0.078889</td>\n",
              "                        <td id=\"T_95585148_7788_11ea_a8dd_0242ac1c0002row15_col13\" class=\"data row15 col13\" >-0.203130</td>\n",
              "                        <td id=\"T_95585148_7788_11ea_a8dd_0242ac1c0002row15_col14\" class=\"data row15 col14\" >0.211330</td>\n",
              "                        <td id=\"T_95585148_7788_11ea_a8dd_0242ac1c0002row15_col15\" class=\"data row15 col15\" >1.000000</td>\n",
              "                        <td id=\"T_95585148_7788_11ea_a8dd_0242ac1c0002row15_col16\" class=\"data row15 col16\" >-0.058986</td>\n",
              "                        <td id=\"T_95585148_7788_11ea_a8dd_0242ac1c0002row15_col17\" class=\"data row15 col17\" >0.688230</td>\n",
              "                        <td id=\"T_95585148_7788_11ea_a8dd_0242ac1c0002row15_col18\" class=\"data row15 col18\" >0.522034</td>\n",
              "                        <td id=\"T_95585148_7788_11ea_a8dd_0242ac1c0002row15_col19\" class=\"data row15 col19\" >-0.136211</td>\n",
              "            </tr>\n",
              "            <tr>\n",
              "                        <th id=\"T_95585148_7788_11ea_a8dd_0242ac1c0002level0_row16\" class=\"row_heading level0 row16\" >cons_conf_idx</th>\n",
              "                        <td id=\"T_95585148_7788_11ea_a8dd_0242ac1c0002row16_col0\" class=\"data row16 col0\" >-0.129372</td>\n",
              "                        <td id=\"T_95585148_7788_11ea_a8dd_0242ac1c0002row16_col1\" class=\"data row16 col1\" >-0.052760</td>\n",
              "                        <td id=\"T_95585148_7788_11ea_a8dd_0242ac1c0002row16_col2\" class=\"data row16 col2\" >0.033783</td>\n",
              "                        <td id=\"T_95585148_7788_11ea_a8dd_0242ac1c0002row16_col3\" class=\"data row16 col3\" >-0.078799</td>\n",
              "                        <td id=\"T_95585148_7788_11ea_a8dd_0242ac1c0002row16_col4\" class=\"data row16 col4\" >-0.026522</td>\n",
              "                        <td id=\"T_95585148_7788_11ea_a8dd_0242ac1c0002row16_col5\" class=\"data row16 col5\" >0.033845</td>\n",
              "                        <td id=\"T_95585148_7788_11ea_a8dd_0242ac1c0002row16_col6\" class=\"data row16 col6\" >0.012025</td>\n",
              "                        <td id=\"T_95585148_7788_11ea_a8dd_0242ac1c0002row16_col7\" class=\"data row16 col7\" >-0.251614</td>\n",
              "                        <td id=\"T_95585148_7788_11ea_a8dd_0242ac1c0002row16_col8\" class=\"data row16 col8\" >-0.009652</td>\n",
              "                        <td id=\"T_95585148_7788_11ea_a8dd_0242ac1c0002row16_col9\" class=\"data row16 col9\" >-0.041465</td>\n",
              "                        <td id=\"T_95585148_7788_11ea_a8dd_0242ac1c0002row16_col10\" class=\"data row16 col10\" >0.008173</td>\n",
              "                        <td id=\"T_95585148_7788_11ea_a8dd_0242ac1c0002row16_col11\" class=\"data row16 col11\" >0.013733</td>\n",
              "                        <td id=\"T_95585148_7788_11ea_a8dd_0242ac1c0002row16_col12\" class=\"data row16 col12\" >0.091342</td>\n",
              "                        <td id=\"T_95585148_7788_11ea_a8dd_0242ac1c0002row16_col13\" class=\"data row16 col13\" >0.050936</td>\n",
              "                        <td id=\"T_95585148_7788_11ea_a8dd_0242ac1c0002row16_col14\" class=\"data row16 col14\" >-0.178289</td>\n",
              "                        <td id=\"T_95585148_7788_11ea_a8dd_0242ac1c0002row16_col15\" class=\"data row16 col15\" >-0.058986</td>\n",
              "                        <td id=\"T_95585148_7788_11ea_a8dd_0242ac1c0002row16_col16\" class=\"data row16 col16\" >1.000000</td>\n",
              "                        <td id=\"T_95585148_7788_11ea_a8dd_0242ac1c0002row16_col17\" class=\"data row16 col17\" >-0.277686</td>\n",
              "                        <td id=\"T_95585148_7788_11ea_a8dd_0242ac1c0002row16_col18\" class=\"data row16 col18\" >-0.100513</td>\n",
              "                        <td id=\"T_95585148_7788_11ea_a8dd_0242ac1c0002row16_col19\" class=\"data row16 col19\" >-0.054878</td>\n",
              "            </tr>\n",
              "            <tr>\n",
              "                        <th id=\"T_95585148_7788_11ea_a8dd_0242ac1c0002level0_row17\" class=\"row_heading level0 row17\" >euribor3m</th>\n",
              "                        <td id=\"T_95585148_7788_11ea_a8dd_0242ac1c0002row17_col0\" class=\"data row17 col0\" >0.010767</td>\n",
              "                        <td id=\"T_95585148_7788_11ea_a8dd_0242ac1c0002row17_col1\" class=\"data row17 col1\" >-0.007880</td>\n",
              "                        <td id=\"T_95585148_7788_11ea_a8dd_0242ac1c0002row17_col2\" class=\"data row17 col2\" >-0.091939</td>\n",
              "                        <td id=\"T_95585148_7788_11ea_a8dd_0242ac1c0002row17_col3\" class=\"data row17 col3\" >-0.036380</td>\n",
              "                        <td id=\"T_95585148_7788_11ea_a8dd_0242ac1c0002row17_col4\" class=\"data row17 col4\" >0.195336</td>\n",
              "                        <td id=\"T_95585148_7788_11ea_a8dd_0242ac1c0002row17_col5\" class=\"data row17 col5\" >-0.059277</td>\n",
              "                        <td id=\"T_95585148_7788_11ea_a8dd_0242ac1c0002row17_col6\" class=\"data row17 col6\" >0.000125</td>\n",
              "                        <td id=\"T_95585148_7788_11ea_a8dd_0242ac1c0002row17_col7\" class=\"data row17 col7\" >0.399773</td>\n",
              "                        <td id=\"T_95585148_7788_11ea_a8dd_0242ac1c0002row17_col8\" class=\"data row17 col8\" >-0.117264</td>\n",
              "                        <td id=\"T_95585148_7788_11ea_a8dd_0242ac1c0002row17_col9\" class=\"data row17 col9\" >0.039043</td>\n",
              "                        <td id=\"T_95585148_7788_11ea_a8dd_0242ac1c0002row17_col10\" class=\"data row17 col10\" >-0.032897</td>\n",
              "                        <td id=\"T_95585148_7788_11ea_a8dd_0242ac1c0002row17_col11\" class=\"data row17 col11\" >0.135133</td>\n",
              "                        <td id=\"T_95585148_7788_11ea_a8dd_0242ac1c0002row17_col12\" class=\"data row17 col12\" >0.296899</td>\n",
              "                        <td id=\"T_95585148_7788_11ea_a8dd_0242ac1c0002row17_col13\" class=\"data row17 col13\" >-0.454494</td>\n",
              "                        <td id=\"T_95585148_7788_11ea_a8dd_0242ac1c0002row17_col14\" class=\"data row17 col14\" >0.184144</td>\n",
              "                        <td id=\"T_95585148_7788_11ea_a8dd_0242ac1c0002row17_col15\" class=\"data row17 col15\" >0.688230</td>\n",
              "                        <td id=\"T_95585148_7788_11ea_a8dd_0242ac1c0002row17_col16\" class=\"data row17 col16\" >-0.277686</td>\n",
              "                        <td id=\"T_95585148_7788_11ea_a8dd_0242ac1c0002row17_col17\" class=\"data row17 col17\" >1.000000</td>\n",
              "                        <td id=\"T_95585148_7788_11ea_a8dd_0242ac1c0002row17_col18\" class=\"data row17 col18\" >0.945154</td>\n",
              "                        <td id=\"T_95585148_7788_11ea_a8dd_0242ac1c0002row17_col19\" class=\"data row17 col19\" >-0.307771</td>\n",
              "            </tr>\n",
              "            <tr>\n",
              "                        <th id=\"T_95585148_7788_11ea_a8dd_0242ac1c0002level0_row18\" class=\"row_heading level0 row18\" >nr_employed</th>\n",
              "                        <td id=\"T_95585148_7788_11ea_a8dd_0242ac1c0002row18_col0\" class=\"data row18 col0\" >-0.017725</td>\n",
              "                        <td id=\"T_95585148_7788_11ea_a8dd_0242ac1c0002row18_col1\" class=\"data row18 col1\" >-0.019574</td>\n",
              "                        <td id=\"T_95585148_7788_11ea_a8dd_0242ac1c0002row18_col2\" class=\"data row18 col2\" >-0.086199</td>\n",
              "                        <td id=\"T_95585148_7788_11ea_a8dd_0242ac1c0002row18_col3\" class=\"data row18 col3\" >-0.041492</td>\n",
              "                        <td id=\"T_95585148_7788_11ea_a8dd_0242ac1c0002row18_col4\" class=\"data row18 col4\" >0.189845</td>\n",
              "                        <td id=\"T_95585148_7788_11ea_a8dd_0242ac1c0002row18_col5\" class=\"data row18 col5\" >-0.045862</td>\n",
              "                        <td id=\"T_95585148_7788_11ea_a8dd_0242ac1c0002row18_col6\" class=\"data row18 col6\" >0.003903</td>\n",
              "                        <td id=\"T_95585148_7788_11ea_a8dd_0242ac1c0002row18_col7\" class=\"data row18 col7\" >0.269155</td>\n",
              "                        <td id=\"T_95585148_7788_11ea_a8dd_0242ac1c0002row18_col8\" class=\"data row18 col8\" >-0.221425</td>\n",
              "                        <td id=\"T_95585148_7788_11ea_a8dd_0242ac1c0002row18_col9\" class=\"data row18 col9\" >0.028380</td>\n",
              "                        <td id=\"T_95585148_7788_11ea_a8dd_0242ac1c0002row18_col10\" class=\"data row18 col10\" >-0.044703</td>\n",
              "                        <td id=\"T_95585148_7788_11ea_a8dd_0242ac1c0002row18_col11\" class=\"data row18 col11\" >0.144095</td>\n",
              "                        <td id=\"T_95585148_7788_11ea_a8dd_0242ac1c0002row18_col12\" class=\"data row18 col12\" >0.372605</td>\n",
              "                        <td id=\"T_95585148_7788_11ea_a8dd_0242ac1c0002row18_col13\" class=\"data row18 col13\" >-0.501333</td>\n",
              "                        <td id=\"T_95585148_7788_11ea_a8dd_0242ac1c0002row18_col14\" class=\"data row18 col14\" >0.119689</td>\n",
              "                        <td id=\"T_95585148_7788_11ea_a8dd_0242ac1c0002row18_col15\" class=\"data row18 col15\" >0.522034</td>\n",
              "                        <td id=\"T_95585148_7788_11ea_a8dd_0242ac1c0002row18_col16\" class=\"data row18 col16\" >-0.100513</td>\n",
              "                        <td id=\"T_95585148_7788_11ea_a8dd_0242ac1c0002row18_col17\" class=\"data row18 col17\" >0.945154</td>\n",
              "                        <td id=\"T_95585148_7788_11ea_a8dd_0242ac1c0002row18_col18\" class=\"data row18 col18\" >1.000000</td>\n",
              "                        <td id=\"T_95585148_7788_11ea_a8dd_0242ac1c0002row18_col19\" class=\"data row18 col19\" >-0.354678</td>\n",
              "            </tr>\n",
              "            <tr>\n",
              "                        <th id=\"T_95585148_7788_11ea_a8dd_0242ac1c0002level0_row19\" class=\"row_heading level0 row19\" >y</th>\n",
              "                        <td id=\"T_95585148_7788_11ea_a8dd_0242ac1c0002row19_col0\" class=\"data row19 col0\" >0.030399</td>\n",
              "                        <td id=\"T_95585148_7788_11ea_a8dd_0242ac1c0002row19_col1\" class=\"data row19 col1\" >0.025122</td>\n",
              "                        <td id=\"T_95585148_7788_11ea_a8dd_0242ac1c0002row19_col2\" class=\"data row19 col2\" >0.046203</td>\n",
              "                        <td id=\"T_95585148_7788_11ea_a8dd_0242ac1c0002row19_col3\" class=\"data row19 col3\" >0.057799</td>\n",
              "                        <td id=\"T_95585148_7788_11ea_a8dd_0242ac1c0002row19_col4\" class=\"data row19 col4\" >-0.099352</td>\n",
              "                        <td id=\"T_95585148_7788_11ea_a8dd_0242ac1c0002row19_col5\" class=\"data row19 col5\" >0.011552</td>\n",
              "                        <td id=\"T_95585148_7788_11ea_a8dd_0242ac1c0002row19_col6\" class=\"data row19 col6\" >-0.004909</td>\n",
              "                        <td id=\"T_95585148_7788_11ea_a8dd_0242ac1c0002row19_col7\" class=\"data row19 col7\" >-0.144773</td>\n",
              "                        <td id=\"T_95585148_7788_11ea_a8dd_0242ac1c0002row19_col8\" class=\"data row19 col8\" >-0.006065</td>\n",
              "                        <td id=\"T_95585148_7788_11ea_a8dd_0242ac1c0002row19_col9\" class=\"data row19 col9\" >0.015967</td>\n",
              "                        <td id=\"T_95585148_7788_11ea_a8dd_0242ac1c0002row19_col10\" class=\"data row19 col10\" >0.405274</td>\n",
              "                        <td id=\"T_95585148_7788_11ea_a8dd_0242ac1c0002row19_col11\" class=\"data row19 col11\" >-0.066357</td>\n",
              "                        <td id=\"T_95585148_7788_11ea_a8dd_0242ac1c0002row19_col12\" class=\"data row19 col12\" >-0.324914</td>\n",
              "                        <td id=\"T_95585148_7788_11ea_a8dd_0242ac1c0002row19_col13\" class=\"data row19 col13\" >0.230181</td>\n",
              "                        <td id=\"T_95585148_7788_11ea_a8dd_0242ac1c0002row19_col14\" class=\"data row19 col14\" >0.129789</td>\n",
              "                        <td id=\"T_95585148_7788_11ea_a8dd_0242ac1c0002row19_col15\" class=\"data row19 col15\" >-0.136211</td>\n",
              "                        <td id=\"T_95585148_7788_11ea_a8dd_0242ac1c0002row19_col16\" class=\"data row19 col16\" >-0.054878</td>\n",
              "                        <td id=\"T_95585148_7788_11ea_a8dd_0242ac1c0002row19_col17\" class=\"data row19 col17\" >-0.307771</td>\n",
              "                        <td id=\"T_95585148_7788_11ea_a8dd_0242ac1c0002row19_col18\" class=\"data row19 col18\" >-0.354678</td>\n",
              "                        <td id=\"T_95585148_7788_11ea_a8dd_0242ac1c0002row19_col19\" class=\"data row19 col19\" >1.000000</td>\n",
              "            </tr>\n",
              "    </tbody></table>"
            ],
            "text/plain": [
              "<pandas.io.formats.style.Styler at 0x7f092720d668>"
            ]
          },
          "metadata": {
            "tags": []
          },
          "execution_count": 37
        }
      ]
    },
    {
      "cell_type": "markdown",
      "metadata": {
        "id": "ejh2Kd0C6Hjj"
      },
      "source": [
        "As we can see that the correlation values are weak(less than 0.5), hence correlation is not useful. Also correlation is not aprropriate fir selecting important columns in case of classification problems.\n",
        "\n",
        "Correlation and Causation are applied for regression models where we have mainly predict a numerical value "
      ]
    },
    {
      "cell_type": "markdown",
      "metadata": {
        "id": "KpbWeZYrL4pM"
      },
      "source": [
        "Now we will try various feature selection algorithms to get the important variables amongs the independent columns and with each selection process we will find our the results of many classification models using various classifiers"
      ]
    },
    {
      "cell_type": "markdown",
      "metadata": {
        "id": "D6JfSQpr7Lgk"
      },
      "source": [
        "## **FEATURE SELECTION**"
      ]
    },
    {
      "cell_type": "markdown",
      "metadata": {
        "id": "4N49COaR7hT_"
      },
      "source": [
        "# ***1. Univariate Selection***\n",
        "\n",
        "---\n",
        "\n",
        "\n",
        "\n",
        "---\n",
        "\n"
      ]
    },
    {
      "cell_type": "markdown",
      "metadata": {
        "id": "9ZzOSIyF85py"
      },
      "source": [
        "Univariate feature selection works by selecting the best features based on univariate statistical tests. We compare each feature to the target variable, to see whether there is any statistically significant relationship between them. It is also called analysis of variance (ANOVA). When we analyze the relationship between one feature and the target variable, we ignore the other features. That is why it is called ‘univariate’. Each feature has its test score.\n",
        "Finally, all the test scores are compared, and the features with top scores will be selected.\n",
        "\n",
        "Next we use *chi-square test.*\n",
        "The Chi Square statistic is commonly used for testing relationships between categorical variables. The null hypothesis of the Chi-Square test is that no relationship exists on the categorical variables in the population; they are independent."
      ]
    },
    {
      "cell_type": "code",
      "metadata": {
        "id": "Ai2XM47kjCqM"
      },
      "source": [
        "X1=df.iloc[:,:-1].values\n",
        "Y1=df.iloc[:,-1].values"
      ],
      "execution_count": null,
      "outputs": []
    },
    {
      "cell_type": "code",
      "metadata": {
        "id": "Eu9l2obfjkkO",
        "colab": {
          "base_uri": "https://localhost:8080/",
          "height": 34
        },
        "outputId": "0988195d-df92-45f8-b219-5b66b8f05c3e"
      },
      "source": [
        "test=SelectKBest(score_func=chi2,k=3)# no of columns we want\n",
        "test.fit(X1,Y1)"
      ],
      "execution_count": null,
      "outputs": [
        {
          "output_type": "execute_result",
          "data": {
            "text/plain": [
              "SelectKBest(k=3, score_func=<function chi2 at 0x7f092ba15268>)"
            ]
          },
          "metadata": {
            "tags": []
          },
          "execution_count": 39
        }
      ]
    },
    {
      "cell_type": "code",
      "metadata": {
        "id": "P34bLOHYkWfu"
      },
      "source": [
        "high={}\n",
        "np.set_printoptions(precision=3)\n",
        "for col,val in zip(df.columns,test.scores_):\n",
        "    high.update({col:val})"
      ],
      "execution_count": null,
      "outputs": []
    },
    {
      "cell_type": "code",
      "metadata": {
        "id": "xY-ElA1DlVB_",
        "colab": {
          "base_uri": "https://localhost:8080/",
          "height": 340
        },
        "outputId": "64f0ff9d-98d9-4369-b385-d79726cfce67"
      },
      "source": [
        "import operator\n",
        "sorted(high.items(),key=operator.itemgetter(1),reverse=True)"
      ],
      "execution_count": null,
      "outputs": [
        {
          "output_type": "execute_result",
          "data": {
            "text/plain": [
              "[('euribor3m', 642.4130984239608),\n",
              " ('contact', 547.9583093880087),\n",
              " ('previous', 441.4532037216673),\n",
              " ('duration', 358.0181229427213),\n",
              " ('default', 321.9229031035162),\n",
              " ('education', 167.60728300206605),\n",
              " ('pdays', 157.98375310277154),\n",
              " ('poutcome', 98.23117431597791),\n",
              " ('job', 90.17553267281917),\n",
              " ('marital', 27.79559829132918),\n",
              " ('day_of_week', 10.231444571849314),\n",
              " ('campaign', 9.678069449744278),\n",
              " ('housing', 4.978734333542827),\n",
              " ('cons_conf_idx', 2.4386220950327857),\n",
              " ('month', 1.9272840371275475),\n",
              " ('loan', 1.587004275347953),\n",
              " ('age', 1.0538178077288793),\n",
              " ('nr_employed', 1.0012397626468104),\n",
              " ('cons_price_idx', 0.028872405656631076)]"
            ]
          },
          "metadata": {
            "tags": []
          },
          "execution_count": 41
        }
      ]
    },
    {
      "cell_type": "markdown",
      "metadata": {
        "id": "m-fA9GQ--tur"
      },
      "source": [
        "The best features(columns) suggested by the Univariate technique are the columns: *'euribor3m', 'contact', 'previous'*\n",
        "\n",
        "Now we will apply all the classification algorithms taking these 3 columns as the independent variables to predict our independent variable 'y'"
      ]
    },
    {
      "cell_type": "markdown",
      "metadata": {
        "id": "haq4tb9BAVDe"
      },
      "source": [
        "**X** holds **independent variables.**\n",
        "**Y** holds the dependent column **y**"
      ]
    },
    {
      "cell_type": "code",
      "metadata": {
        "id": "yYptR4_vnrLF"
      },
      "source": [
        "X=df[[\"euribor3m\",\"contact\",\"previous\"]].values"
      ],
      "execution_count": null,
      "outputs": []
    },
    {
      "cell_type": "code",
      "metadata": {
        "id": "7ROTiMMLoUMs"
      },
      "source": [
        "Y=df.iloc[:,-1].values"
      ],
      "execution_count": null,
      "outputs": []
    },
    {
      "cell_type": "code",
      "metadata": {
        "id": "JCXwBs3BosLc",
        "colab": {
          "base_uri": "https://localhost:8080/",
          "height": 136
        },
        "outputId": "b4e992e1-cee8-45ce-f7d1-e081618a5a18"
      },
      "source": [
        "X"
      ],
      "execution_count": null,
      "outputs": [
        {
          "output_type": "execute_result",
          "data": {
            "text/plain": [
              "array([[0.984, 0.   , 0.   ],\n",
              "       [0.797, 0.   , 0.   ],\n",
              "       [0.144, 0.   , 0.286],\n",
              "       ...,\n",
              "       [0.963, 1.   , 0.   ],\n",
              "       [0.147, 1.   , 0.   ],\n",
              "       [0.963, 1.   , 0.   ]])"
            ]
          },
          "metadata": {
            "tags": []
          },
          "execution_count": 44
        }
      ]
    },
    {
      "cell_type": "code",
      "metadata": {
        "id": "cq7VhTC5AspT",
        "colab": {
          "base_uri": "https://localhost:8080/",
          "height": 34
        },
        "outputId": "5b7ba4cb-ab41-4d8b-c8f9-3191ebe0bac5"
      },
      "source": [
        "Y"
      ],
      "execution_count": null,
      "outputs": [
        {
          "output_type": "execute_result",
          "data": {
            "text/plain": [
              "array([0, 0, 1, ..., 0, 0, 0])"
            ]
          },
          "metadata": {
            "tags": []
          },
          "execution_count": 45
        }
      ]
    },
    {
      "cell_type": "markdown",
      "metadata": {
        "id": "c-UcCF82BA5T"
      },
      "source": [
        "# **Training and Test Sets: Splitting Data**"
      ]
    },
    {
      "cell_type": "markdown",
      "metadata": {
        "id": "tR31ys_iD-1b"
      },
      "source": [
        "Training data and test data are two important concepts in machine learning.\n",
        "\n",
        "**Training Data** : The observations in the training set form the experience that the algorithm uses to learn. In supervised learning problems, each observation consists of an observed output variable and one or more observed input variables.\n",
        "**Testing Data** : The test set is a set of observations used to evaluate the performance of the model using some performance metric. It is important that no observations from the training set are included in the test set. If the test set does contain examples from the training set, it will be difficult to assess whether the algorithm has learned to generalize from the training set or has simply memorized it.\n",
        "\n",
        "**Cross-Validation** : *random_state* as the name suggests, is used for initializing the internal random number generator, which will decide the splitting of data into train and test indices.This is to check and validate the data when running the code multiple times. Setting random_state a fixed value will guarantee that same sequence of random numbers are generated each time you run the code. And unless there is some other randomness present in the process, the results produced will be same as always. This helps in verifying the output.\n",
        "So to ensure best results of the shuffling the random_state is used here."
      ]
    },
    {
      "cell_type": "code",
      "metadata": {
        "id": "-OGM1vAqqYNf"
      },
      "source": [
        "from sklearn.model_selection import train_test_split"
      ],
      "execution_count": null,
      "outputs": []
    },
    {
      "cell_type": "markdown",
      "metadata": {
        "id": "WEg5TDYHCP4V"
      },
      "source": [
        "## **Logistic Regression**\n",
        "\n",
        "Logistic regression is named for the function used at the core of the method, the logistic function.\n",
        "\n",
        "The logistic function, also called the sigmoid function was developed by statisticians to describe properties of population growth in ecology, rising quickly and maxing out at the carrying capacity of the environment. It’s an S-shaped curve that can take any real-valued number and map it into a value between 0 and 1, but never exactly at those limits.\n",
        "\n",
        "1 / (1 + e^-value)"
      ]
    },
    {
      "cell_type": "code",
      "metadata": {
        "id": "7cARgau2IWWx"
      },
      "source": [
        "from sklearn.linear_model import LogisticRegression"
      ],
      "execution_count": null,
      "outputs": []
    },
    {
      "cell_type": "markdown",
      "metadata": {
        "id": "W6CwwJouCbw5"
      },
      "source": [
        "In the cell below we are performing the splitting of the dataset into training and testing simultaenously with performing logistic regression. We are doing this in a loop from 1 to 50 to find out the best random_state at which our model gives the best output. "
      ]
    },
    {
      "cell_type": "code",
      "metadata": {
        "id": "Ubiyr21pu9Kd"
      },
      "source": [
        "lar={}\n",
        "for i in range(1,50):\n",
        "  Xtrain,Xtest,Ytrain,Ytest=train_test_split(X,Y,test_size=0.2,random_state=i)\n",
        "  logreg=LogisticRegression(solver='lbfgs')\n",
        "  logreg.fit(Xtrain,Ytrain)\n",
        "  sc=logreg.score(Xtest,Ytest)*100\n",
        "  lar.update({i:sc})"
      ],
      "execution_count": null,
      "outputs": []
    },
    {
      "cell_type": "code",
      "metadata": {
        "id": "BbVH7hOvvvRZ",
        "colab": {
          "base_uri": "https://localhost:8080/",
          "height": 850
        },
        "outputId": "c4844677-e4c6-4d4c-deac-a1c98a8bb967"
      },
      "source": [
        "import operator\n",
        "sorted(lar.items(),key=operator.itemgetter(1),reverse=True)"
      ],
      "execution_count": null,
      "outputs": [
        {
          "output_type": "execute_result",
          "data": {
            "text/plain": [
              "[(37, 89.32993445010925),\n",
              " (11, 89.29351784413693),\n",
              " (9, 89.25710123816461),\n",
              " (27, 89.24496236950716),\n",
              " (29, 89.22068463219229),\n",
              " (12, 89.1357125515902),\n",
              " (31, 89.06287933964553),\n",
              " (24, 89.03860160233066),\n",
              " (23, 88.97790725904345),\n",
              " (5, 88.9293517844137),\n",
              " (7, 88.90507404709881),\n",
              " (17, 88.90507404709881),\n",
              " (44, 88.85651857246904),\n",
              " (8, 88.8443797038116),\n",
              " (38, 88.8443797038116),\n",
              " (36, 88.82010196649672),\n",
              " (20, 88.80796309783928),\n",
              " (3, 88.77154649186696),\n",
              " (47, 88.77154649186696),\n",
              " (45, 88.75940762320951),\n",
              " (22, 88.74726875455208),\n",
              " (40, 88.73512988589464),\n",
              " (25, 88.72299101723719),\n",
              " (32, 88.72299101723719),\n",
              " (1, 88.71085214857976),\n",
              " (10, 88.71085214857976),\n",
              " (34, 88.71085214857976),\n",
              " (33, 88.69871327992232),\n",
              " (39, 88.67443554260743),\n",
              " (21, 88.66229667395),\n",
              " (15, 88.65015780529255),\n",
              " (13, 88.6380189366351),\n",
              " (6, 88.62588006797768),\n",
              " (42, 88.62588006797768),\n",
              " (19, 88.553046856033),\n",
              " (4, 88.54090798737558),\n",
              " (18, 88.52876911871813),\n",
              " (43, 88.52876911871813),\n",
              " (16, 88.50449138140326),\n",
              " (48, 88.50449138140326),\n",
              " (35, 88.49235251274581),\n",
              " (14, 88.46807477543092),\n",
              " (46, 88.44379703811605),\n",
              " (49, 88.35882495751396),\n",
              " (28, 88.34668608885652),\n",
              " (41, 88.29813061422675),\n",
              " (30, 88.28599174556932),\n",
              " (26, 88.09176984705024),\n",
              " (2, 88.07963097839281)]"
            ]
          },
          "metadata": {
            "tags": []
          },
          "execution_count": 49
        }
      ]
    },
    {
      "cell_type": "markdown",
      "metadata": {
        "id": "nGNtUEMBwaS4"
      },
      "source": [
        "#so random state 37 is best amongst first 50"
      ]
    },
    {
      "cell_type": "markdown",
      "metadata": {
        "id": "iNbFZz5cIqs6"
      },
      "source": [
        "Hence our model with 37th random state is best for our logostic regression model"
      ]
    },
    {
      "cell_type": "code",
      "metadata": {
        "id": "TzA0_YKYqcbY"
      },
      "source": [
        "Xtrain,Xtest,Ytrain,Ytest=train_test_split(X,Y,test_size=0.2,random_state=37)"
      ],
      "execution_count": null,
      "outputs": []
    },
    {
      "cell_type": "code",
      "metadata": {
        "id": "QZueTh8ooy97"
      },
      "source": [
        "from sklearn.linear_model import LogisticRegression"
      ],
      "execution_count": null,
      "outputs": []
    },
    {
      "cell_type": "code",
      "metadata": {
        "id": "5OIuBNjEqHwT"
      },
      "source": [
        "logreg=LogisticRegression(solver='lbfgs')"
      ],
      "execution_count": null,
      "outputs": []
    },
    {
      "cell_type": "code",
      "metadata": {
        "id": "wl2qArpTqNTU",
        "colab": {
          "base_uri": "https://localhost:8080/",
          "height": 102
        },
        "outputId": "2c69dbe5-78b1-46c9-e52e-ac77c96f7373"
      },
      "source": [
        "logreg.fit(Xtrain,Ytrain)"
      ],
      "execution_count": null,
      "outputs": [
        {
          "output_type": "execute_result",
          "data": {
            "text/plain": [
              "LogisticRegression(C=1.0, class_weight=None, dual=False, fit_intercept=True,\n",
              "                   intercept_scaling=1, l1_ratio=None, max_iter=100,\n",
              "                   multi_class='auto', n_jobs=None, penalty='l2',\n",
              "                   random_state=None, solver='lbfgs', tol=0.0001, verbose=0,\n",
              "                   warm_start=False)"
            ]
          },
          "metadata": {
            "tags": []
          },
          "execution_count": 53
        }
      ]
    },
    {
      "cell_type": "code",
      "metadata": {
        "id": "j0BO7-Thqqq9",
        "colab": {
          "base_uri": "https://localhost:8080/",
          "height": 34
        },
        "outputId": "3e2ad7a0-c986-4bcb-f046-43404a39480c"
      },
      "source": [
        "score=logreg.score(Xtest,Ytest)*100\n",
        "print(\"The score is\",score,\"%\")"
      ],
      "execution_count": null,
      "outputs": [
        {
          "output_type": "stream",
          "text": [
            "The score is 89.32993445010925 %\n"
          ],
          "name": "stdout"
        }
      ]
    },
    {
      "cell_type": "markdown",
      "metadata": {
        "id": "PYfyzntQO0GN"
      },
      "source": [
        "# **Confusion Matrix**\n",
        "A confusion matrix is a summary of prediction results on a classification problem. The number of correct and incorrect predictions are summarized with count values and broken down by each class. This is the key to the confusion matrix. The confusion matrix shows the ways in which your classification model is confused when it makes predictions. It gives us insight not only into the errors being made by a classifier but more importantly the types of errors that are being made.\n",
        "\n",
        "[[TP    FN\n",
        "\n",
        "  \n",
        "   FP   TN]]\n",
        "\n",
        "True Positive (TP) : Observation is positive, and is predicted to be positive.\n",
        "\n",
        "False Negative (FN) : Observation is positive, but is predicted negative.\n",
        "\n",
        "True Negative (TN) : Observation is negative, and is predicted to be negative.\n",
        "\n",
        "False Positive (FP) : Observation is negative, but is predicted positive."
      ]
    },
    {
      "cell_type": "code",
      "metadata": {
        "id": "Xmm-iju2q3EV"
      },
      "source": [
        "from sklearn.metrics import confusion_matrix"
      ],
      "execution_count": null,
      "outputs": []
    },
    {
      "cell_type": "code",
      "metadata": {
        "id": "HWRDpzmRrHh9",
        "colab": {
          "base_uri": "https://localhost:8080/",
          "height": 51
        },
        "outputId": "8c7cf85f-4ea3-45bd-b4ec-fd619d232e70"
      },
      "source": [
        "ypred=logreg.predict(Xtest)\n",
        "cn =confusion_matrix(ypred,Ytest)\n",
        "cn"
      ],
      "execution_count": null,
      "outputs": [
        {
          "output_type": "execute_result",
          "data": {
            "text/plain": [
              "array([[7346,  869],\n",
              "       [  10,   13]])"
            ]
          },
          "metadata": {
            "tags": []
          },
          "execution_count": 56
        }
      ]
    },
    {
      "cell_type": "code",
      "metadata": {
        "id": "SYF9ZGMGvw0f",
        "colab": {
          "base_uri": "https://localhost:8080/",
          "height": 34
        },
        "outputId": "3f742549-289c-44d5-b9d5-e1f0f918442c"
      },
      "source": [
        "cn[0][0]/(cn[0][0]+cn[1][0])"
      ],
      "execution_count": null,
      "outputs": [
        {
          "output_type": "execute_result",
          "data": {
            "text/plain": [
              "0.9986405655247417"
            ]
          },
          "metadata": {
            "tags": []
          },
          "execution_count": 57
        }
      ]
    },
    {
      "cell_type": "code",
      "metadata": {
        "id": "278vymhlJfFo",
        "colab": {
          "base_uri": "https://localhost:8080/",
          "height": 282
        },
        "outputId": "9cd09ac8-a5e7-4f35-cf0c-887af30218af"
      },
      "source": [
        "sns.distplot(ypred,hist=False,label=\"ypred\")\n",
        "sns.distplot(Ytest,hist=False,label=\"ytest\")"
      ],
      "execution_count": null,
      "outputs": [
        {
          "output_type": "execute_result",
          "data": {
            "text/plain": [
              "<matplotlib.axes._subplots.AxesSubplot at 0x7f0925bc96d8>"
            ]
          },
          "metadata": {
            "tags": []
          },
          "execution_count": 58
        },
        {
          "output_type": "display_data",
          "data": {
            "image/png": "[encoded data removed]",
            "text/plain": [
              "<Figure size 432x288 with 1 Axes>"
            ]
          },
          "metadata": {
            "tags": []
          }
        }
      ]
    },
    {
      "cell_type": "markdown",
      "metadata": {
        "id": "RjUlouuZJsL9"
      },
      "source": [
        "The graph between the predicted and the and testing values is very absurd.\n",
        "Hence we will consider the confusion matrix and score for the result."
      ]
    },
    {
      "cell_type": "markdown",
      "metadata": {
        "id": "_3Oi6eJSsu4k"
      },
      "source": [
        "**RECALL**\n",
        "\n",
        "TP/(TP+FN)"
      ]
    },
    {
      "cell_type": "code",
      "metadata": {
        "id": "ZI3mhP0pygEe",
        "colab": {
          "base_uri": "https://localhost:8080/",
          "height": 34
        },
        "outputId": "3c772ad5-b033-4edc-bf3a-69c81f857af7"
      },
      "source": [
        "recall=cn[0][0]/(cn[0][0]+cn[0][1])\n",
        "print(\"The recall is\",recall)"
      ],
      "execution_count": null,
      "outputs": [
        {
          "output_type": "stream",
          "text": [
            "The recall is 0.8942178940961656\n"
          ],
          "name": "stdout"
        }
      ]
    },
    {
      "cell_type": "markdown",
      "metadata": {
        "id": "zcGprxJhs3r8"
      },
      "source": [
        "**PRECISION**\n",
        "\n",
        "TP/(TP+FP)"
      ]
    },
    {
      "cell_type": "code",
      "metadata": {
        "id": "rOTpqMnuwZo2",
        "colab": {
          "base_uri": "https://localhost:8080/",
          "height": 34
        },
        "outputId": "ed966379-92ee-4915-b742-f3a7a46b1dad"
      },
      "source": [
        "precision= cn[0][0]/(cn[0][0]+cn[1][0])\n",
        "print(\"The preicision is\",precision)"
      ],
      "execution_count": null,
      "outputs": [
        {
          "output_type": "stream",
          "text": [
            "The preicision is 0.9986405655247417\n"
          ],
          "name": "stdout"
        }
      ]
    },
    {
      "cell_type": "code",
      "metadata": {
        "id": "-ohdvzLN7RwG"
      },
      "source": [
        "def printing(classifier,Xtest,Ytest):\n",
        "  score=classifier.score(Xtest,Ytest)*100\n",
        "  print(\"The score is\",score,\"%\")\n",
        "  print(\"\")\n",
        "  ypred=classifier.predict(Xtest)\n",
        "  cn =confusion_matrix(ypred,Ytest)\n",
        "  print(\"confusion matrix :\")\n",
        "  print(cn)\n",
        "  print(\"\")\n",
        "  recall=cn[0][0]/(cn[0][0]+cn[0][1])\n",
        "  print(\"The recall is\",recall*100,\"%\")\n",
        "  print(\"\")\n",
        "  precision= cn[0][0]/(cn[0][0]+cn[1][0])\n",
        "  print(\"The preicision is\",precision*100)"
      ],
      "execution_count": null,
      "outputs": []
    },
    {
      "cell_type": "markdown",
      "metadata": {
        "id": "jYtesm-70AYT"
      },
      "source": [
        "## **K-Nearest Neighbors**"
      ]
    },
    {
      "cell_type": "markdown",
      "metadata": {
        "id": "APTGzm6M0hup"
      },
      "source": [
        "We can implement a KNN model by following the below steps:\n",
        "\n",
        "1. Load the data\n",
        "2. Initialise the value of k\n",
        "3. For getting the predicted class, iterate from 1 to total number of training data points\n",
        "4. Calculate the distance between test data and each row of training data. Here we will use Euclidean distance as our distance metric since it’s the most popular method. The other metrics that can be used are Chebyshev, cosine, etc.\n",
        "5. Sort the calculated distances in ascending order based on distance values\n",
        "6. Get top k rows from the sorted array\n",
        "7. Get the most frequent class of these rows\n",
        "8. Return the predicted class\n",
        "\n",
        "\n"
      ]
    },
    {
      "cell_type": "markdown",
      "metadata": {
        "id": "yCEQvuqS1Arm"
      },
      "source": [
        "Below we have implemented the KNeighborsClassifier"
      ]
    },
    {
      "cell_type": "code",
      "metadata": {
        "id": "Ax_QCRwtts0l"
      },
      "source": [
        "from sklearn.neighbors import KNeighborsClassifier"
      ],
      "execution_count": null,
      "outputs": []
    },
    {
      "cell_type": "markdown",
      "metadata": {
        "id": "KnDScBSc1tAO"
      },
      "source": [
        "Finding out the best random state"
      ]
    },
    {
      "cell_type": "code",
      "metadata": {
        "id": "mWqhG2931V9e"
      },
      "source": [
        "lar={}\n",
        "for i in range(1,50):\n",
        "  Xtrain,Xtest,Ytrain,Ytest=train_test_split(X,Y,test_size=0.2,random_state=i)\n",
        "  knn=KNeighborsClassifier()\n",
        "  knn.fit(Xtrain,Ytrain)\n",
        "  sc=knn.score(Xtest,Ytest)*100\n",
        "  lar.update({i:sc})"
      ],
      "execution_count": null,
      "outputs": []
    },
    {
      "cell_type": "code",
      "metadata": {
        "id": "calySiVs1egy",
        "colab": {
          "base_uri": "https://localhost:8080/",
          "height": 850
        },
        "outputId": "3b11ed60-9802-4ca9-ea41-ddf6f496f7d6"
      },
      "source": [
        "import operator\n",
        "sorted(lar.items(),key=operator.itemgetter(1),reverse=True)"
      ],
      "execution_count": null,
      "outputs": [
        {
          "output_type": "execute_result",
          "data": {
            "text/plain": [
              "[(11, 89.51201747997086),\n",
              " (9, 89.26924010682204),\n",
              " (37, 89.20854576353484),\n",
              " (23, 89.07501820830298),\n",
              " (24, 89.02646273367321),\n",
              " (33, 89.01432386501578),\n",
              " (10, 88.96576839038602),\n",
              " (45, 88.95362952172857),\n",
              " (13, 88.9293517844137),\n",
              " (7, 88.88079630978393),\n",
              " (6, 88.86865744112649),\n",
              " (19, 88.8443797038116),\n",
              " (25, 88.83224083515417),\n",
              " (21, 88.80796309783928),\n",
              " (34, 88.7836853605244),\n",
              " (8, 88.77154649186696),\n",
              " (12, 88.77154649186696),\n",
              " (39, 88.75940762320951),\n",
              " (46, 88.69871327992232),\n",
              " (22, 88.68657441126487),\n",
              " (31, 88.66229667395),\n",
              " (48, 88.62588006797768),\n",
              " (3, 88.61374119932023),\n",
              " (4, 88.58946346200534),\n",
              " (38, 88.58946346200534),\n",
              " (17, 88.5773245933479),\n",
              " (20, 88.5773245933479),\n",
              " (49, 88.56518572469045),\n",
              " (35, 88.54090798737558),\n",
              " (16, 88.52876911871813),\n",
              " (47, 88.52876911871813),\n",
              " (32, 88.51663025006069),\n",
              " (15, 88.49235251274581),\n",
              " (1, 88.45593590677349),\n",
              " (2, 88.40738043214373),\n",
              " (44, 88.35882495751396),\n",
              " (5, 88.33454722019908),\n",
              " (18, 88.27385287691187),\n",
              " (28, 88.22529740228211),\n",
              " (14, 88.12818645302258),\n",
              " (29, 88.12818645302258),\n",
              " (41, 88.11604758436515),\n",
              " (42, 88.0189366351056),\n",
              " (43, 87.98252002913328),\n",
              " (36, 87.9582422918184),\n",
              " (27, 87.70332605001214),\n",
              " (30, 87.66690944403982),\n",
              " (26, 87.05996601116776),\n",
              " (40, 82.56858460791454)]"
            ]
          },
          "metadata": {
            "tags": []
          },
          "execution_count": 64
        }
      ]
    },
    {
      "cell_type": "markdown",
      "metadata": {
        "id": "EJ7VoRpY2YSI"
      },
      "source": [
        "# So 11th is the best random state"
      ]
    },
    {
      "cell_type": "code",
      "metadata": {
        "id": "rQiaqai_2nn6"
      },
      "source": [
        "Xtrain,Xtest,Ytrain,Ytest=train_test_split(X,Y,test_size=0.2,random_state=11)"
      ],
      "execution_count": null,
      "outputs": []
    },
    {
      "cell_type": "code",
      "metadata": {
        "id": "tDL-Mx85txKA"
      },
      "source": [
        "knn=KNeighborsClassifier()"
      ],
      "execution_count": null,
      "outputs": []
    },
    {
      "cell_type": "code",
      "metadata": {
        "id": "YrgGRaHxtzQJ",
        "colab": {
          "base_uri": "https://localhost:8080/",
          "height": 68
        },
        "outputId": "7d68d3e4-310e-4bd1-cbd6-981dcdc04ab7"
      },
      "source": [
        "knn.fit(Xtrain,Ytrain)"
      ],
      "execution_count": null,
      "outputs": [
        {
          "output_type": "execute_result",
          "data": {
            "text/plain": [
              "KNeighborsClassifier(algorithm='auto', leaf_size=30, metric='minkowski',\n",
              "                     metric_params=None, n_jobs=None, n_neighbors=5, p=2,\n",
              "                     weights='uniform')"
            ]
          },
          "metadata": {
            "tags": []
          },
          "execution_count": 67
        }
      ]
    },
    {
      "cell_type": "markdown",
      "metadata": {
        "id": "d9MmkvYM3nxR"
      },
      "source": [
        "# *RESULT FOR KNN*"
      ]
    },
    {
      "cell_type": "code",
      "metadata": {
        "id": "WuVXbCaH7qDN",
        "colab": {
          "base_uri": "https://localhost:8080/",
          "height": 170
        },
        "outputId": "8272060b-2c6c-4445-8e8f-e6dc518797ce"
      },
      "source": [
        "printing(knn,Xtest,Ytest)"
      ],
      "execution_count": null,
      "outputs": [
        {
          "output_type": "stream",
          "text": [
            "The score is 89.51201747997086 %\n",
            "\n",
            "confusion matrix :\n",
            "[[7143  658]\n",
            " [ 206  231]]\n",
            "\n",
            "The recall is 91.56518395077555 %\n",
            "\n",
            "The preicision is 97.19689753707988\n"
          ],
          "name": "stdout"
        }
      ]
    },
    {
      "cell_type": "markdown",
      "metadata": {
        "id": "cdO_GMp44K7W"
      },
      "source": [
        "# **Support Vector Machine**"
      ]
    },
    {
      "cell_type": "markdown",
      "metadata": {
        "id": "5VLGcLJR4R5A"
      },
      "source": [
        "The objective of the support vector machine algorithm is to find a hyperplane in an N-dimensional space(N — the number of features) that distinctly classifies the data points.\n"
      ]
    },
    {
      "cell_type": "code",
      "metadata": {
        "id": "wi0q3NgUydar"
      },
      "source": [
        "from sklearn.svm import SVC"
      ],
      "execution_count": null,
      "outputs": []
    },
    {
      "cell_type": "markdown",
      "metadata": {
        "id": "WwDDgjMQ4aGF"
      },
      "source": [
        "Finding the best random state"
      ]
    },
    {
      "cell_type": "code",
      "metadata": {
        "id": "3Xfz5HI4yn1Z"
      },
      "source": [
        "lar={}\n",
        "for i in range(20):\n",
        "  Xtrain,Xtest,Ytrain,Ytest=train_test_split(X,Y,test_size=0.2,random_state=i)\n",
        "  svc=SVC(kernel='rbf')\n",
        "  svc.fit(Xtrain,Ytrain)\n",
        "  svc.score(Xtest,Ytest)*100\n",
        "  lar.update({i:sc})"
      ],
      "execution_count": null,
      "outputs": []
    },
    {
      "cell_type": "code",
      "metadata": {
        "id": "kIyMwd77zN0k",
        "colab": {
          "base_uri": "https://localhost:8080/",
          "height": 357
        },
        "outputId": "83c3b21f-4c5d-4a4f-99ea-0bf32194abec"
      },
      "source": [
        "import operator\n",
        "sorted(lar.items(),key=operator.itemgetter(1),reverse=True)"
      ],
      "execution_count": null,
      "outputs": [
        {
          "output_type": "execute_result",
          "data": {
            "text/plain": [
              "[(0, 88.56518572469045),\n",
              " (1, 88.56518572469045),\n",
              " (2, 88.56518572469045),\n",
              " (3, 88.56518572469045),\n",
              " (4, 88.56518572469045),\n",
              " (5, 88.56518572469045),\n",
              " (6, 88.56518572469045),\n",
              " (7, 88.56518572469045),\n",
              " (8, 88.56518572469045),\n",
              " (9, 88.56518572469045),\n",
              " (10, 88.56518572469045),\n",
              " (11, 88.56518572469045),\n",
              " (12, 88.56518572469045),\n",
              " (13, 88.56518572469045),\n",
              " (14, 88.56518572469045),\n",
              " (15, 88.56518572469045),\n",
              " (16, 88.56518572469045),\n",
              " (17, 88.56518572469045),\n",
              " (18, 88.56518572469045),\n",
              " (19, 88.56518572469045)]"
            ]
          },
          "metadata": {
            "tags": []
          },
          "execution_count": 71
        }
      ]
    },
    {
      "cell_type": "markdown",
      "metadata": {
        "id": "xP_uGheA5zRb"
      },
      "source": [
        "# so 0th is best state for kernel 'rbf' and the score is 88.56 %\n",
        "\n",
        "Since the result is almost the same for every state we might just skip the checking and try for any random state"
      ]
    },
    {
      "cell_type": "code",
      "metadata": {
        "id": "V1t3jy540OAQ",
        "colab": {
          "base_uri": "https://localhost:8080/",
          "height": 85
        },
        "outputId": "9c8dc593-b8f9-4a05-e08a-840e128ea7ac"
      },
      "source": [
        "Xtrain,Xtest,Ytrain,Ytest=train_test_split(X,Y,test_size=0.2,random_state=0)\n",
        "svc=SVC(kernel='rbf')\n",
        "svc.fit(Xtrain,Ytrain)"
      ],
      "execution_count": null,
      "outputs": [
        {
          "output_type": "execute_result",
          "data": {
            "text/plain": [
              "SVC(C=1.0, break_ties=False, cache_size=200, class_weight=None, coef0=0.0,\n",
              "    decision_function_shape='ovr', degree=3, gamma='scale', kernel='rbf',\n",
              "    max_iter=-1, probability=False, random_state=None, shrinking=True,\n",
              "    tol=0.001, verbose=False)"
            ]
          },
          "metadata": {
            "tags": []
          },
          "execution_count": 72
        }
      ]
    },
    {
      "cell_type": "code",
      "metadata": {
        "id": "g8wARb3xz8vR",
        "colab": {
          "base_uri": "https://localhost:8080/",
          "height": 170
        },
        "outputId": "abe60547-4752-4cf0-a111-f1e6f2092bdd"
      },
      "source": [
        "printing(svc,Xtest,Ytest)"
      ],
      "execution_count": null,
      "outputs": [
        {
          "output_type": "stream",
          "text": [
            "The score is 89.08715707696044 %\n",
            "\n",
            "confusion matrix :\n",
            "[[7302  876]\n",
            " [  23   37]]\n",
            "\n",
            "The recall is 89.28833455612619 %\n",
            "\n",
            "The preicision is 99.68600682593856\n"
          ],
          "name": "stdout"
        }
      ]
    },
    {
      "cell_type": "markdown",
      "metadata": {
        "id": "te6RvhP16mDd"
      },
      "source": [
        "kernel=*'poly'*"
      ]
    },
    {
      "cell_type": "code",
      "metadata": {
        "id": "VkqcLEaR1say",
        "colab": {
          "base_uri": "https://localhost:8080/",
          "height": 85
        },
        "outputId": "091733b9-c0c6-497b-cd4f-9ea0f07fd5e5"
      },
      "source": [
        "Xtrain,Xtest,Ytrain,Ytest=train_test_split(X,Y,test_size=0.2,random_state=11)\n",
        "svc=SVC(kernel='poly')\n",
        "svc.fit(Xtrain,Ytrain)\n"
      ],
      "execution_count": null,
      "outputs": [
        {
          "output_type": "execute_result",
          "data": {
            "text/plain": [
              "SVC(C=1.0, break_ties=False, cache_size=200, class_weight=None, coef0=0.0,\n",
              "    decision_function_shape='ovr', degree=3, gamma='scale', kernel='poly',\n",
              "    max_iter=-1, probability=False, random_state=None, shrinking=True,\n",
              "    tol=0.001, verbose=False)"
            ]
          },
          "metadata": {
            "tags": []
          },
          "execution_count": 74
        }
      ]
    },
    {
      "cell_type": "code",
      "metadata": {
        "id": "XqtjWFg760Js",
        "colab": {
          "base_uri": "https://localhost:8080/",
          "height": 170
        },
        "outputId": "73fba330-bdee-4f51-a362-76935c8563d5"
      },
      "source": [
        "printing(svc,Xtest,Ytest)"
      ],
      "execution_count": null,
      "outputs": [
        {
          "output_type": "stream",
          "text": [
            "The score is 89.24496236950716 %\n",
            "\n",
            "confusion matrix :\n",
            "[[7349  886]\n",
            " [   0    3]]\n",
            "\n",
            "The recall is 89.24104432301154 %\n",
            "\n",
            "The preicision is 100.0\n"
          ],
          "name": "stdout"
        }
      ]
    },
    {
      "cell_type": "markdown",
      "metadata": {
        "id": "x4U8OxOg6-Si"
      },
      "source": [
        "kernel=*'sigmoid'*"
      ]
    },
    {
      "cell_type": "code",
      "metadata": {
        "id": "oQ_v6jm32DD9",
        "colab": {
          "base_uri": "https://localhost:8080/",
          "height": 85
        },
        "outputId": "218f2cdd-0e90-4826-9c4e-df35f2ea984c"
      },
      "source": [
        "Xtrain,Xtest,Ytrain,Ytest=train_test_split(X,Y,test_size=0.2,random_state=0)\n",
        "svc=SVC(kernel='sigmoid',gamma='scale')\n",
        "svc.fit(Xtrain,Ytrain)"
      ],
      "execution_count": null,
      "outputs": [
        {
          "output_type": "execute_result",
          "data": {
            "text/plain": [
              "SVC(C=1.0, break_ties=False, cache_size=200, class_weight=None, coef0=0.0,\n",
              "    decision_function_shape='ovr', degree=3, gamma='scale', kernel='sigmoid',\n",
              "    max_iter=-1, probability=False, random_state=None, shrinking=True,\n",
              "    tol=0.001, verbose=False)"
            ]
          },
          "metadata": {
            "tags": []
          },
          "execution_count": 76
        }
      ]
    },
    {
      "cell_type": "code",
      "metadata": {
        "id": "coddFaJl7E0C",
        "colab": {
          "base_uri": "https://localhost:8080/",
          "height": 170
        },
        "outputId": "6d6deaf5-2dd2-4b4c-c87f-314f4ff87ce4"
      },
      "source": [
        "printing(svc,Xtest,Ytest)"
      ],
      "execution_count": null,
      "outputs": [
        {
          "output_type": "stream",
          "text": [
            "The score is 82.53216800194222 %\n",
            "\n",
            "confusion matrix :\n",
            "[[6659  773]\n",
            " [ 666  140]]\n",
            "\n",
            "The recall is 89.59903121636168 %\n",
            "\n",
            "The preicision is 90.90784982935153\n"
          ],
          "name": "stdout"
        }
      ]
    },
    {
      "cell_type": "markdown",
      "metadata": {
        "id": "kMht9gJ27LG5"
      },
      "source": [
        "kernel=*'linear'*\n",
        "\n",
        "\n"
      ]
    },
    {
      "cell_type": "code",
      "metadata": {
        "id": "heSUfeoM3Aj3",
        "colab": {
          "base_uri": "https://localhost:8080/",
          "height": 85
        },
        "outputId": "60874640-d43b-412e-beea-09b9f47d2ba3"
      },
      "source": [
        "Xtrain,Xtest,Ytrain,Ytest=train_test_split(X,Y,test_size=0.2,random_state=11)\n",
        "svc=SVC(kernel='linear')\n",
        "svc.fit(Xtrain,Ytrain)"
      ],
      "execution_count": null,
      "outputs": [
        {
          "output_type": "execute_result",
          "data": {
            "text/plain": [
              "SVC(C=1.0, break_ties=False, cache_size=200, class_weight=None, coef0=0.0,\n",
              "    decision_function_shape='ovr', degree=3, gamma='scale', kernel='linear',\n",
              "    max_iter=-1, probability=False, random_state=None, shrinking=True,\n",
              "    tol=0.001, verbose=False)"
            ]
          },
          "metadata": {
            "tags": []
          },
          "execution_count": 78
        }
      ]
    },
    {
      "cell_type": "code",
      "metadata": {
        "id": "jM4b3h-j95Xi",
        "colab": {
          "base_uri": "https://localhost:8080/",
          "height": 170
        },
        "outputId": "bc44db47-6217-4b00-8439-2050b14d47c3"
      },
      "source": [
        "printing(svc,Xtest,Ytest)"
      ],
      "execution_count": null,
      "outputs": [
        {
          "output_type": "stream",
          "text": [
            "The score is 89.20854576353484 %\n",
            "\n",
            "confusion matrix :\n",
            "[[7349  889]\n",
            " [   0    0]]\n",
            "\n",
            "The recall is 89.20854576353484 %\n",
            "\n",
            "The preicision is 100.0\n"
          ],
          "name": "stdout"
        }
      ]
    },
    {
      "cell_type": "markdown",
      "metadata": {
        "id": "KWKAmtm37uUp"
      },
      "source": [
        "# **Naive Bayes**\n",
        "Naive Bayes is a simple technique for constructing classifiers: models that assign class labels to problem instances, represented as vectors of feature values, where the class labels are drawn from some finite set. There is not a single algorithm for training such classifiers, but a family of algorithms based on a common principle: all naive Bayes classifiers assume that the value of a particular feature is independent of the value of any other feature, given the class variable. For example, a fruit may be considered to be an apple if it is red, round, and about 10 cm in diameter. A naive Bayes classifier considers each of these features to contribute independently to the probability that this fruit is an apple, regardless of any possible correlations between the color, roundness, and diameter features.\n",
        "\n",
        "For some types of probability models, naive Bayes classifiers can be trained very efficiently in a supervised learning setting. In many practical applications, parameter estimation for naive Bayes models uses the method of maximum likelihood; in other words, one can work with the naive Bayes model without accepting Bayesian probability or using any Bayesian methods."
      ]
    },
    {
      "cell_type": "code",
      "metadata": {
        "id": "UNZTm8um3eB4"
      },
      "source": [
        "from sklearn.naive_bayes import GaussianNB"
      ],
      "execution_count": null,
      "outputs": []
    },
    {
      "cell_type": "code",
      "metadata": {
        "id": "yGB2tzrn37Sh"
      },
      "source": [
        "bayes=GaussianNB()"
      ],
      "execution_count": null,
      "outputs": []
    },
    {
      "cell_type": "code",
      "metadata": {
        "id": "6fWoVlWA4M5J"
      },
      "source": [
        "Xtrain,Xtest,Ytrain,Ytest=train_test_split(X,Y,test_size=0.2,random_state=3)"
      ],
      "execution_count": null,
      "outputs": []
    },
    {
      "cell_type": "code",
      "metadata": {
        "id": "N32V39KA4HgJ",
        "colab": {
          "base_uri": "https://localhost:8080/",
          "height": 34
        },
        "outputId": "fe0da0eb-7da4-4bdf-c929-6bd75c1f4a78"
      },
      "source": [
        "bayes.fit(Xtrain,Ytrain)\n"
      ],
      "execution_count": null,
      "outputs": [
        {
          "output_type": "execute_result",
          "data": {
            "text/plain": [
              "GaussianNB(priors=None, var_smoothing=1e-09)"
            ]
          },
          "metadata": {
            "tags": []
          },
          "execution_count": 83
        }
      ]
    },
    {
      "cell_type": "code",
      "metadata": {
        "id": "v6AnGUpU-EK6",
        "colab": {
          "base_uri": "https://localhost:8080/",
          "height": 170
        },
        "outputId": "c33cdf2b-14bc-4c9b-f2d2-462bb755b952"
      },
      "source": [
        "printing(bayes,Xtest,Ytest)"
      ],
      "execution_count": null,
      "outputs": [
        {
          "output_type": "stream",
          "text": [
            "The score is 84.71716436028163 %\n",
            "\n",
            "confusion matrix :\n",
            "[[6702  645]\n",
            " [ 614  277]]\n",
            "\n",
            "The recall is 91.22090649244589 %\n",
            "\n",
            "The preicision is 91.60743575724439\n"
          ],
          "name": "stdout"
        }
      ]
    },
    {
      "cell_type": "markdown",
      "metadata": {
        "id": "3dy3-me98wBF"
      },
      "source": [
        "\n",
        "# ***2.RECURSIVE FEATURE ELIMINATION***\n",
        "\n",
        "---\n",
        "\n",
        "\n",
        "\n",
        "---\n",
        "Recursive Feature Elimination (RFE) as its title suggests recursively removes features, builds a model using the remaining attributes and calculates model accuracy. RFE is able to work out the combination of attributes that contribute to the prediction on the target variable (or class). Scikit Learn does most of the heavy lifting just import RFE from sklearn.feature_selection and pass any classifier model to the RFE() method with the number of features to select. Using familiar Scikit Learn syntax, the .fit() method must then be called.\n",
        "\n"
      ]
    },
    {
      "cell_type": "markdown",
      "metadata": {
        "id": "XMa0rMpA95AO"
      },
      "source": [
        "Here we will begin with LOGISTIC REGRESSION using RFE to select important features"
      ]
    },
    {
      "cell_type": "code",
      "metadata": {
        "id": "zdUpXA2V4sed"
      },
      "source": [
        "model=LogisticRegression(solver='liblinear')\n",
        "rfe=RFE(model,3)\n",
        "fit=rfe.fit(X1,Y1)"
      ],
      "execution_count": null,
      "outputs": []
    },
    {
      "cell_type": "code",
      "metadata": {
        "id": "hgWuEFsM4zzj",
        "colab": {
          "base_uri": "https://localhost:8080/",
          "height": 340
        },
        "outputId": "80285472-97aa-407c-a3d5-f7151be83c07"
      },
      "source": [
        "for col,val in zip(df.columns,fit.ranking_):\n",
        "    print(col.ljust(30),val)"
      ],
      "execution_count": null,
      "outputs": [
        {
          "output_type": "stream",
          "text": [
            "age                            10\n",
            "job                            16\n",
            "marital                        11\n",
            "education                      12\n",
            "default                        8\n",
            "housing                        17\n",
            "loan                           15\n",
            "contact                        9\n",
            "month                          14\n",
            "day_of_week                    13\n",
            "duration                       1\n",
            "campaign                       3\n",
            "pdays                          4\n",
            "previous                       6\n",
            "poutcome                       7\n",
            "cons_price_idx                 1\n",
            "cons_conf_idx                  5\n",
            "euribor3m                      2\n",
            "nr_employed                    1\n"
          ],
          "name": "stdout"
        }
      ]
    },
    {
      "cell_type": "markdown",
      "metadata": {
        "id": "D6ftyvlm-kh6"
      },
      "source": [
        "The columns with ranking 1 are choosen. Hence the choosen features are 'duration', 'cons_price_idx', 'cons_conf_idx'"
      ]
    },
    {
      "cell_type": "code",
      "metadata": {
        "id": "dSWHC0cM467U"
      },
      "source": [
        "X=df[[\"duration\",\"cons_price_idx\",\"nr_employed\"]]"
      ],
      "execution_count": null,
      "outputs": []
    },
    {
      "cell_type": "code",
      "metadata": {
        "id": "gCqcGSr75NAt",
        "colab": {
          "base_uri": "https://localhost:8080/",
          "height": 102
        },
        "outputId": "5225651e-a04b-4a2d-ef7b-87ee6f00bdba"
      },
      "source": [
        "Xtrain,Xtest,Ytrain,Ytest=train_test_split(X,Y,test_size=0.2,random_state=11)\n",
        "logreg=LogisticRegression(solver='lbfgs')\n",
        "logreg.fit(Xtrain,Ytrain)"
      ],
      "execution_count": null,
      "outputs": [
        {
          "output_type": "execute_result",
          "data": {
            "text/plain": [
              "LogisticRegression(C=1.0, class_weight=None, dual=False, fit_intercept=True,\n",
              "                   intercept_scaling=1, l1_ratio=None, max_iter=100,\n",
              "                   multi_class='auto', n_jobs=None, penalty='l2',\n",
              "                   random_state=None, solver='lbfgs', tol=0.0001, verbose=0,\n",
              "                   warm_start=False)"
            ]
          },
          "metadata": {
            "tags": []
          },
          "execution_count": 88
        }
      ]
    },
    {
      "cell_type": "code",
      "metadata": {
        "id": "9VTGjSsx32Wc",
        "colab": {
          "base_uri": "https://localhost:8080/",
          "height": 170
        },
        "outputId": "ce374811-27a2-4217-cbbc-a2f5e7ee199a"
      },
      "source": [
        "printing(logreg,Xtest,Ytest)"
      ],
      "execution_count": null,
      "outputs": [
        {
          "output_type": "stream",
          "text": [
            "The score is 89.92473901432386 %\n",
            "\n",
            "confusion matrix :\n",
            "[[7261  742]\n",
            " [  88  147]]\n",
            "\n",
            "The recall is 90.72847682119205 %\n",
            "\n",
            "The preicision is 98.80255817117975\n"
          ],
          "name": "stdout"
        }
      ]
    },
    {
      "cell_type": "markdown",
      "metadata": {
        "id": "lzbts1Gy_S4D"
      },
      "source": [
        "# KNN"
      ]
    },
    {
      "cell_type": "code",
      "metadata": {
        "id": "Yksei2fX5g3g",
        "colab": {
          "base_uri": "https://localhost:8080/",
          "height": 68
        },
        "outputId": "3112ead3-f5d1-4a8c-823e-7df95452a9fe"
      },
      "source": [
        "Xtrain,Xtest,Ytrain,Ytest=train_test_split(X,Y,test_size=0.2,random_state=0)\n",
        "knn=KNeighborsClassifier()\n",
        "knn.fit(Xtrain,Ytrain)\n"
      ],
      "execution_count": null,
      "outputs": [
        {
          "output_type": "execute_result",
          "data": {
            "text/plain": [
              "KNeighborsClassifier(algorithm='auto', leaf_size=30, metric='minkowski',\n",
              "                     metric_params=None, n_jobs=None, n_neighbors=5, p=2,\n",
              "                     weights='uniform')"
            ]
          },
          "metadata": {
            "tags": []
          },
          "execution_count": 90
        }
      ]
    },
    {
      "cell_type": "code",
      "metadata": {
        "id": "kvHsonG84DK-",
        "colab": {
          "base_uri": "https://localhost:8080/",
          "height": 170
        },
        "outputId": "1ea034d1-3797-4ec9-99c5-cfe98aeb6d90"
      },
      "source": [
        "printing(knn,Xtest,Ytest)"
      ],
      "execution_count": null,
      "outputs": [
        {
          "output_type": "stream",
          "text": [
            "The score is 90.0825443068706 %\n",
            "\n",
            "confusion matrix :\n",
            "[[6979  471]\n",
            " [ 346  442]]\n",
            "\n",
            "The recall is 93.67785234899328 %\n",
            "\n",
            "The preicision is 95.27645051194538\n"
          ],
          "name": "stdout"
        }
      ]
    },
    {
      "cell_type": "markdown",
      "metadata": {
        "id": "ceu81-Wc_mIZ"
      },
      "source": [
        "# SVC"
      ]
    },
    {
      "cell_type": "code",
      "metadata": {
        "id": "BBfpyuw858iO",
        "colab": {
          "base_uri": "https://localhost:8080/",
          "height": 85
        },
        "outputId": "84a18de4-febc-4db9-85c4-67d35e556e48"
      },
      "source": [
        "svc=SVC(kernel='rbf')\n",
        "svc.fit(Xtrain,Ytrain)"
      ],
      "execution_count": null,
      "outputs": [
        {
          "output_type": "execute_result",
          "data": {
            "text/plain": [
              "SVC(C=1.0, break_ties=False, cache_size=200, class_weight=None, coef0=0.0,\n",
              "    decision_function_shape='ovr', degree=3, gamma='scale', kernel='rbf',\n",
              "    max_iter=-1, probability=False, random_state=None, shrinking=True,\n",
              "    tol=0.001, verbose=False)"
            ]
          },
          "metadata": {
            "tags": []
          },
          "execution_count": 92
        }
      ]
    },
    {
      "cell_type": "code",
      "metadata": {
        "id": "YR-Gb9R24S-Q",
        "colab": {
          "base_uri": "https://localhost:8080/",
          "height": 170
        },
        "outputId": "925c10d6-ebf2-41a5-9991-4e467185d838"
      },
      "source": [
        "printing(svc,Xtest,Ytest)"
      ],
      "execution_count": null,
      "outputs": [
        {
          "output_type": "stream",
          "text": [
            "The score is 89.48773974265598 %\n",
            "\n",
            "confusion matrix :\n",
            "[[7285  826]\n",
            " [  40   87]]\n",
            "\n",
            "The recall is 89.81629885340895 %\n",
            "\n",
            "The preicision is 99.45392491467577\n"
          ],
          "name": "stdout"
        }
      ]
    },
    {
      "cell_type": "code",
      "metadata": {
        "id": "73duBLMW6Sbk",
        "colab": {
          "base_uri": "https://localhost:8080/",
          "height": 85
        },
        "outputId": "970ab679-7640-4f57-cb05-d6dbb32a3137"
      },
      "source": [
        "svc=SVC(kernel='poly')\n",
        "svc.fit(Xtrain,Ytrain)"
      ],
      "execution_count": null,
      "outputs": [
        {
          "output_type": "execute_result",
          "data": {
            "text/plain": [
              "SVC(C=1.0, break_ties=False, cache_size=200, class_weight=None, coef0=0.0,\n",
              "    decision_function_shape='ovr', degree=3, gamma='scale', kernel='poly',\n",
              "    max_iter=-1, probability=False, random_state=None, shrinking=True,\n",
              "    tol=0.001, verbose=False)"
            ]
          },
          "metadata": {
            "tags": []
          },
          "execution_count": 94
        }
      ]
    },
    {
      "cell_type": "code",
      "metadata": {
        "id": "yy1LnMyE4eTF",
        "colab": {
          "base_uri": "https://localhost:8080/",
          "height": 170
        },
        "outputId": "3bd722ce-11a1-49dc-a056-c92895d846b5"
      },
      "source": [
        "printing(svc,Xtest,Ytest)"
      ],
      "execution_count": null,
      "outputs": [
        {
          "output_type": "stream",
          "text": [
            "The score is 89.90046127700899 %\n",
            "\n",
            "confusion matrix :\n",
            "[[7222  729]\n",
            " [ 103  184]]\n",
            "\n",
            "The recall is 90.83134196956357 %\n",
            "\n",
            "The preicision is 98.5938566552901\n"
          ],
          "name": "stdout"
        }
      ]
    },
    {
      "cell_type": "code",
      "metadata": {
        "id": "uJI3tZge6ZrN",
        "colab": {
          "base_uri": "https://localhost:8080/",
          "height": 170
        },
        "outputId": "de30c9a4-3e93-4a0a-99f1-9b62f9b65968"
      },
      "source": [
        "svc=SVC(kernel='sigmoid')\n",
        "svc.fit(Xtrain,Ytrain)\n",
        "printing(svc,Xtest,Ytest)"
      ],
      "execution_count": null,
      "outputs": [
        {
          "output_type": "stream",
          "text": [
            "The score is 88.91721291575625 %\n",
            "\n",
            "confusion matrix :\n",
            "[[7325  913]\n",
            " [   0    0]]\n",
            "\n",
            "The recall is 88.91721291575625 %\n",
            "\n",
            "The preicision is 100.0\n"
          ],
          "name": "stdout"
        }
      ]
    },
    {
      "cell_type": "code",
      "metadata": {
        "id": "pinSyZKtG9xE",
        "colab": {
          "base_uri": "https://localhost:8080/",
          "height": 170
        },
        "outputId": "324a868d-b69c-40c2-ec79-8efce01f3c68"
      },
      "source": [
        "svc=SVC(kernel='linear')\n",
        "svc.fit(Xtrain,Ytrain)\n",
        "printing(svc,Xtest,Ytest)"
      ],
      "execution_count": null,
      "outputs": [
        {
          "output_type": "stream",
          "text": [
            "The score is 88.97790725904345 %\n",
            "\n",
            "confusion matrix :\n",
            "[[7318  901]\n",
            " [   7   12]]\n",
            "\n",
            "The recall is 89.037595814576 %\n",
            "\n",
            "The preicision is 99.90443686006826\n"
          ],
          "name": "stdout"
        }
      ]
    },
    {
      "cell_type": "markdown",
      "metadata": {
        "id": "7RJZAldCARNZ"
      },
      "source": [
        "# **Naive Bayes**"
      ]
    },
    {
      "cell_type": "code",
      "metadata": {
        "id": "Q6WtQCgJ6gK2",
        "colab": {
          "base_uri": "https://localhost:8080/",
          "height": 170
        },
        "outputId": "23b4edca-3887-420a-ac72-75f198e856ea"
      },
      "source": [
        "bayes.fit(Xtrain,Ytrain)\n",
        "printing(bayes,Xtest,Ytest)"
      ],
      "execution_count": null,
      "outputs": [
        {
          "output_type": "stream",
          "text": [
            "The score is 89.6091284292304 %\n",
            "\n",
            "confusion matrix :\n",
            "[[6965  496]\n",
            " [ 360  417]]\n",
            "\n",
            "The recall is 93.35209757405174 %\n",
            "\n",
            "The preicision is 95.08532423208192\n"
          ],
          "name": "stdout"
        }
      ]
    },
    {
      "cell_type": "markdown",
      "metadata": {
        "id": "MBYct8YoAtJG"
      },
      "source": [
        "# ***3.Principal Component Analysis***\n",
        "\n",
        "---\n",
        "Principal component analysis (PCA) is a statistical procedure that uses an orthogonal transformation to convert a set of observations of possibly correlated variables into a set of values of linearly uncorrelated variables called principal components. This transformation is defined in such a way that the first principal component has the largest possible variance (that is, accounts for as much of the variability in the data as possible), and each succeeding component in turn has the highest variance possible under the constraint that it is orthogonal to the preceding components. The resulting vectors (each being a linear combination of the variables and containing n observations) are an uncorrelated orthogonal basis set. PCA is sensitive to the relative scaling of the original variables.\n",
        "\n"
      ]
    },
    {
      "cell_type": "code",
      "metadata": {
        "id": "npfQFH1N7BpH",
        "colab": {
          "base_uri": "https://localhost:8080/",
          "height": 34
        },
        "outputId": "0495c181-153c-4a0b-fe74-34b2f7fe282a"
      },
      "source": [
        "pca=PCA(n_components=3)#3D VIzualization\n",
        "fit=pca.fit(X1)\n",
        "print(f\"Explained Variance: {fit.explained_variance_ratio_}\")"
      ],
      "execution_count": null,
      "outputs": [
        {
          "output_type": "stream",
          "text": [
            "Explained Variance: [0.476 0.202 0.158]\n"
          ],
          "name": "stdout"
        }
      ]
    },
    {
      "cell_type": "code",
      "metadata": {
        "id": "DHQjHdgi7E7T"
      },
      "source": [
        "X=fit.transform(X1)"
      ],
      "execution_count": null,
      "outputs": []
    },
    {
      "cell_type": "code",
      "metadata": {
        "id": "OimKGRIY7yH0",
        "colab": {
          "base_uri": "https://localhost:8080/",
          "height": 136
        },
        "outputId": "fc6bca9a-17ab-4073-b287-d7f9397dc055"
      },
      "source": [
        "X"
      ],
      "execution_count": null,
      "outputs": [
        {
          "output_type": "execute_result",
          "data": {
            "text/plain": [
              "array([[-3.023, -2.067,  4.34 ],\n",
              "       [ 5.514,  1.904, -3.44 ],\n",
              "       [ 0.574, -0.968, -2.054],\n",
              "       ...,\n",
              "       [-3.497,  0.7  , -3.063],\n",
              "       [ 5.215,  3.642, -1.894],\n",
              "       [ 4.076,  2.232,  0.502]])"
            ]
          },
          "metadata": {
            "tags": []
          },
          "execution_count": 101
        }
      ]
    },
    {
      "cell_type": "code",
      "metadata": {
        "id": "4Xg1ipBK7ImL"
      },
      "source": [
        "Xtrain,Xtest,Ytrain,Ytest=train_test_split(X,Y,test_size=0.2,random_state=11)"
      ],
      "execution_count": null,
      "outputs": []
    },
    {
      "cell_type": "markdown",
      "metadata": {
        "id": "9qV07ZYlBtvr"
      },
      "source": [
        "LOGISTIC REGRESSION"
      ]
    },
    {
      "cell_type": "code",
      "metadata": {
        "id": "bVh2w-1b7241",
        "colab": {
          "base_uri": "https://localhost:8080/",
          "height": 170
        },
        "outputId": "c5ce5961-ceb8-4fc3-ffc8-f32aa41f993d"
      },
      "source": [
        "logreg=LogisticRegression(solver='lbfgs')\n",
        "logreg.fit(Xtrain,Ytrain)\n",
        "printing(logreg,Xtest,Ytest)"
      ],
      "execution_count": null,
      "outputs": [
        {
          "output_type": "stream",
          "text": [
            "The score is 89.20854576353484 %\n",
            "\n",
            "confusion matrix :\n",
            "[[7349  889]\n",
            " [   0    0]]\n",
            "\n",
            "The recall is 89.20854576353484 %\n",
            "\n",
            "The preicision is 100.0\n"
          ],
          "name": "stdout"
        }
      ]
    },
    {
      "cell_type": "markdown",
      "metadata": {
        "id": "fBLnJ-ZxCOHI"
      },
      "source": [
        "KNN"
      ]
    },
    {
      "cell_type": "code",
      "metadata": {
        "id": "XN47WPMC79X7",
        "colab": {
          "base_uri": "https://localhost:8080/",
          "height": 170
        },
        "outputId": "0121d0df-337e-4321-9acb-4b51ca1add23"
      },
      "source": [
        "Xtrain,Xtest,Ytrain,Ytest=train_test_split(X,Y,test_size=0.2,random_state=0)\n",
        "knn=KNeighborsClassifier()\n",
        "knn.fit(Xtrain,Ytrain)\n",
        "printing(knn,Xtest,Ytest)"
      ],
      "execution_count": null,
      "outputs": [
        {
          "output_type": "stream",
          "text": [
            "The score is 88.38310269482884 %\n",
            "\n",
            "confusion matrix :\n",
            "[[7152  784]\n",
            " [ 173  129]]\n",
            "\n",
            "The recall is 90.12096774193549 %\n",
            "\n",
            "The preicision is 97.6382252559727\n"
          ],
          "name": "stdout"
        }
      ]
    },
    {
      "cell_type": "markdown",
      "metadata": {
        "id": "BnHdPLLICRNo"
      },
      "source": [
        "SVC, kernel='rbf'"
      ]
    },
    {
      "cell_type": "code",
      "metadata": {
        "id": "d7EJ4-4g8MO8",
        "colab": {
          "base_uri": "https://localhost:8080/",
          "height": 170
        },
        "outputId": "7d6de854-bcbd-4d89-c28b-d044affa4b66"
      },
      "source": [
        "svc=SVC(kernel='rbf')\n",
        "svc.fit(Xtrain,Ytrain)\n",
        "printing(svc,Xtest,Ytest)"
      ],
      "execution_count": null,
      "outputs": [
        {
          "output_type": "stream",
          "text": [
            "The score is 88.91721291575625 %\n",
            "\n",
            "confusion matrix :\n",
            "[[7325  913]\n",
            " [   0    0]]\n",
            "\n",
            "The recall is 88.91721291575625 %\n",
            "\n",
            "The preicision is 100.0\n"
          ],
          "name": "stdout"
        }
      ]
    },
    {
      "cell_type": "markdown",
      "metadata": {
        "id": "a6WqyaKoX6Qq"
      },
      "source": [
        "SVC kernel='poly'"
      ]
    },
    {
      "cell_type": "code",
      "metadata": {
        "id": "wAmsRTxqX21e",
        "colab": {
          "base_uri": "https://localhost:8080/",
          "height": 170
        },
        "outputId": "4f5c2ed6-3602-4bd3-93ef-b6aaa4505939"
      },
      "source": [
        "svc=SVC(kernel='poly')\n",
        "svc.fit(Xtrain,Ytrain)\n",
        "printing(svc,Xtest,Ytest)"
      ],
      "execution_count": null,
      "outputs": [
        {
          "output_type": "stream",
          "text": [
            "The score is 88.91721291575625 %\n",
            "\n",
            "confusion matrix :\n",
            "[[7325  913]\n",
            " [   0    0]]\n",
            "\n",
            "The recall is 88.91721291575625 %\n",
            "\n",
            "The preicision is 100.0\n"
          ],
          "name": "stdout"
        }
      ]
    },
    {
      "cell_type": "markdown",
      "metadata": {
        "id": "PwLp8hKNYFem"
      },
      "source": [
        "SVC kernel='linear"
      ]
    },
    {
      "cell_type": "code",
      "metadata": {
        "id": "rQLG8u8QYARI",
        "colab": {
          "base_uri": "https://localhost:8080/",
          "height": 170
        },
        "outputId": "8a9bc4f8-e720-4d3a-c610-85f1f5fa748c"
      },
      "source": [
        "svc=SVC(kernel='linear')\n",
        "svc.fit(Xtrain,Ytrain)\n",
        "printing(svc,Xtest,Ytest)"
      ],
      "execution_count": null,
      "outputs": [
        {
          "output_type": "stream",
          "text": [
            "The score is 88.91721291575625 %\n",
            "\n",
            "confusion matrix :\n",
            "[[7325  913]\n",
            " [   0    0]]\n",
            "\n",
            "The recall is 88.91721291575625 %\n",
            "\n",
            "The preicision is 100.0\n"
          ],
          "name": "stdout"
        }
      ]
    },
    {
      "cell_type": "markdown",
      "metadata": {
        "id": "Gwa7v2oKCW66"
      },
      "source": [
        "SVM kernel='sigmoid'"
      ]
    },
    {
      "cell_type": "code",
      "metadata": {
        "id": "d-Szmauk8aUq",
        "colab": {
          "base_uri": "https://localhost:8080/",
          "height": 170
        },
        "outputId": "ebc507d1-f97d-4f64-ea5e-a5c923076048"
      },
      "source": [
        "Xtrain,Xtest,Ytrain,Ytest=train_test_split(X,Y,test_size=0.2,random_state=0)\n",
        "svc=SVC(kernel='sigmoid')\n",
        "svc.fit(Xtrain,Ytrain)\n",
        "printing(svc,Xtest,Ytest)"
      ],
      "execution_count": null,
      "outputs": [
        {
          "output_type": "stream",
          "text": [
            "The score is 80.56567127943676 %\n",
            "\n",
            "confusion matrix :\n",
            "[[6531  807]\n",
            " [ 794  106]]\n",
            "\n",
            "The recall is 89.00245298446443 %\n",
            "\n",
            "The preicision is 89.160409556314\n"
          ],
          "name": "stdout"
        }
      ]
    },
    {
      "cell_type": "markdown",
      "metadata": {
        "id": "vUtk-Oqo6bPK"
      },
      "source": [
        "NAIVE BAYES"
      ]
    },
    {
      "cell_type": "code",
      "metadata": {
        "id": "Ug2IkwZu1FKF",
        "colab": {
          "base_uri": "https://localhost:8080/",
          "height": 170
        },
        "outputId": "ebd15227-3183-463c-f617-a82b48c2e967"
      },
      "source": [
        "\n",
        "bayes.fit(Xtrain,Ytrain)\n",
        "printing(bayes,Xtest,Ytest)"
      ],
      "execution_count": null,
      "outputs": [
        {
          "output_type": "stream",
          "text": [
            "The score is 88.91721291575625 %\n",
            "\n",
            "confusion matrix :\n",
            "[[7325  913]\n",
            " [   0    0]]\n",
            "\n",
            "The recall is 88.91721291575625 %\n",
            "\n",
            "The preicision is 100.0\n"
          ],
          "name": "stdout"
        }
      ]
    },
    {
      "cell_type": "markdown",
      "metadata": {
        "id": "3Nthdc8XCmfj"
      },
      "source": [
        "# ***4.Feature Extraction***\n",
        "\n",
        "---\n",
        "\n",
        "\n",
        "\n"
      ]
    },
    {
      "cell_type": "code",
      "metadata": {
        "id": "8lC0qHbzHMux",
        "colab": {
          "base_uri": "https://localhost:8080/",
          "height": 51
        },
        "outputId": "2642a911-4d81-499a-a3cf-2483d01b385a"
      },
      "source": [
        "model=ExtraTreesClassifier(n_estimators=100)\n",
        "model.fit(X1,Y)\n",
        "print(model.feature_importances_)"
      ],
      "execution_count": null,
      "outputs": [
        {
          "output_type": "stream",
          "text": [
            "[0.087 0.057 0.034 0.053 0.01  0.027 0.02  0.014 0.017 0.05  0.264 0.059\n",
            " 0.058 0.013 0.027 0.023 0.028 0.111 0.048]\n"
          ],
          "name": "stdout"
        }
      ]
    },
    {
      "cell_type": "code",
      "metadata": {
        "id": "J5NwDn48HPwQ"
      },
      "source": [
        "great={}\n",
        "for col,val in zip(df.columns,model.feature_importances_):\n",
        "    great.update({col.ljust(30):val})"
      ],
      "execution_count": null,
      "outputs": []
    },
    {
      "cell_type": "code",
      "metadata": {
        "id": "BsvEUQi0Hoa2",
        "colab": {
          "base_uri": "https://localhost:8080/",
          "height": 68
        },
        "outputId": "df32d687-96b6-4798-ebe1-cdb7a006038f"
      },
      "source": [
        "import operator\n",
        "list(sorted(great.items(),key=operator.itemgetter(1),reverse=True))[:3]\n"
      ],
      "execution_count": null,
      "outputs": [
        {
          "output_type": "execute_result",
          "data": {
            "text/plain": [
              "[('duration                      ', 0.2643605625753761),\n",
              " ('euribor3m                     ', 0.1106795637851575),\n",
              " ('age                           ', 0.08692196342331898)]"
            ]
          },
          "metadata": {
            "tags": []
          },
          "execution_count": 112
        }
      ]
    },
    {
      "cell_type": "code",
      "metadata": {
        "id": "fx5VQmWJIPl5"
      },
      "source": [
        "X=df[[\"duration\",\"euribor3m\",\"age\"]]"
      ],
      "execution_count": null,
      "outputs": []
    },
    {
      "cell_type": "code",
      "metadata": {
        "id": "IaryudnEIiEl",
        "colab": {
          "base_uri": "https://localhost:8080/",
          "height": 170
        },
        "outputId": "f33a387a-a19e-4d3c-b0f8-5ae8fd1089a4"
      },
      "source": [
        "Xtrain,Xtest,Ytrain,Ytest=train_test_split(X,Y,test_size=0.2,random_state=11)\n",
        "logreg=LogisticRegression(solver='lbfgs')\n",
        "logreg.fit(Xtrain,Ytrain)\n",
        "printing(logreg,Xtest,Ytest)"
      ],
      "execution_count": null,
      "outputs": [
        {
          "output_type": "stream",
          "text": [
            "The score is 90.04612770089827 %\n",
            "\n",
            "confusion matrix :\n",
            "[[7222  693]\n",
            " [ 127  196]]\n",
            "\n",
            "The recall is 91.24447252053064 %\n",
            "\n",
            "The preicision is 98.27187372431624\n"
          ],
          "name": "stdout"
        }
      ]
    },
    {
      "cell_type": "markdown",
      "metadata": {
        "id": "_rvxN2jtPJtc"
      },
      "source": [
        "KNN"
      ]
    },
    {
      "cell_type": "code",
      "metadata": {
        "id": "wXvsnnTAIs7t",
        "colab": {
          "base_uri": "https://localhost:8080/",
          "height": 170
        },
        "outputId": "ca5723a6-93bd-4fdc-cae4-a55074d542dc"
      },
      "source": [
        "Xtrain,Xtest,Ytrain,Ytest=train_test_split(X,Y,test_size=0.2,random_state=11)\n",
        "knn=KNeighborsClassifier()\n",
        "knn.fit(Xtrain,Ytrain)\n",
        "printing(knn,Xtest,Ytest)"
      ],
      "execution_count": null,
      "outputs": [
        {
          "output_type": "stream",
          "text": [
            "The score is 90.45884923525126 %\n",
            "\n",
            "confusion matrix :\n",
            "[[7037  474]\n",
            " [ 312  415]]\n",
            "\n",
            "The recall is 93.68925575822128 %\n",
            "\n",
            "The preicision is 95.75452442509184\n"
          ],
          "name": "stdout"
        }
      ]
    },
    {
      "cell_type": "markdown",
      "metadata": {
        "id": "FWVI1uLPPEb4"
      },
      "source": [
        "SVC kernel='rbf'"
      ]
    },
    {
      "cell_type": "code",
      "metadata": {
        "id": "PVFqNHncI2SK",
        "colab": {
          "base_uri": "https://localhost:8080/",
          "height": 170
        },
        "outputId": "ceaed4c4-5dfd-4a20-bd2e-7b8b80274256"
      },
      "source": [
        "Xtrain,Xtest,Ytrain,Ytest=train_test_split(X,Y,test_size=0.2,random_state=0)\n",
        "svc=SVC(kernel='rbf')\n",
        "svc.fit(Xtrain,Ytrain)\n",
        "printing(svc,Xtest,Ytest)\n"
      ],
      "execution_count": null,
      "outputs": [
        {
          "output_type": "stream",
          "text": [
            "The score is 89.9975722262685 %\n",
            "\n",
            "confusion matrix :\n",
            "[[7220  719]\n",
            " [ 105  194]]\n",
            "\n",
            "The recall is 90.94344375865978 %\n",
            "\n",
            "The preicision is 98.5665529010239\n"
          ],
          "name": "stdout"
        }
      ]
    },
    {
      "cell_type": "markdown",
      "metadata": {
        "id": "42LBXeAyO91K"
      },
      "source": [
        "SVC kernel='poly'"
      ]
    },
    {
      "cell_type": "code",
      "metadata": {
        "id": "vQPSqgrWJFuJ",
        "colab": {
          "base_uri": "https://localhost:8080/",
          "height": 170
        },
        "outputId": "6e02fa8c-5efb-4af2-c565-4d9357c1f5d7"
      },
      "source": [
        "Xtrain,Xtest,Ytrain,Ytest=train_test_split(X,Y,test_size=0.2,random_state=0)\n",
        "svc=SVC(kernel='poly')\n",
        "svc.fit(Xtrain,Ytrain)\n",
        "printing(svc,Xtest,Ytest)"
      ],
      "execution_count": null,
      "outputs": [
        {
          "output_type": "stream",
          "text": [
            "The score is 89.3420733187667 %\n",
            "\n",
            "confusion matrix :\n",
            "[[7282  835]\n",
            " [  43   78]]\n",
            "\n",
            "The recall is 89.71294813354687 %\n",
            "\n",
            "The preicision is 99.41296928327645\n"
          ],
          "name": "stdout"
        }
      ]
    },
    {
      "cell_type": "markdown",
      "metadata": {
        "id": "BdxvsAWgO4RX"
      },
      "source": [
        "SVC kernel='sigmoid'"
      ]
    },
    {
      "cell_type": "code",
      "metadata": {
        "id": "Hrm-bIuvJcbv",
        "colab": {
          "base_uri": "https://localhost:8080/",
          "height": 170
        },
        "outputId": "3b2bdef0-6dfe-4920-f9b5-4e2acf35c781"
      },
      "source": [
        "Xtrain,Xtest,Ytrain,Ytest=train_test_split(X,Y,test_size=0.2,random_state=11)\n",
        "svc=SVC(kernel='sigmoid')\n",
        "svc.fit(Xtrain,Ytrain)\n",
        "printing(svc,Xtest,Ytest)"
      ],
      "execution_count": null,
      "outputs": [
        {
          "output_type": "stream",
          "text": [
            "The score is 83.3818888079631 %\n",
            "\n",
            "confusion matrix :\n",
            "[[6729  749]\n",
            " [ 620  140]]\n",
            "\n",
            "The recall is 89.98395292859053 %\n",
            "\n",
            "The preicision is 91.56347802422098\n"
          ],
          "name": "stdout"
        }
      ]
    },
    {
      "cell_type": "markdown",
      "metadata": {
        "id": "GP2_W7lPJQqY"
      },
      "source": [
        "SVC kernel='linear'"
      ]
    },
    {
      "cell_type": "code",
      "metadata": {
        "id": "WGuDIvepJfum",
        "colab": {
          "base_uri": "https://localhost:8080/",
          "height": 170
        },
        "outputId": "aff535fc-e2e0-404b-ee24-768efd66f9e9"
      },
      "source": [
        "Xtrain,Xtest,Ytrain,Ytest=train_test_split(X,Y,test_size=0.2,random_state=0)\n",
        "svc=SVC(kernel='linear')\n",
        "svc.fit(Xtrain,Ytrain)\n",
        "printing(svc,Xtest,Ytest)"
      ],
      "execution_count": null,
      "outputs": [
        {
          "output_type": "stream",
          "text": [
            "The score is 89.14785142024763 %\n",
            "\n",
            "confusion matrix :\n",
            "[[7312  881]\n",
            " [  13   32]]\n",
            "\n",
            "The recall is 89.24691810081778 %\n",
            "\n",
            "The preicision is 99.82252559726963\n"
          ],
          "name": "stdout"
        }
      ]
    },
    {
      "cell_type": "markdown",
      "metadata": {
        "id": "KDDEOqhhGAPI"
      },
      "source": [
        "Naive Bayes"
      ]
    },
    {
      "cell_type": "code",
      "metadata": {
        "id": "HoPVeWDvKofn",
        "colab": {
          "base_uri": "https://localhost:8080/",
          "height": 170
        },
        "outputId": "7dadc01c-6ab5-4af6-aac6-8d5a4b98a339"
      },
      "source": [
        "bayes.fit(Xtrain,Ytrain)\n",
        "printing(bayes,Xtest,Ytest)"
      ],
      "execution_count": null,
      "outputs": [
        {
          "output_type": "stream",
          "text": [
            "The score is 89.71837824714737 %\n",
            "\n",
            "confusion matrix :\n",
            "[[7080  602]\n",
            " [ 245  311]]\n",
            "\n",
            "The recall is 92.16349908877896 %\n",
            "\n",
            "The preicision is 96.65529010238907\n"
          ],
          "name": "stdout"
        }
      ]
    },
    {
      "cell_type": "code",
      "metadata": {
        "id": "zr9GoqpLYcqp"
      },
      "source": [
        ""
      ],
      "execution_count": null,
      "outputs": []
    }
  ]
}